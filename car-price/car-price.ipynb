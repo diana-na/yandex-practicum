{
 "cells": [
  {
   "cell_type": "markdown",
   "metadata": {},
   "source": [
    "# Определение стоимости автомобилей"
   ]
  },
  {
   "cell_type": "markdown",
   "metadata": {},
   "source": [
    "Сервис по продаже автомобилей с пробегом «Не бит, не крашен» разрабатывает приложение для привлечения новых клиентов. В нём можно быстро узнать рыночную стоимость своего автомобиля. В вашем распоряжении исторические данные: технические характеристики, комплектации и цены автомобилей. Вам нужно построить модель для определения стоимости. \n",
    "\n",
    "Заказчику важны:\n",
    "\n",
    "- качество предсказания;\n",
    "- скорость предсказания;\n",
    "- время обучения."
   ]
  },
  {
   "cell_type": "markdown",
   "metadata": {},
   "source": [
    "## Подготовка данных"
   ]
  },
  {
   "cell_type": "code",
   "execution_count": 3,
   "metadata": {},
   "outputs": [],
   "source": [
    "import pandas as pd\n",
    "from functools import reduce\n",
    "from lightgbm import LGBMRegressor\n",
    "from catboost import CatBoostRegressor\n",
    "from sklearn.model_selection import train_test_split, GridSearchCV, RandomizedSearchCV\n",
    "from sklearn.metrics import mean_squared_error\n",
    "from sklearn.compose import ColumnTransformer, make_column_transformer\n",
    "from sklearn.pipeline import Pipeline, make_pipeline\n",
    "from sklearn.preprocessing import StandardScaler, OrdinalEncoder, OneHotEncoder\n",
    "from sklearn.linear_model import LinearRegression\n",
    "from sklearn.ensemble import RandomForestRegressor\n",
    "from sklearn.tree import DecisionTreeRegressor\n",
    "from sklearn.dummy import DummyRegressor"
   ]
  },
  {
   "cell_type": "markdown",
   "metadata": {},
   "source": [
    "Ссылки на датасеты удалены из проекта, чтобы не нарушать авторские права Яндекса."
   ]
  },
  {
   "cell_type": "code",
   "execution_count": 4,
   "metadata": {},
   "outputs": [
    {
     "data": {
      "text/html": [
       "<div>\n",
       "<style scoped>\n",
       "    .dataframe tbody tr th:only-of-type {\n",
       "        vertical-align: middle;\n",
       "    }\n",
       "\n",
       "    .dataframe tbody tr th {\n",
       "        vertical-align: top;\n",
       "    }\n",
       "\n",
       "    .dataframe thead th {\n",
       "        text-align: right;\n",
       "    }\n",
       "</style>\n",
       "<table border=\"1\" class=\"dataframe\">\n",
       "  <thead>\n",
       "    <tr style=\"text-align: right;\">\n",
       "      <th></th>\n",
       "      <th>DateCrawled</th>\n",
       "      <th>Price</th>\n",
       "      <th>VehicleType</th>\n",
       "      <th>RegistrationYear</th>\n",
       "      <th>Gearbox</th>\n",
       "      <th>Power</th>\n",
       "      <th>Model</th>\n",
       "      <th>Kilometer</th>\n",
       "      <th>RegistrationMonth</th>\n",
       "      <th>FuelType</th>\n",
       "      <th>Brand</th>\n",
       "      <th>NotRepaired</th>\n",
       "      <th>DateCreated</th>\n",
       "      <th>NumberOfPictures</th>\n",
       "      <th>PostalCode</th>\n",
       "      <th>LastSeen</th>\n",
       "    </tr>\n",
       "  </thead>\n",
       "  <tbody>\n",
       "    <tr>\n",
       "      <td>0</td>\n",
       "      <td>2016-03-24 11:52:17</td>\n",
       "      <td>480</td>\n",
       "      <td>NaN</td>\n",
       "      <td>1993</td>\n",
       "      <td>manual</td>\n",
       "      <td>0</td>\n",
       "      <td>golf</td>\n",
       "      <td>150000</td>\n",
       "      <td>0</td>\n",
       "      <td>petrol</td>\n",
       "      <td>volkswagen</td>\n",
       "      <td>NaN</td>\n",
       "      <td>2016-03-24 00:00:00</td>\n",
       "      <td>0</td>\n",
       "      <td>70435</td>\n",
       "      <td>2016-04-07 03:16:57</td>\n",
       "    </tr>\n",
       "    <tr>\n",
       "      <td>1</td>\n",
       "      <td>2016-03-24 10:58:45</td>\n",
       "      <td>18300</td>\n",
       "      <td>coupe</td>\n",
       "      <td>2011</td>\n",
       "      <td>manual</td>\n",
       "      <td>190</td>\n",
       "      <td>NaN</td>\n",
       "      <td>125000</td>\n",
       "      <td>5</td>\n",
       "      <td>gasoline</td>\n",
       "      <td>audi</td>\n",
       "      <td>yes</td>\n",
       "      <td>2016-03-24 00:00:00</td>\n",
       "      <td>0</td>\n",
       "      <td>66954</td>\n",
       "      <td>2016-04-07 01:46:50</td>\n",
       "    </tr>\n",
       "    <tr>\n",
       "      <td>2</td>\n",
       "      <td>2016-03-14 12:52:21</td>\n",
       "      <td>9800</td>\n",
       "      <td>suv</td>\n",
       "      <td>2004</td>\n",
       "      <td>auto</td>\n",
       "      <td>163</td>\n",
       "      <td>grand</td>\n",
       "      <td>125000</td>\n",
       "      <td>8</td>\n",
       "      <td>gasoline</td>\n",
       "      <td>jeep</td>\n",
       "      <td>NaN</td>\n",
       "      <td>2016-03-14 00:00:00</td>\n",
       "      <td>0</td>\n",
       "      <td>90480</td>\n",
       "      <td>2016-04-05 12:47:46</td>\n",
       "    </tr>\n",
       "    <tr>\n",
       "      <td>3</td>\n",
       "      <td>2016-03-17 16:54:04</td>\n",
       "      <td>1500</td>\n",
       "      <td>small</td>\n",
       "      <td>2001</td>\n",
       "      <td>manual</td>\n",
       "      <td>75</td>\n",
       "      <td>golf</td>\n",
       "      <td>150000</td>\n",
       "      <td>6</td>\n",
       "      <td>petrol</td>\n",
       "      <td>volkswagen</td>\n",
       "      <td>no</td>\n",
       "      <td>2016-03-17 00:00:00</td>\n",
       "      <td>0</td>\n",
       "      <td>91074</td>\n",
       "      <td>2016-03-17 17:40:17</td>\n",
       "    </tr>\n",
       "    <tr>\n",
       "      <td>4</td>\n",
       "      <td>2016-03-31 17:25:20</td>\n",
       "      <td>3600</td>\n",
       "      <td>small</td>\n",
       "      <td>2008</td>\n",
       "      <td>manual</td>\n",
       "      <td>69</td>\n",
       "      <td>fabia</td>\n",
       "      <td>90000</td>\n",
       "      <td>7</td>\n",
       "      <td>gasoline</td>\n",
       "      <td>skoda</td>\n",
       "      <td>no</td>\n",
       "      <td>2016-03-31 00:00:00</td>\n",
       "      <td>0</td>\n",
       "      <td>60437</td>\n",
       "      <td>2016-04-06 10:17:21</td>\n",
       "    </tr>\n",
       "  </tbody>\n",
       "</table>\n",
       "</div>"
      ],
      "text/plain": [
       "           DateCrawled  Price VehicleType  RegistrationYear Gearbox  Power  \\\n",
       "0  2016-03-24 11:52:17    480         NaN              1993  manual      0   \n",
       "1  2016-03-24 10:58:45  18300       coupe              2011  manual    190   \n",
       "2  2016-03-14 12:52:21   9800         suv              2004    auto    163   \n",
       "3  2016-03-17 16:54:04   1500       small              2001  manual     75   \n",
       "4  2016-03-31 17:25:20   3600       small              2008  manual     69   \n",
       "\n",
       "   Model  Kilometer  RegistrationMonth  FuelType       Brand NotRepaired  \\\n",
       "0   golf     150000                  0    petrol  volkswagen         NaN   \n",
       "1    NaN     125000                  5  gasoline        audi         yes   \n",
       "2  grand     125000                  8  gasoline        jeep         NaN   \n",
       "3   golf     150000                  6    petrol  volkswagen          no   \n",
       "4  fabia      90000                  7  gasoline       skoda          no   \n",
       "\n",
       "           DateCreated  NumberOfPictures  PostalCode             LastSeen  \n",
       "0  2016-03-24 00:00:00                 0       70435  2016-04-07 03:16:57  \n",
       "1  2016-03-24 00:00:00                 0       66954  2016-04-07 01:46:50  \n",
       "2  2016-03-14 00:00:00                 0       90480  2016-04-05 12:47:46  \n",
       "3  2016-03-17 00:00:00                 0       91074  2016-03-17 17:40:17  \n",
       "4  2016-03-31 00:00:00                 0       60437  2016-04-06 10:17:21  "
      ]
     },
     "execution_count": 4,
     "metadata": {},
     "output_type": "execute_result"
    }
   ],
   "source": [
    "data = pd.read_csv('/datasets/autos.csv')\n",
    "data.head()"
   ]
  },
  {
   "cell_type": "code",
   "execution_count": 5,
   "metadata": {},
   "outputs": [],
   "source": [
    "def snake_case(str):  \n",
    "    \"\"\"Преобразование строк из camelCase в snake_case\"\"\"\n",
    "    return reduce(lambda x, y: x + ('_' if y.isupper() else '') + y, str).lower() "
   ]
  },
  {
   "cell_type": "code",
   "execution_count": 6,
   "metadata": {},
   "outputs": [],
   "source": [
    "data.columns = map(snake_case, data.columns)"
   ]
  },
  {
   "cell_type": "code",
   "execution_count": 7,
   "metadata": {},
   "outputs": [
    {
     "data": {
      "text/plain": [
       "0    354369\n",
       "Name: number_of_pictures, dtype: int64"
      ]
     },
     "execution_count": 7,
     "metadata": {},
     "output_type": "execute_result"
    }
   ],
   "source": [
    "data.number_of_pictures.value_counts()"
   ]
  },
  {
   "cell_type": "markdown",
   "metadata": {},
   "source": [
    "В данных есть признаки, которые не имеют предсказательной силы:\n",
    "- DateCrawled — дата скачивания анкеты из базы\n",
    "- DateCreated — дата создания анкеты\n",
    "- LastSeen — дата последней активности пользователя\n",
    "\n",
    "Их мы удаляем сразу, чтобы не отвлекаться, вместе с дубликатами в данных. Также удалим незаполненный столбец NumberOfPictures (количество фотографий автомобиля): в реальном проекте мы бы постарались дособрать пропущенные данные, но не сейчас."
   ]
  },
  {
   "cell_type": "code",
   "execution_count": 8,
   "metadata": {},
   "outputs": [],
   "source": [
    "data = data.drop(['date_crawled', 'date_created', 'last_seen', 'number_of_pictures'], axis=1)"
   ]
  },
  {
   "cell_type": "code",
   "execution_count": 9,
   "metadata": {},
   "outputs": [],
   "source": [
    "data = data.drop_duplicates()"
   ]
  },
  {
   "cell_type": "code",
   "execution_count": 10,
   "metadata": {},
   "outputs": [
    {
     "name": "stdout",
     "output_type": "stream",
     "text": [
      "<class 'pandas.core.frame.DataFrame'>\n",
      "Int64Index: 333036 entries, 0 to 354368\n",
      "Data columns (total 12 columns):\n",
      "price                 333036 non-null int64\n",
      "vehicle_type          296896 non-null object\n",
      "registration_year     333036 non-null int64\n",
      "gearbox               314021 non-null object\n",
      "power                 333036 non-null int64\n",
      "model                 314013 non-null object\n",
      "kilometer             333036 non-null int64\n",
      "registration_month    333036 non-null int64\n",
      "fuel_type             301134 non-null object\n",
      "brand                 333036 non-null object\n",
      "not_repaired          264973 non-null object\n",
      "postal_code           333036 non-null int64\n",
      "dtypes: int64(6), object(6)\n",
      "memory usage: 33.0+ MB\n"
     ]
    }
   ],
   "source": [
    "data.info()"
   ]
  },
  {
   "cell_type": "code",
   "execution_count": 11,
   "metadata": {
    "scrolled": true
   },
   "outputs": [
    {
     "data": {
      "text/plain": [
       "volkswagen        72168\n",
       "opel              37469\n",
       "bmw               34523\n",
       "mercedes_benz     30180\n",
       "audi              27600\n",
       "ford              23696\n",
       "renault           16913\n",
       "peugeot           10281\n",
       "fiat               9081\n",
       "seat               6485\n",
       "mazda              5304\n",
       "skoda              5148\n",
       "smart              4975\n",
       "citroen            4889\n",
       "nissan             4655\n",
       "toyota             4377\n",
       "hyundai            3377\n",
       "sonstige_autos     3240\n",
       "volvo              2989\n",
       "mini               2982\n",
       "mitsubishi         2881\n",
       "honda              2696\n",
       "kia                2298\n",
       "suzuki             2201\n",
       "alfa_romeo         2200\n",
       "chevrolet          1664\n",
       "chrysler           1373\n",
       "dacia               844\n",
       "daihatsu            765\n",
       "subaru              732\n",
       "porsche             713\n",
       "jeep                646\n",
       "trabant             569\n",
       "land_rover          515\n",
       "daewoo              515\n",
       "saab                491\n",
       "jaguar              480\n",
       "rover               459\n",
       "lancia              447\n",
       "lada                215\n",
       "Name: brand, dtype: int64"
      ]
     },
     "execution_count": 11,
     "metadata": {},
     "output_type": "execute_result"
    }
   ],
   "source": [
    "data.brand.value_counts()"
   ]
  },
  {
   "cell_type": "markdown",
   "metadata": {},
   "source": [
    "С признаком Brand (марка автомобиля) все хорошо: пропусков нет, и нет повторов в разных формах - это хорошо: не придется делать лемматизацию.\n",
    "\n",
    "В столбцах с пропущенными значениями:\n",
    "- VehicleType — тип автомобильного кузова\n",
    "- Gearbox — тип коробки передач\n",
    "- Model — модель автомобиля\n",
    "- FuelType — тип топлива\n",
    "- NotRepaired — была машина в ремонте или нет\n",
    "\n",
    "введем новую категорию ‘unknown’ - это сохранит для модели больше данных. "
   ]
  },
  {
   "cell_type": "code",
   "execution_count": 12,
   "metadata": {},
   "outputs": [],
   "source": [
    "data = data.fillna('unknown')"
   ]
  },
  {
   "cell_type": "code",
   "execution_count": 13,
   "metadata": {},
   "outputs": [
    {
     "data": {
      "text/html": [
       "<div>\n",
       "<style scoped>\n",
       "    .dataframe tbody tr th:only-of-type {\n",
       "        vertical-align: middle;\n",
       "    }\n",
       "\n",
       "    .dataframe tbody tr th {\n",
       "        vertical-align: top;\n",
       "    }\n",
       "\n",
       "    .dataframe thead th {\n",
       "        text-align: right;\n",
       "    }\n",
       "</style>\n",
       "<table border=\"1\" class=\"dataframe\">\n",
       "  <thead>\n",
       "    <tr style=\"text-align: right;\">\n",
       "      <th></th>\n",
       "      <th>vehicle_type</th>\n",
       "      <th>gearbox</th>\n",
       "      <th>model</th>\n",
       "      <th>fuel_type</th>\n",
       "      <th>brand</th>\n",
       "      <th>not_repaired</th>\n",
       "    </tr>\n",
       "  </thead>\n",
       "  <tbody>\n",
       "    <tr>\n",
       "      <td>count</td>\n",
       "      <td>333036</td>\n",
       "      <td>333036</td>\n",
       "      <td>333036</td>\n",
       "      <td>333036</td>\n",
       "      <td>333036</td>\n",
       "      <td>333036</td>\n",
       "    </tr>\n",
       "    <tr>\n",
       "      <td>unique</td>\n",
       "      <td>9</td>\n",
       "      <td>3</td>\n",
       "      <td>251</td>\n",
       "      <td>8</td>\n",
       "      <td>40</td>\n",
       "      <td>3</td>\n",
       "    </tr>\n",
       "    <tr>\n",
       "      <td>top</td>\n",
       "      <td>sedan</td>\n",
       "      <td>manual</td>\n",
       "      <td>golf</td>\n",
       "      <td>petrol</td>\n",
       "      <td>volkswagen</td>\n",
       "      <td>no</td>\n",
       "    </tr>\n",
       "    <tr>\n",
       "      <td>freq</td>\n",
       "      <td>85642</td>\n",
       "      <td>252216</td>\n",
       "      <td>27402</td>\n",
       "      <td>203192</td>\n",
       "      <td>72168</td>\n",
       "      <td>230326</td>\n",
       "    </tr>\n",
       "  </tbody>\n",
       "</table>\n",
       "</div>"
      ],
      "text/plain": [
       "       vehicle_type gearbox   model fuel_type       brand not_repaired\n",
       "count        333036  333036  333036    333036      333036       333036\n",
       "unique            9       3     251         8          40            3\n",
       "top           sedan  manual    golf    petrol  volkswagen           no\n",
       "freq          85642  252216   27402    203192       72168       230326"
      ]
     },
     "execution_count": 13,
     "metadata": {},
     "output_type": "execute_result"
    }
   ],
   "source": [
    "data.describe(include=object)"
   ]
  },
  {
   "cell_type": "markdown",
   "metadata": {},
   "source": [
    "Посмотрим теперь, как распределены целочисленные признаки:\n",
    "- RegistrationYear — год регистрации автомобиля\n",
    "- Power — мощность (л. с.)\n",
    "- Kilometer — пробег (км)\n",
    "- RegistrationMonth — месяц регистрации автомобиля\n",
    "- PostalCode — почтовый индекс владельца анкеты (пользователя)\n"
   ]
  },
  {
   "cell_type": "code",
   "execution_count": 14,
   "metadata": {},
   "outputs": [
    {
     "data": {
      "text/html": [
       "<div>\n",
       "<style scoped>\n",
       "    .dataframe tbody tr th:only-of-type {\n",
       "        vertical-align: middle;\n",
       "    }\n",
       "\n",
       "    .dataframe tbody tr th {\n",
       "        vertical-align: top;\n",
       "    }\n",
       "\n",
       "    .dataframe thead th {\n",
       "        text-align: right;\n",
       "    }\n",
       "</style>\n",
       "<table border=\"1\" class=\"dataframe\">\n",
       "  <thead>\n",
       "    <tr style=\"text-align: right;\">\n",
       "      <th></th>\n",
       "      <th>price</th>\n",
       "      <th>registration_year</th>\n",
       "      <th>power</th>\n",
       "      <th>kilometer</th>\n",
       "      <th>registration_month</th>\n",
       "      <th>postal_code</th>\n",
       "    </tr>\n",
       "  </thead>\n",
       "  <tbody>\n",
       "    <tr>\n",
       "      <td>count</td>\n",
       "      <td>333036.000000</td>\n",
       "      <td>333036.000000</td>\n",
       "      <td>333036.000000</td>\n",
       "      <td>333036.000000</td>\n",
       "      <td>333036.000000</td>\n",
       "      <td>333036.000000</td>\n",
       "    </tr>\n",
       "    <tr>\n",
       "      <td>mean</td>\n",
       "      <td>4378.277586</td>\n",
       "      <td>2004.192268</td>\n",
       "      <td>109.753225</td>\n",
       "      <td>128305.678665</td>\n",
       "      <td>5.694141</td>\n",
       "      <td>50689.740136</td>\n",
       "    </tr>\n",
       "    <tr>\n",
       "      <td>std</td>\n",
       "      <td>4502.534823</td>\n",
       "      <td>90.288761</td>\n",
       "      <td>194.288179</td>\n",
       "      <td>37900.007564</td>\n",
       "      <td>3.728757</td>\n",
       "      <td>25804.455970</td>\n",
       "    </tr>\n",
       "    <tr>\n",
       "      <td>min</td>\n",
       "      <td>0.000000</td>\n",
       "      <td>1000.000000</td>\n",
       "      <td>0.000000</td>\n",
       "      <td>5000.000000</td>\n",
       "      <td>0.000000</td>\n",
       "      <td>1067.000000</td>\n",
       "    </tr>\n",
       "    <tr>\n",
       "      <td>25%</td>\n",
       "      <td>1000.000000</td>\n",
       "      <td>1999.000000</td>\n",
       "      <td>68.000000</td>\n",
       "      <td>125000.000000</td>\n",
       "      <td>3.000000</td>\n",
       "      <td>30179.000000</td>\n",
       "    </tr>\n",
       "    <tr>\n",
       "      <td>50%</td>\n",
       "      <td>2699.000000</td>\n",
       "      <td>2003.000000</td>\n",
       "      <td>103.000000</td>\n",
       "      <td>150000.000000</td>\n",
       "      <td>6.000000</td>\n",
       "      <td>49479.000000</td>\n",
       "    </tr>\n",
       "    <tr>\n",
       "      <td>75%</td>\n",
       "      <td>6299.250000</td>\n",
       "      <td>2008.000000</td>\n",
       "      <td>140.000000</td>\n",
       "      <td>150000.000000</td>\n",
       "      <td>9.000000</td>\n",
       "      <td>71334.000000</td>\n",
       "    </tr>\n",
       "    <tr>\n",
       "      <td>max</td>\n",
       "      <td>20000.000000</td>\n",
       "      <td>9999.000000</td>\n",
       "      <td>20000.000000</td>\n",
       "      <td>150000.000000</td>\n",
       "      <td>12.000000</td>\n",
       "      <td>99998.000000</td>\n",
       "    </tr>\n",
       "  </tbody>\n",
       "</table>\n",
       "</div>"
      ],
      "text/plain": [
       "               price  registration_year          power      kilometer  \\\n",
       "count  333036.000000      333036.000000  333036.000000  333036.000000   \n",
       "mean     4378.277586        2004.192268     109.753225  128305.678665   \n",
       "std      4502.534823          90.288761     194.288179   37900.007564   \n",
       "min         0.000000        1000.000000       0.000000    5000.000000   \n",
       "25%      1000.000000        1999.000000      68.000000  125000.000000   \n",
       "50%      2699.000000        2003.000000     103.000000  150000.000000   \n",
       "75%      6299.250000        2008.000000     140.000000  150000.000000   \n",
       "max     20000.000000        9999.000000   20000.000000  150000.000000   \n",
       "\n",
       "       registration_month    postal_code  \n",
       "count       333036.000000  333036.000000  \n",
       "mean             5.694141   50689.740136  \n",
       "std              3.728757   25804.455970  \n",
       "min              0.000000    1067.000000  \n",
       "25%              3.000000   30179.000000  \n",
       "50%              6.000000   49479.000000  \n",
       "75%              9.000000   71334.000000  \n",
       "max             12.000000   99998.000000  "
      ]
     },
     "execution_count": 14,
     "metadata": {},
     "output_type": "execute_result"
    }
   ],
   "source": [
    "data.describe()"
   ]
  },
  {
   "cell_type": "markdown",
   "metadata": {},
   "source": [
    "Минимальные значения в столбцах price (0), registration_year (1000), power (0), registration_month (0) можно считать артефактами, возможно, вызванными тем, что эти поля обязательны для заполнения.\n",
    "\n",
    "Есть выбивающиеся значения: максимальные значения в столбцах registration_year и power значительно больше 75% квартиля, то есть сильно превышают 75% значений в выборке по соответствующему параметру."
   ]
  },
  {
   "cell_type": "code",
   "execution_count": 15,
   "metadata": {},
   "outputs": [],
   "source": [
    "data = data[data['price'] != 0]"
   ]
  },
  {
   "cell_type": "markdown",
   "metadata": {},
   "source": [
    "Удалим из датасета значения, на которых цена равна 0, поскольку они не помогут обучению модели."
   ]
  },
  {
   "cell_type": "code",
   "execution_count": 16,
   "metadata": {},
   "outputs": [
    {
     "name": "stdout",
     "output_type": "stream",
     "text": [
      "Процент значений с месяцем регистрации = 0 - 9.79%\n"
     ]
    }
   ],
   "source": [
    "print('Процент значений с месяцем регистрации = 0 - {:.2%}'.format(\n",
    "    len(data[data['registration_month'] == 0]) / len(data)))"
   ]
  },
  {
   "cell_type": "markdown",
   "metadata": {},
   "source": [
    "Процент значений с нулевым месяцем регистрации слишком велик, поэтому будем воспринимать его как неизвестное значение месяца регистрации и удалять не будем."
   ]
  },
  {
   "cell_type": "code",
   "execution_count": 17,
   "metadata": {},
   "outputs": [
    {
     "name": "stdout",
     "output_type": "stream",
     "text": [
      "Процент значений с годом регистрации > 2021 либо < 1980 - 0.98%\n"
     ]
    }
   ],
   "source": [
    "print('Процент значений с годом регистрации > 2021 либо < 1980 - {:.2%}'.format\n",
    "      (len(data[(data['registration_year'] < 1980) | (data['registration_year'] > 2021)]) / len(data)))\n",
    "data = data[(data['registration_year'] > 1980) & (data['registration_year'] < 2021)]"
   ]
  },
  {
   "cell_type": "markdown",
   "metadata": {},
   "source": [
    "Данные, у которых год регистрации больше 2021 либо меньше 1980 не вызывают доверия, к тому же, их количество невелико, чтобы сделать по ним какие-то выводы - можно удалять."
   ]
  },
  {
   "cell_type": "code",
   "execution_count": 18,
   "metadata": {},
   "outputs": [
    {
     "name": "stdout",
     "output_type": "stream",
     "text": [
      "Процент значений с мощностью > 400 л.с. - 0.21%\n"
     ]
    }
   ],
   "source": [
    "print('Процент значений с мощностью > 400 л.с. - {:.2%}'.format(\n",
    "    len(data[data['power'] > 400]) / len(data)))\n",
    "data = data[data['power'] < 400]"
   ]
  },
  {
   "cell_type": "markdown",
   "metadata": {},
   "source": [
    "Как правило, мощность не превышает 140 л.с., 75% машин в выборке имеют меньшую мощность. Машин мощностью больше 400 л.с. в выборке меньше 1%. Это либо выбросы, либо действительные значения, число которых, в любом случае, слишком мало, чтобы делать по ним какие-то выводы о зависимости цены машины от сверхвысокой мощности, наверное, имеет смысл выделить их в отдельную категорию мощных авто, собрать больше данных и построить модель, но в дальнейшем исследовании их можно отбросить.\n",
    "\n",
    "Итак, данные предобработаны."
   ]
  },
  {
   "cell_type": "markdown",
   "metadata": {},
   "source": [
    "## Обучение моделей"
   ]
  },
  {
   "cell_type": "code",
   "execution_count": 19,
   "metadata": {},
   "outputs": [],
   "source": [
    "# зафиксируем значение параметра random_state, чтобы результаты нашей работы были воспроизводимы\n",
    "state = 12345"
   ]
  },
  {
   "cell_type": "markdown",
   "metadata": {},
   "source": [
    "Делим данные только на 2 выборки: тренировочную (для обучения модели) и тестовую (для финальной проверки): для подбора гиперпараметров будем использовать кроссвалидацию."
   ]
  },
  {
   "cell_type": "code",
   "execution_count": 20,
   "metadata": {},
   "outputs": [],
   "source": [
    "features_train, features_test, target_train, target_test = train_test_split(\n",
    "    data.drop('price', axis=1), data.price,\n",
    "    test_size=0.25, random_state=state)"
   ]
  },
  {
   "cell_type": "markdown",
   "metadata": {},
   "source": [
    "Запишем все категориальные признаки в переменную cat_features, чтобы передать их модели. Пропуски в признаках, записанные как новые значения 'unknown' для CatBoost и LightGBM не проблема, для библиотек они — это отдельная категория."
   ]
  },
  {
   "cell_type": "code",
   "execution_count": 21,
   "metadata": {},
   "outputs": [
    {
     "data": {
      "text/plain": [
       "['vehicle_type', 'gearbox', 'model', 'fuel_type', 'brand', 'not_repaired']"
      ]
     },
     "execution_count": 21,
     "metadata": {},
     "output_type": "execute_result"
    }
   ],
   "source": [
    "cat_features = features_train.select_dtypes('object').columns.tolist()\n",
    "cat_features"
   ]
  },
  {
   "cell_type": "markdown",
   "metadata": {},
   "source": [
    "Обучим 4 модели:\n",
    "\n",
    "- Модель градиентного бустинга с использованием библиотеки CatBoost\n",
    "- Модель градиентного бустинга с использованием библиотеки LightGBM\n",
    "- Линейную регрессию\n",
    "- Случайный лес\n",
    "\n",
    "Для каждой попробуем различные гиперпараметры."
   ]
  },
  {
   "cell_type": "code",
   "execution_count": 22,
   "metadata": {},
   "outputs": [],
   "source": [
    "def rmse(model, features, target):\n",
    "    pred = model.predict(features)\n",
    "    return mean_squared_error(target, pred) ** 0.5"
   ]
  },
  {
   "cell_type": "code",
   "execution_count": 23,
   "metadata": {},
   "outputs": [
    {
     "name": "stdout",
     "output_type": "stream",
     "text": [
      "0:\tloss: 2082.1231034\tbest: 2082.1231034 (0)\ttotal: 29.6s\tremaining: 1m 28s\n",
      "1:\tloss: 1810.0471695\tbest: 1810.0471695 (1)\ttotal: 57.4s\tremaining: 57.4s\n",
      "2:\tloss: 1883.2501867\tbest: 1810.0471695 (1)\ttotal: 1m 46s\tremaining: 35.5s\n",
      "3:\tloss: 1662.1008746\tbest: 1662.1008746 (3)\ttotal: 2m 35s\tremaining: 0us\n",
      "Estimating final quality...\n",
      "CPU times: user 5min 18s, sys: 29.5 s, total: 5min 48s\n",
      "Wall time: 5min 53s\n"
     ]
    }
   ],
   "source": [
    "%%time\n",
    "\n",
    "cat_boost = CatBoostRegressor(iterations=100, cat_features=cat_features)\n",
    "grid = {'learning_rate': [0.03, 0.1],\n",
    "        'depth': [5, 10]}\n",
    "\n",
    "cat_boost_search = cat_boost.randomized_search(grid,\n",
    "                                                   X=features_train,\n",
    "                                                   y=target_train)"
   ]
  },
  {
   "cell_type": "code",
   "execution_count": 24,
   "metadata": {
    "scrolled": false
   },
   "outputs": [],
   "source": [
    "lgbm = LGBMRegressor()\n",
    "features_train[cat_features] = features_train[cat_features].astype('category')\n",
    "features_test[cat_features] = features_test[cat_features].astype('category')"
   ]
  },
  {
   "cell_type": "code",
   "execution_count": 25,
   "metadata": {},
   "outputs": [],
   "source": [
    "grid = {'learning_rate': [0.03, 0.1],\n",
    "         'depth': [5, 10]}\n",
    "lgbm_search = RandomizedSearchCV(lgbm, grid,\n",
    "                  cv=3, scoring='neg_mean_squared_error', n_iter=10, random_state=state)"
   ]
  },
  {
   "cell_type": "code",
   "execution_count": 26,
   "metadata": {},
   "outputs": [
    {
     "name": "stderr",
     "output_type": "stream",
     "text": [
      "/opt/conda/lib/python3.7/site-packages/sklearn/model_selection/_search.py:266: UserWarning: The total space of parameters 4 is smaller than n_iter=10. Running 4 iterations. For exhaustive searches, use GridSearchCV.\n",
      "  % (grid_size, self.n_iter, grid_size), UserWarning)\n"
     ]
    },
    {
     "name": "stdout",
     "output_type": "stream",
     "text": [
      "CPU times: user 2min, sys: 0 ns, total: 2min\n",
      "Wall time: 2min 1s\n"
     ]
    },
    {
     "data": {
      "text/plain": [
       "RandomizedSearchCV(cv=3, error_score='raise-deprecating',\n",
       "                   estimator=LGBMRegressor(boosting_type='gbdt',\n",
       "                                           class_weight=None,\n",
       "                                           colsample_bytree=1.0,\n",
       "                                           importance_type='split',\n",
       "                                           learning_rate=0.1, max_depth=-1,\n",
       "                                           min_child_samples=20,\n",
       "                                           min_child_weight=0.001,\n",
       "                                           min_split_gain=0.0, n_estimators=100,\n",
       "                                           n_jobs=-1, num_leaves=31,\n",
       "                                           objective=None, random_state=None,\n",
       "                                           reg_alpha=0.0, reg_lambda=0.0,\n",
       "                                           silent=True, subsample=1.0,\n",
       "                                           subsample_for_bin=200000,\n",
       "                                           subsample_freq=0),\n",
       "                   iid='warn', n_iter=10, n_jobs=None,\n",
       "                   param_distributions={'depth': [5, 10],\n",
       "                                        'learning_rate': [0.03, 0.1]},\n",
       "                   pre_dispatch='2*n_jobs', random_state=12345, refit=True,\n",
       "                   return_train_score=False, scoring='neg_mean_squared_error',\n",
       "                   verbose=0)"
      ]
     },
     "execution_count": 26,
     "metadata": {},
     "output_type": "execute_result"
    }
   ],
   "source": [
    "%%time\n",
    "lgbm_search.fit(features_train, target_train)"
   ]
  },
  {
   "cell_type": "markdown",
   "metadata": {},
   "source": [
    "Рассмотренные выше библиотеки \"из коробки\" применяли различные техники кодирования категориальных признаков. Перед тем, как обучать более простые модели, признаки необходимо закодировать.\n",
    "\n",
    "Будем использовать One-Hot Encoding для всех категориальных признаков кроме модели, для модели используем OrdinalEncoder. Вообще, это не очень хорошо для категориальных признаков, в которых нет внутреннего порядка, поскольку OrdinalEncoder добавляет в них упорядоченность, которая не имеет никакого значения, однако у нас слишком много вариантов моделей автомобилей, поэтому использование One-Hot Encoding наплодит кучу ненужных столбцов - из двух зол выбираем OrdinalEncoder.  "
   ]
  },
  {
   "cell_type": "code",
   "execution_count": 27,
   "metadata": {},
   "outputs": [],
   "source": [
    "data_enc = data.copy()\n",
    "enc = OrdinalEncoder()\n",
    "data_enc[['model']] = enc.fit_transform(data[['model']])\n",
    "data_enc = pd.get_dummies(data_enc, drop_first=True)"
   ]
  },
  {
   "cell_type": "markdown",
   "metadata": {},
   "source": [
    "Разделим закодированные данные на тренировочную и тестовую выборки."
   ]
  },
  {
   "cell_type": "code",
   "execution_count": 28,
   "metadata": {},
   "outputs": [],
   "source": [
    "features_train_enc, features_test_enc, target_train_enc, target_test_enc = train_test_split(\n",
    "    data_enc.drop('price', axis=1), data_enc.price,\n",
    "    test_size=0.25, random_state=state)"
   ]
  },
  {
   "cell_type": "markdown",
   "metadata": {},
   "source": [
    "Данные разного масштаба необходимо привести к одному, используем для этого StandardScaler. Чтобы не допустить утечки данных, масштабирование будет проходить на фолдах кроссвалидации."
   ]
  },
  {
   "cell_type": "code",
   "execution_count": 29,
   "metadata": {},
   "outputs": [],
   "source": [
    "scaler = ColumnTransformer(transformers=[\n",
    "    ('std', StandardScaler(), ['registration_year', 'power', 'kilometer', 'postal_code'])],\n",
    "    remainder='passthrough', verbose=10)\n",
    "\n",
    "pipe_rf = Pipeline(steps=[('scale', scaler),\n",
    "                          ('forest', RandomForestRegressor(n_estimators=10, random_state=state))],\n",
    "                  verbose=10)\n",
    "\n",
    "grid_params_rf = {'forest__n_estimators': range(10,20,5)}\n",
    "\n",
    "rf = RandomizedSearchCV(pipe_rf, grid_params_rf,\n",
    "                  cv=5, scoring='neg_mean_squared_error', n_iter=1, random_state=state)"
   ]
  },
  {
   "cell_type": "code",
   "execution_count": 30,
   "metadata": {
    "scrolled": true
   },
   "outputs": [
    {
     "name": "stdout",
     "output_type": "stream",
     "text": [
      "[ColumnTransformer] ........... (1 of 2) Processing std, total=   0.0s\n",
      "[ColumnTransformer] ..... (2 of 2) Processing remainder, total=   0.0s\n",
      "[Pipeline] ............. (step 1 of 2) Processing scale, total=   0.1s\n",
      "[Pipeline] ............ (step 2 of 2) Processing forest, total=  34.4s\n",
      "[ColumnTransformer] ........... (1 of 2) Processing std, total=   0.0s\n",
      "[ColumnTransformer] ..... (2 of 2) Processing remainder, total=   0.0s\n",
      "[Pipeline] ............. (step 1 of 2) Processing scale, total=   0.1s\n",
      "[Pipeline] ............ (step 2 of 2) Processing forest, total=  34.7s\n",
      "[ColumnTransformer] ........... (1 of 2) Processing std, total=   0.0s\n",
      "[ColumnTransformer] ..... (2 of 2) Processing remainder, total=   0.0s\n",
      "[Pipeline] ............. (step 1 of 2) Processing scale, total=   0.1s\n",
      "[Pipeline] ............ (step 2 of 2) Processing forest, total=  33.6s\n",
      "[ColumnTransformer] ........... (1 of 2) Processing std, total=   0.0s\n",
      "[ColumnTransformer] ..... (2 of 2) Processing remainder, total=   0.0s\n",
      "[Pipeline] ............. (step 1 of 2) Processing scale, total=   0.1s\n",
      "[Pipeline] ............ (step 2 of 2) Processing forest, total=  34.2s\n",
      "[ColumnTransformer] ........... (1 of 2) Processing std, total=   0.0s\n",
      "[ColumnTransformer] ..... (2 of 2) Processing remainder, total=   0.0s\n",
      "[Pipeline] ............. (step 1 of 2) Processing scale, total=   0.1s\n",
      "[Pipeline] ............ (step 2 of 2) Processing forest, total=  34.2s\n",
      "[ColumnTransformer] ........... (1 of 2) Processing std, total=   0.0s\n",
      "[ColumnTransformer] ..... (2 of 2) Processing remainder, total=   0.0s\n",
      "[Pipeline] ............. (step 1 of 2) Processing scale, total=   0.1s\n",
      "[Pipeline] ............ (step 2 of 2) Processing forest, total=  46.4s\n",
      "CPU times: user 3min 37s, sys: 470 ms, total: 3min 38s\n",
      "Wall time: 3min 41s\n"
     ]
    },
    {
     "data": {
      "text/plain": [
       "RandomizedSearchCV(cv=5, error_score='raise-deprecating',\n",
       "                   estimator=Pipeline(memory=None,\n",
       "                                      steps=[('scale',\n",
       "                                              ColumnTransformer(n_jobs=None,\n",
       "                                                                remainder='passthrough',\n",
       "                                                                sparse_threshold=0.3,\n",
       "                                                                transformer_weights=None,\n",
       "                                                                transformers=[('std',\n",
       "                                                                               StandardScaler(copy=True,\n",
       "                                                                                              with_mean=True,\n",
       "                                                                                              with_std=True),\n",
       "                                                                               ['registration_year',\n",
       "                                                                                'power',\n",
       "                                                                                'kilometer',\n",
       "                                                                                'postal_code'])],\n",
       "                                                                verbose=10)),...\n",
       "                                                                    min_samples_split=2,\n",
       "                                                                    min_weight_fraction_leaf=0.0,\n",
       "                                                                    n_estimators=10,\n",
       "                                                                    n_jobs=None,\n",
       "                                                                    oob_score=False,\n",
       "                                                                    random_state=12345,\n",
       "                                                                    verbose=0,\n",
       "                                                                    warm_start=False))],\n",
       "                                      verbose=10),\n",
       "                   iid='warn', n_iter=1, n_jobs=None,\n",
       "                   param_distributions={'forest__n_estimators': range(10, 20, 5)},\n",
       "                   pre_dispatch='2*n_jobs', random_state=12345, refit=True,\n",
       "                   return_train_score=False, scoring='neg_mean_squared_error',\n",
       "                   verbose=0)"
      ]
     },
     "execution_count": 30,
     "metadata": {},
     "output_type": "execute_result"
    }
   ],
   "source": [
    "%%time\n",
    "rf.fit(features_train_enc, target_train_enc)"
   ]
  },
  {
   "cell_type": "code",
   "execution_count": 31,
   "metadata": {},
   "outputs": [],
   "source": [
    "pipe_lr = Pipeline(steps=[('scale', scaler),\n",
    "                          ('lin', LinearRegression())],\n",
    "                  verbose=10)"
   ]
  },
  {
   "cell_type": "code",
   "execution_count": 32,
   "metadata": {},
   "outputs": [
    {
     "name": "stdout",
     "output_type": "stream",
     "text": [
      "[ColumnTransformer] ........... (1 of 2) Processing std, total=   0.0s\n",
      "[ColumnTransformer] ..... (2 of 2) Processing remainder, total=   0.0s\n",
      "[Pipeline] ............. (step 1 of 2) Processing scale, total=   0.2s\n",
      "[Pipeline] ............... (step 2 of 2) Processing lin, total=   4.4s\n",
      "CPU times: user 3.5 s, sys: 1.13 s, total: 4.63 s\n",
      "Wall time: 4.58 s\n"
     ]
    },
    {
     "data": {
      "text/plain": [
       "Pipeline(memory=None,\n",
       "         steps=[('scale',\n",
       "                 ColumnTransformer(n_jobs=None, remainder='passthrough',\n",
       "                                   sparse_threshold=0.3,\n",
       "                                   transformer_weights=None,\n",
       "                                   transformers=[('std',\n",
       "                                                  StandardScaler(copy=True,\n",
       "                                                                 with_mean=True,\n",
       "                                                                 with_std=True),\n",
       "                                                  ['registration_year', 'power',\n",
       "                                                   'kilometer',\n",
       "                                                   'postal_code'])],\n",
       "                                   verbose=10)),\n",
       "                ('lin',\n",
       "                 LinearRegression(copy_X=True, fit_intercept=True, n_jobs=None,\n",
       "                                  normalize=False))],\n",
       "         verbose=10)"
      ]
     },
     "execution_count": 32,
     "metadata": {},
     "output_type": "execute_result"
    }
   ],
   "source": [
    "%%time\n",
    "pipe_lr.fit(features_train_enc, target_train_enc)"
   ]
  },
  {
   "cell_type": "markdown",
   "metadata": {},
   "source": [
    "Обучим также константную модель, чтобы было с чем сравнить модели."
   ]
  },
  {
   "cell_type": "code",
   "execution_count": 33,
   "metadata": {},
   "outputs": [
    {
     "name": "stdout",
     "output_type": "stream",
     "text": [
      "CPU times: user 8.95 ms, sys: 428 µs, total: 9.38 ms\n",
      "Wall time: 2.04 ms\n"
     ]
    },
    {
     "data": {
      "text/plain": [
       "DummyRegressor(constant=None, quantile=None, strategy='mean')"
      ]
     },
     "execution_count": 33,
     "metadata": {},
     "output_type": "execute_result"
    }
   ],
   "source": [
    "%%time\n",
    "dummy_regr = DummyRegressor()\n",
    "dummy_regr.fit(features_train, target_train)"
   ]
  },
  {
   "cell_type": "markdown",
   "metadata": {},
   "source": [
    "## Анализ моделей"
   ]
  },
  {
   "cell_type": "code",
   "execution_count": 34,
   "metadata": {},
   "outputs": [
    {
     "name": "stdout",
     "output_type": "stream",
     "text": [
      "CPU times: user 194 ms, sys: 4.4 ms, total: 199 ms\n",
      "Wall time: 204 ms\n"
     ]
    },
    {
     "data": {
      "text/plain": [
       "1664.377947043441"
      ]
     },
     "execution_count": 34,
     "metadata": {},
     "output_type": "execute_result"
    }
   ],
   "source": [
    "%%time\n",
    "rmse(cat_boost, features_test, target_test)"
   ]
  },
  {
   "cell_type": "markdown",
   "metadata": {},
   "source": [
    "Модель градиентного бустинга с использованием библиотеки CatBoost:\n",
    "\n",
    "- Время обучения - 5min 47s\n",
    "- Качество предсказания (RMSE) на тестовой выборке - 1664.38\n",
    "- Cкорость предсказания - 279 ms"
   ]
  },
  {
   "cell_type": "code",
   "execution_count": 35,
   "metadata": {},
   "outputs": [
    {
     "name": "stdout",
     "output_type": "stream",
     "text": [
      "Значение метрики RMSE для лучших параметров LightGBM на тестовой выборке: 1625.628 \n",
      "CPU times: user 1.16 s, sys: 674 µs, total: 1.16 s\n",
      "Wall time: 1.1 s\n"
     ]
    }
   ],
   "source": [
    "%%time\n",
    "print('Значение метрики RMSE для лучших параметров LightGBM на тестовой выборке: %.3f ' % \n",
    "      (lgbm_search.score(features_test, target_test) * (-1)) ** 0.5)"
   ]
  },
  {
   "cell_type": "markdown",
   "metadata": {},
   "source": [
    "Модель градиентного бустинга с использованием библиотеки LightGBM:\n",
    "\n",
    "- Время обучения - 2min 3s\n",
    "- Качество предсказания (RMSE) на тестовой выборке - 1625.63\n",
    "- Cкорость предсказания - 1.15 s"
   ]
  },
  {
   "cell_type": "code",
   "execution_count": 36,
   "metadata": {},
   "outputs": [
    {
     "name": "stdout",
     "output_type": "stream",
     "text": [
      "Значение метрики RMSE для лучших параметров Random Forest на тестовой выборке: 1639.802 \n",
      "CPU times: user 936 ms, sys: 9.83 ms, total: 946 ms\n",
      "Wall time: 1.06 s\n"
     ]
    }
   ],
   "source": [
    "%%time\n",
    "print('Значение метрики RMSE для лучших параметров Random Forest на тестовой выборке: %.3f ' % \n",
    "      (rf.score(features_test_enc, target_test_enc) * (-1)) ** 0.5)"
   ]
  },
  {
   "cell_type": "markdown",
   "metadata": {},
   "source": [
    "Модель RandomForest:\n",
    "\n",
    "- Время обучения - 4min 1s\n",
    "- Качество предсказания (RMSE) на тестовой выборке - 1639.802\n",
    "- Cкорость предсказания - 945 ms"
   ]
  },
  {
   "cell_type": "code",
   "execution_count": 37,
   "metadata": {},
   "outputs": [
    {
     "name": "stdout",
     "output_type": "stream",
     "text": [
      "CPU times: user 51.8 ms, sys: 22.7 ms, total: 74.5 ms\n",
      "Wall time: 58.1 ms\n"
     ]
    },
    {
     "data": {
      "text/plain": [
       "2666.52518972977"
      ]
     },
     "execution_count": 37,
     "metadata": {},
     "output_type": "execute_result"
    }
   ],
   "source": [
    "%%time\n",
    "rmse(pipe_lr, features_test_enc, target_test_enc)"
   ]
  },
  {
   "cell_type": "markdown",
   "metadata": {},
   "source": [
    "Модель LinearRegression:\n",
    "\n",
    "- Время обучения - 4.27 s\n",
    "- Качество предсказания (RMSE) на тестовой выборке - 2666.53\n",
    "- Cкорость предсказания - 60.6 ms"
   ]
  },
  {
   "cell_type": "code",
   "execution_count": 38,
   "metadata": {},
   "outputs": [
    {
     "name": "stdout",
     "output_type": "stream",
     "text": [
      "CPU times: user 15.4 ms, sys: 738 µs, total: 16.1 ms\n",
      "Wall time: 90.5 ms\n"
     ]
    },
    {
     "data": {
      "text/plain": [
       "4473.708671589498"
      ]
     },
     "execution_count": 38,
     "metadata": {},
     "output_type": "execute_result"
    }
   ],
   "source": [
    "%%time\n",
    "rmse(dummy_regr, features_test, target_test)"
   ]
  },
  {
   "cell_type": "markdown",
   "metadata": {},
   "source": [
    "Константная модель:\n",
    "\n",
    "- Время обучения - 1.16 ms\n",
    "- Качество предсказания (RMSE) на тестовой выборке - 4473.71\n",
    "- Cкорость предсказания - 2.34 ms"
   ]
  },
  {
   "cell_type": "markdown",
   "metadata": {},
   "source": [
    "### Вывод\n",
    "Таким образом, мы построили модели для сервиса по продаже автомобилей, которые помогут быстро определять рыночную стоимость автомобиля на основании технических характеристик и комплектации, что привлечет новых клиентов\n",
    "\n",
    "В нашем исследовании с точки зрения качества предсказания лучше работает LightGBM, хотя и не значительно:\n",
    "\n",
    "1. RMSE LightGBM на тестовой выборке - 1625.63\n",
    "2. RMSE случайного леса на тестовой выборке - 1639.80\n",
    "3. RMSE CatBoost на тестовой выборке - 1664.38\n",
    "\n",
    "По скорости обучения также выигрывает LightGBM:\n",
    "\n",
    "1. Время обучения LightGBM - 2min 3s\n",
    "2. Время обучения случайного леса - 4min 1s\n",
    "3. Время обучения CatBoost - 5min 47s\n",
    "\n",
    "CatBoost однако быстрее предсказывает на уже обученной модели, что может быть полезно клиентам сервиса:\n",
    "\n",
    "1. Cкорость предсказания CatBoost - 279 ms\n",
    "2. Cкорость предсказания случайного леса - 945 ms\n",
    "3. Cкорость предсказания LightGBM - 1.15 s\n",
    "\n",
    "То есть, если ключевую роль для сервиса играют скорость обучения и качество предсказания - лучше использовать LightGBM, если главный фактор - скорость предсказания, то побеждает CatBoost, к тому же при продаже машины разница в предсказанной цене порядка десятков евро не так заметна. Если сервису хочется золотой середины, то можно использовать RandomForest.\n",
    "\n",
    "Если нужно будет быстро и некачественно предсказывать стоимость, но все же лучше, чем просто всегда прогнозировать среднюю по выборке, то можно обойтись и LinearRegression."
   ]
  }
 ],
 "metadata": {
  "ExecuteTimeLog": [
   {
    "duration": 5,
    "start_time": "2021-09-14T10:29:20.677Z"
   },
   {
    "duration": 8,
    "start_time": "2021-09-14T10:29:20.686Z"
   },
   {
    "duration": 1543,
    "start_time": "2021-09-14T10:29:20.698Z"
   },
   {
    "duration": 1244,
    "start_time": "2021-09-14T10:29:22.244Z"
   },
   {
    "duration": 4,
    "start_time": "2021-09-14T10:29:23.491Z"
   },
   {
    "duration": 19,
    "start_time": "2021-09-14T10:29:23.497Z"
   },
   {
    "duration": 22,
    "start_time": "2021-09-14T10:29:23.519Z"
   },
   {
    "duration": 40,
    "start_time": "2021-09-14T10:29:23.543Z"
   },
   {
    "duration": 387,
    "start_time": "2021-09-14T10:29:23.587Z"
   },
   {
    "duration": 111,
    "start_time": "2021-09-14T10:29:23.978Z"
   },
   {
    "duration": 61,
    "start_time": "2021-09-14T10:29:24.091Z"
   },
   {
    "duration": 214,
    "start_time": "2021-09-14T10:29:24.154Z"
   },
   {
    "duration": 369,
    "start_time": "2021-09-14T10:29:24.370Z"
   },
   {
    "duration": 122,
    "start_time": "2021-09-14T10:29:24.742Z"
   },
   {
    "duration": 56,
    "start_time": "2021-09-14T10:29:24.867Z"
   },
   {
    "duration": 16,
    "start_time": "2021-09-14T10:29:24.925Z"
   },
   {
    "duration": 77,
    "start_time": "2021-09-14T10:29:24.943Z"
   },
   {
    "duration": 56,
    "start_time": "2021-09-14T10:29:25.023Z"
   },
   {
    "duration": 3,
    "start_time": "2021-09-14T10:29:25.082Z"
   },
   {
    "duration": 235,
    "start_time": "2021-09-14T10:29:25.088Z"
   },
   {
    "duration": 29,
    "start_time": "2021-09-14T10:29:25.325Z"
   },
   {
    "duration": 4,
    "start_time": "2021-09-14T10:29:25.357Z"
   },
   {
    "duration": 353987,
    "start_time": "2021-09-14T10:29:25.363Z"
   },
   {
    "duration": 207,
    "start_time": "2021-09-14T10:35:19.353Z"
   },
   {
    "duration": 5,
    "start_time": "2021-09-14T10:35:19.562Z"
   },
   {
    "duration": 121657,
    "start_time": "2021-09-14T10:35:19.569Z"
   },
   {
    "duration": 452,
    "start_time": "2021-09-14T10:37:21.231Z"
   },
   {
    "duration": 283,
    "start_time": "2021-09-14T10:37:21.686Z"
   },
   {
    "duration": 5,
    "start_time": "2021-09-14T10:37:21.972Z"
   },
   {
    "duration": 221343,
    "start_time": "2021-09-14T10:37:21.980Z"
   },
   {
    "duration": 3,
    "start_time": "2021-09-14T10:41:03.325Z"
   },
   {
    "duration": 4692,
    "start_time": "2021-09-14T10:41:03.330Z"
   },
   {
    "duration": 91,
    "start_time": "2021-09-14T10:41:08.025Z"
   },
   {
    "duration": 210,
    "start_time": "2021-09-14T10:41:08.119Z"
   },
   {
    "duration": 1186,
    "start_time": "2021-09-14T10:41:08.331Z"
   },
   {
    "duration": 1064,
    "start_time": "2021-09-14T10:41:09.520Z"
   },
   {
    "duration": 132,
    "start_time": "2021-09-14T10:41:10.587Z"
   },
   {
    "duration": 99,
    "start_time": "2021-09-14T10:41:10.722Z"
   }
  ],
  "kernelspec": {
   "display_name": "Python 3",
   "language": "python",
   "name": "python3"
  },
  "language_info": {
   "codemirror_mode": {
    "name": "ipython",
    "version": 3
   },
   "file_extension": ".py",
   "mimetype": "text/x-python",
   "name": "python",
   "nbconvert_exporter": "python",
   "pygments_lexer": "ipython3",
   "version": "3.8.8"
  },
  "toc": {
   "base_numbering": 1,
   "nav_menu": {},
   "number_sections": true,
   "sideBar": true,
   "skip_h1_title": true,
   "title_cell": "Table of Contents",
   "title_sidebar": "Contents",
   "toc_cell": false,
   "toc_position": {},
   "toc_section_display": true,
   "toc_window_display": false
  }
 },
 "nbformat": 4,
 "nbformat_minor": 2
}
