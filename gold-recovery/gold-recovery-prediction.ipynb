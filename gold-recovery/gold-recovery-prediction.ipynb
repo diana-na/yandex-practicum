{
 "cells": [
  {
   "cell_type": "markdown",
   "metadata": {},
   "source": [
    "# 1. Подготовка данных"
   ]
  },
  {
   "cell_type": "code",
   "execution_count": 1,
   "metadata": {},
   "outputs": [],
   "source": [
    "import pandas as pd\n",
    "import numpy as np\n",
    "import seaborn as sns\n",
    "import matplotlib.pyplot as plt\n",
    "import os\n",
    "from pathlib import Path\n",
    "import urllib\n",
    "from sklearn.metrics import mean_absolute_error, make_scorer\n",
    "from sklearn.ensemble import RandomForestRegressor\n",
    "from sklearn.multioutput import MultiOutputRegressor\n",
    "from sklearn.model_selection import GridSearchCV\n",
    "from sklearn.pipeline import Pipeline\n",
    "from sklearn.model_selection import RandomizedSearchCV\n",
    "from sklearn.tree import DecisionTreeRegressor\n",
    "from sklearn.linear_model import LinearRegression\n",
    "from sklearn.dummy import DummyRegressor"
   ]
  },
  {
   "cell_type": "markdown",
   "metadata": {},
   "source": [
    "Данные находятся в трёх файлах:\n",
    "- gold_recovery_train_new.csv — обучающая выборка;\n",
    "- gold_recovery_test_new.csv — тестовая выборка;\n",
    "- gold_recovery_full_new.csv — исходные данные.\n",
    "\n",
    "Ссылки на датасеты удалены из проекта, чтобы не нарушать авторские права Яндекса."
   ]
  },
  {
   "cell_type": "code",
   "execution_count": 2,
   "metadata": {},
   "outputs": [],
   "source": [
    "Path('datasets').mkdir(parents=True, exist_ok=True)\n",
    "\n",
    "def get_file(file_name, url):\n",
    "    if not os.path.exists(file_name):\n",
    "        print(file_name, 'файл не найден и будет загружен из сети')\n",
    "        _ = urllib.request.urlretrieve(url, file_name)\n",
    "\n",
    "urls = {\n",
    "    'train': ('datasets/gold_recovery_train.csv',\n",
    "              'https://'),\n",
    "    'test': ('datasets/gold_recovery_test.csv',\n",
    "             'https://'),\n",
    "    'full': ('datasets/gold_recovery_full.csv',\n",
    "             'https://')\n",
    "}\n",
    "\n",
    "[get_file(*urls[k]) for k in urls]\n",
    "\n",
    "data_train = pd.read_csv(urls['train'][0], index_col=0)\n",
    "data_test = pd.read_csv(urls['test'][0], index_col=0)\n",
    "data_full = pd.read_csv(urls['full'][0], index_col=0)"
   ]
  },
  {
   "cell_type": "markdown",
   "metadata": {},
   "source": [
    "Проиндексировали данные датой и временем получения информации (признак date)\n",
    "\n",
    "Данные сырые - прежде чем приступить к построению модели, проверим их на корректность."
   ]
  },
  {
   "cell_type": "code",
   "execution_count": 3,
   "metadata": {},
   "outputs": [
    {
     "data": {
      "text/plain": [
       "Index([], dtype='object', name='date')"
      ]
     },
     "execution_count": 3,
     "metadata": {},
     "output_type": "execute_result"
    }
   ],
   "source": [
    "data_full.index.symmetric_difference(data_test.index).symmetric_difference(data_train.index)"
   ]
  },
  {
   "cell_type": "markdown",
   "metadata": {},
   "source": [
    "Убедились, что data_full содержит все данные из test и train."
   ]
  },
  {
   "cell_type": "code",
   "execution_count": 4,
   "metadata": {
    "scrolled": true
   },
   "outputs": [
    {
     "name": "stdout",
     "output_type": "stream",
     "text": [
      "<class 'pandas.core.frame.DataFrame'>\n",
      "Index: 22716 entries, 2016-01-15 00:00:00 to 2018-08-18 10:59:59\n",
      "Data columns (total 86 columns):\n",
      " #   Column                                              Non-Null Count  Dtype  \n",
      "---  ------                                              --------------  -----  \n",
      " 0   final.output.concentrate_ag                         22627 non-null  float64\n",
      " 1   final.output.concentrate_pb                         22629 non-null  float64\n",
      " 2   final.output.concentrate_sol                        22331 non-null  float64\n",
      " 3   final.output.concentrate_au                         22630 non-null  float64\n",
      " 4   final.output.recovery                               20753 non-null  float64\n",
      " 5   final.output.tail_ag                                22633 non-null  float64\n",
      " 6   final.output.tail_pb                                22516 non-null  float64\n",
      " 7   final.output.tail_sol                               22445 non-null  float64\n",
      " 8   final.output.tail_au                                22635 non-null  float64\n",
      " 9   primary_cleaner.input.sulfate                       21107 non-null  float64\n",
      " 10  primary_cleaner.input.depressant                    21170 non-null  float64\n",
      " 11  primary_cleaner.input.feed_size                     22716 non-null  float64\n",
      " 12  primary_cleaner.input.xanthate                      21565 non-null  float64\n",
      " 13  primary_cleaner.output.concentrate_ag               22618 non-null  float64\n",
      " 14  primary_cleaner.output.concentrate_pb               22268 non-null  float64\n",
      " 15  primary_cleaner.output.concentrate_sol              21918 non-null  float64\n",
      " 16  primary_cleaner.output.concentrate_au               22618 non-null  float64\n",
      " 17  primary_cleaner.output.tail_ag                      22614 non-null  float64\n",
      " 18  primary_cleaner.output.tail_pb                      22594 non-null  float64\n",
      " 19  primary_cleaner.output.tail_sol                     22365 non-null  float64\n",
      " 20  primary_cleaner.output.tail_au                      22617 non-null  float64\n",
      " 21  primary_cleaner.state.floatbank8_a_air              22660 non-null  float64\n",
      " 22  primary_cleaner.state.floatbank8_a_level            22667 non-null  float64\n",
      " 23  primary_cleaner.state.floatbank8_b_air              22660 non-null  float64\n",
      " 24  primary_cleaner.state.floatbank8_b_level            22673 non-null  float64\n",
      " 25  primary_cleaner.state.floatbank8_c_air              22662 non-null  float64\n",
      " 26  primary_cleaner.state.floatbank8_c_level            22673 non-null  float64\n",
      " 27  primary_cleaner.state.floatbank8_d_air              22661 non-null  float64\n",
      " 28  primary_cleaner.state.floatbank8_d_level            22673 non-null  float64\n",
      " 29  rougher.calculation.sulfate_to_au_concentrate       22672 non-null  float64\n",
      " 30  rougher.calculation.floatbank10_sulfate_to_au_feed  22672 non-null  float64\n",
      " 31  rougher.calculation.floatbank11_sulfate_to_au_feed  22672 non-null  float64\n",
      " 32  rougher.calculation.au_pb_ratio                     21089 non-null  float64\n",
      " 33  rougher.input.feed_ag                               22618 non-null  float64\n",
      " 34  rougher.input.feed_pb                               22472 non-null  float64\n",
      " 35  rougher.input.feed_rate                             22163 non-null  float64\n",
      " 36  rougher.input.feed_size                             22277 non-null  float64\n",
      " 37  rougher.input.feed_sol                              22357 non-null  float64\n",
      " 38  rougher.input.feed_au                               22617 non-null  float64\n",
      " 39  rougher.input.floatbank10_sulfate                   21415 non-null  float64\n",
      " 40  rougher.input.floatbank10_xanthate                  22247 non-null  float64\n",
      " 41  rougher.input.floatbank11_sulfate                   22038 non-null  float64\n",
      " 42  rougher.input.floatbank11_xanthate                  20459 non-null  float64\n",
      " 43  rougher.output.concentrate_ag                       22618 non-null  float64\n",
      " 44  rougher.output.concentrate_pb                       22618 non-null  float64\n",
      " 45  rougher.output.concentrate_sol                      22526 non-null  float64\n",
      " 46  rougher.output.concentrate_au                       22618 non-null  float64\n",
      " 47  rougher.output.recovery                             19597 non-null  float64\n",
      " 48  rougher.output.tail_ag                              19979 non-null  float64\n",
      " 49  rougher.output.tail_pb                              22618 non-null  float64\n",
      " 50  rougher.output.tail_sol                             19980 non-null  float64\n",
      " 51  rougher.output.tail_au                              19980 non-null  float64\n",
      " 52  rougher.state.floatbank10_a_air                     22646 non-null  float64\n",
      " 53  rougher.state.floatbank10_a_level                   22647 non-null  float64\n",
      " 54  rougher.state.floatbank10_b_air                     22646 non-null  float64\n",
      " 55  rougher.state.floatbank10_b_level                   22647 non-null  float64\n",
      " 56  rougher.state.floatbank10_c_air                     22646 non-null  float64\n",
      " 57  rougher.state.floatbank10_c_level                   22654 non-null  float64\n",
      " 58  rougher.state.floatbank10_d_air                     22641 non-null  float64\n",
      " 59  rougher.state.floatbank10_d_level                   22649 non-null  float64\n",
      " 60  rougher.state.floatbank10_e_air                     22096 non-null  float64\n",
      " 61  rougher.state.floatbank10_e_level                   22649 non-null  float64\n",
      " 62  rougher.state.floatbank10_f_air                     22641 non-null  float64\n",
      " 63  rougher.state.floatbank10_f_level                   22642 non-null  float64\n",
      " 64  secondary_cleaner.output.tail_ag                    22616 non-null  float64\n",
      " 65  secondary_cleaner.output.tail_pb                    22600 non-null  float64\n",
      " 66  secondary_cleaner.output.tail_sol                   20501 non-null  float64\n",
      " 67  secondary_cleaner.output.tail_au                    22618 non-null  float64\n",
      " 68  secondary_cleaner.state.floatbank2_a_air            22333 non-null  float64\n",
      " 69  secondary_cleaner.state.floatbank2_a_level          22591 non-null  float64\n",
      " 70  secondary_cleaner.state.floatbank2_b_air            22538 non-null  float64\n",
      " 71  secondary_cleaner.state.floatbank2_b_level          22588 non-null  float64\n",
      " 72  secondary_cleaner.state.floatbank3_a_air            22585 non-null  float64\n",
      " 73  secondary_cleaner.state.floatbank3_a_level          22587 non-null  float64\n",
      " 74  secondary_cleaner.state.floatbank3_b_air            22592 non-null  float64\n",
      " 75  secondary_cleaner.state.floatbank3_b_level          22590 non-null  float64\n",
      " 76  secondary_cleaner.state.floatbank4_a_air            22571 non-null  float64\n",
      " 77  secondary_cleaner.state.floatbank4_a_level          22587 non-null  float64\n",
      " 78  secondary_cleaner.state.floatbank4_b_air            22608 non-null  float64\n",
      " 79  secondary_cleaner.state.floatbank4_b_level          22607 non-null  float64\n",
      " 80  secondary_cleaner.state.floatbank5_a_air            22615 non-null  float64\n",
      " 81  secondary_cleaner.state.floatbank5_a_level          22615 non-null  float64\n",
      " 82  secondary_cleaner.state.floatbank5_b_air            22615 non-null  float64\n",
      " 83  secondary_cleaner.state.floatbank5_b_level          22616 non-null  float64\n",
      " 84  secondary_cleaner.state.floatbank6_a_air            22597 non-null  float64\n",
      " 85  secondary_cleaner.state.floatbank6_a_level          22615 non-null  float64\n",
      "dtypes: float64(86)\n",
      "memory usage: 15.6+ MB\n",
      "<class 'pandas.core.frame.DataFrame'>\n",
      "Index: 16860 entries, 2016-01-15 00:00:00 to 2018-08-18 10:59:59\n",
      "Data columns (total 86 columns):\n",
      " #   Column                                              Non-Null Count  Dtype  \n",
      "---  ------                                              --------------  -----  \n",
      " 0   final.output.concentrate_ag                         16788 non-null  float64\n",
      " 1   final.output.concentrate_pb                         16788 non-null  float64\n",
      " 2   final.output.concentrate_sol                        16490 non-null  float64\n",
      " 3   final.output.concentrate_au                         16789 non-null  float64\n",
      " 4   final.output.recovery                               15339 non-null  float64\n",
      " 5   final.output.tail_ag                                16794 non-null  float64\n",
      " 6   final.output.tail_pb                                16677 non-null  float64\n",
      " 7   final.output.tail_sol                               16715 non-null  float64\n",
      " 8   final.output.tail_au                                16794 non-null  float64\n",
      " 9   primary_cleaner.input.sulfate                       15553 non-null  float64\n",
      " 10  primary_cleaner.input.depressant                    15598 non-null  float64\n",
      " 11  primary_cleaner.input.feed_size                     16860 non-null  float64\n",
      " 12  primary_cleaner.input.xanthate                      15875 non-null  float64\n",
      " 13  primary_cleaner.output.concentrate_ag               16778 non-null  float64\n",
      " 14  primary_cleaner.output.concentrate_pb               16502 non-null  float64\n",
      " 15  primary_cleaner.output.concentrate_sol              16224 non-null  float64\n",
      " 16  primary_cleaner.output.concentrate_au               16778 non-null  float64\n",
      " 17  primary_cleaner.output.tail_ag                      16777 non-null  float64\n",
      " 18  primary_cleaner.output.tail_pb                      16761 non-null  float64\n",
      " 19  primary_cleaner.output.tail_sol                     16579 non-null  float64\n",
      " 20  primary_cleaner.output.tail_au                      16777 non-null  float64\n",
      " 21  primary_cleaner.state.floatbank8_a_air              16820 non-null  float64\n",
      " 22  primary_cleaner.state.floatbank8_a_level            16827 non-null  float64\n",
      " 23  primary_cleaner.state.floatbank8_b_air              16820 non-null  float64\n",
      " 24  primary_cleaner.state.floatbank8_b_level            16833 non-null  float64\n",
      " 25  primary_cleaner.state.floatbank8_c_air              16822 non-null  float64\n",
      " 26  primary_cleaner.state.floatbank8_c_level            16833 non-null  float64\n",
      " 27  primary_cleaner.state.floatbank8_d_air              16821 non-null  float64\n",
      " 28  primary_cleaner.state.floatbank8_d_level            16833 non-null  float64\n",
      " 29  rougher.calculation.sulfate_to_au_concentrate       16833 non-null  float64\n",
      " 30  rougher.calculation.floatbank10_sulfate_to_au_feed  16833 non-null  float64\n",
      " 31  rougher.calculation.floatbank11_sulfate_to_au_feed  16833 non-null  float64\n",
      " 32  rougher.calculation.au_pb_ratio                     15618 non-null  float64\n",
      " 33  rougher.input.feed_ag                               16778 non-null  float64\n",
      " 34  rougher.input.feed_pb                               16632 non-null  float64\n",
      " 35  rougher.input.feed_rate                             16347 non-null  float64\n",
      " 36  rougher.input.feed_size                             16443 non-null  float64\n",
      " 37  rougher.input.feed_sol                              16568 non-null  float64\n",
      " 38  rougher.input.feed_au                               16777 non-null  float64\n",
      " 39  rougher.input.floatbank10_sulfate                   15816 non-null  float64\n",
      " 40  rougher.input.floatbank10_xanthate                  16514 non-null  float64\n",
      " 41  rougher.input.floatbank11_sulfate                   16237 non-null  float64\n",
      " 42  rougher.input.floatbank11_xanthate                  14956 non-null  float64\n",
      " 43  rougher.output.concentrate_ag                       16778 non-null  float64\n",
      " 44  rougher.output.concentrate_pb                       16778 non-null  float64\n",
      " 45  rougher.output.concentrate_sol                      16698 non-null  float64\n",
      " 46  rougher.output.concentrate_au                       16778 non-null  float64\n",
      " 47  rougher.output.recovery                             14287 non-null  float64\n",
      " 48  rougher.output.tail_ag                              14610 non-null  float64\n",
      " 49  rougher.output.tail_pb                              16778 non-null  float64\n",
      " 50  rougher.output.tail_sol                             14611 non-null  float64\n",
      " 51  rougher.output.tail_au                              14611 non-null  float64\n",
      " 52  rougher.state.floatbank10_a_air                     16807 non-null  float64\n",
      " 53  rougher.state.floatbank10_a_level                   16807 non-null  float64\n",
      " 54  rougher.state.floatbank10_b_air                     16807 non-null  float64\n",
      " 55  rougher.state.floatbank10_b_level                   16807 non-null  float64\n",
      " 56  rougher.state.floatbank10_c_air                     16807 non-null  float64\n",
      " 57  rougher.state.floatbank10_c_level                   16814 non-null  float64\n",
      " 58  rougher.state.floatbank10_d_air                     16802 non-null  float64\n",
      " 59  rougher.state.floatbank10_d_level                   16809 non-null  float64\n",
      " 60  rougher.state.floatbank10_e_air                     16257 non-null  float64\n",
      " 61  rougher.state.floatbank10_e_level                   16809 non-null  float64\n",
      " 62  rougher.state.floatbank10_f_air                     16802 non-null  float64\n",
      " 63  rougher.state.floatbank10_f_level                   16802 non-null  float64\n",
      " 64  secondary_cleaner.output.tail_ag                    16776 non-null  float64\n",
      " 65  secondary_cleaner.output.tail_pb                    16764 non-null  float64\n",
      " 66  secondary_cleaner.output.tail_sol                   14874 non-null  float64\n",
      " 67  secondary_cleaner.output.tail_au                    16778 non-null  float64\n",
      " 68  secondary_cleaner.state.floatbank2_a_air            16497 non-null  float64\n",
      " 69  secondary_cleaner.state.floatbank2_a_level          16751 non-null  float64\n",
      " 70  secondary_cleaner.state.floatbank2_b_air            16705 non-null  float64\n",
      " 71  secondary_cleaner.state.floatbank2_b_level          16748 non-null  float64\n",
      " 72  secondary_cleaner.state.floatbank3_a_air            16763 non-null  float64\n",
      " 73  secondary_cleaner.state.floatbank3_a_level          16747 non-null  float64\n",
      " 74  secondary_cleaner.state.floatbank3_b_air            16752 non-null  float64\n",
      " 75  secondary_cleaner.state.floatbank3_b_level          16750 non-null  float64\n",
      " 76  secondary_cleaner.state.floatbank4_a_air            16731 non-null  float64\n",
      " 77  secondary_cleaner.state.floatbank4_a_level          16747 non-null  float64\n",
      " 78  secondary_cleaner.state.floatbank4_b_air            16768 non-null  float64\n",
      " 79  secondary_cleaner.state.floatbank4_b_level          16767 non-null  float64\n",
      " 80  secondary_cleaner.state.floatbank5_a_air            16775 non-null  float64\n",
      " 81  secondary_cleaner.state.floatbank5_a_level          16775 non-null  float64\n",
      " 82  secondary_cleaner.state.floatbank5_b_air            16775 non-null  float64\n",
      " 83  secondary_cleaner.state.floatbank5_b_level          16776 non-null  float64\n",
      " 84  secondary_cleaner.state.floatbank6_a_air            16757 non-null  float64\n",
      " 85  secondary_cleaner.state.floatbank6_a_level          16775 non-null  float64\n",
      "dtypes: float64(86)\n",
      "memory usage: 11.7+ MB\n",
      "<class 'pandas.core.frame.DataFrame'>\n",
      "Index: 5856 entries, 2016-09-01 00:59:59 to 2017-12-31 23:59:59\n",
      "Data columns (total 52 columns):\n",
      " #   Column                                      Non-Null Count  Dtype  \n",
      "---  ------                                      --------------  -----  \n",
      " 0   primary_cleaner.input.sulfate               5554 non-null   float64\n",
      " 1   primary_cleaner.input.depressant            5572 non-null   float64\n",
      " 2   primary_cleaner.input.feed_size             5856 non-null   float64\n",
      " 3   primary_cleaner.input.xanthate              5690 non-null   float64\n",
      " 4   primary_cleaner.state.floatbank8_a_air      5840 non-null   float64\n",
      " 5   primary_cleaner.state.floatbank8_a_level    5840 non-null   float64\n",
      " 6   primary_cleaner.state.floatbank8_b_air      5840 non-null   float64\n",
      " 7   primary_cleaner.state.floatbank8_b_level    5840 non-null   float64\n",
      " 8   primary_cleaner.state.floatbank8_c_air      5840 non-null   float64\n",
      " 9   primary_cleaner.state.floatbank8_c_level    5840 non-null   float64\n",
      " 10  primary_cleaner.state.floatbank8_d_air      5840 non-null   float64\n",
      " 11  primary_cleaner.state.floatbank8_d_level    5840 non-null   float64\n",
      " 12  rougher.input.feed_ag                       5840 non-null   float64\n",
      " 13  rougher.input.feed_pb                       5840 non-null   float64\n",
      " 14  rougher.input.feed_rate                     5816 non-null   float64\n",
      " 15  rougher.input.feed_size                     5834 non-null   float64\n",
      " 16  rougher.input.feed_sol                      5789 non-null   float64\n",
      " 17  rougher.input.feed_au                       5840 non-null   float64\n",
      " 18  rougher.input.floatbank10_sulfate           5599 non-null   float64\n",
      " 19  rougher.input.floatbank10_xanthate          5733 non-null   float64\n",
      " 20  rougher.input.floatbank11_sulfate           5801 non-null   float64\n",
      " 21  rougher.input.floatbank11_xanthate          5503 non-null   float64\n",
      " 22  rougher.state.floatbank10_a_air             5839 non-null   float64\n",
      " 23  rougher.state.floatbank10_a_level           5840 non-null   float64\n",
      " 24  rougher.state.floatbank10_b_air             5839 non-null   float64\n",
      " 25  rougher.state.floatbank10_b_level           5840 non-null   float64\n",
      " 26  rougher.state.floatbank10_c_air             5839 non-null   float64\n",
      " 27  rougher.state.floatbank10_c_level           5840 non-null   float64\n",
      " 28  rougher.state.floatbank10_d_air             5839 non-null   float64\n",
      " 29  rougher.state.floatbank10_d_level           5840 non-null   float64\n",
      " 30  rougher.state.floatbank10_e_air             5839 non-null   float64\n",
      " 31  rougher.state.floatbank10_e_level           5840 non-null   float64\n",
      " 32  rougher.state.floatbank10_f_air             5839 non-null   float64\n",
      " 33  rougher.state.floatbank10_f_level           5840 non-null   float64\n",
      " 34  secondary_cleaner.state.floatbank2_a_air    5836 non-null   float64\n",
      " 35  secondary_cleaner.state.floatbank2_a_level  5840 non-null   float64\n",
      " 36  secondary_cleaner.state.floatbank2_b_air    5833 non-null   float64\n",
      " 37  secondary_cleaner.state.floatbank2_b_level  5840 non-null   float64\n",
      " 38  secondary_cleaner.state.floatbank3_a_air    5822 non-null   float64\n",
      " 39  secondary_cleaner.state.floatbank3_a_level  5840 non-null   float64\n",
      " 40  secondary_cleaner.state.floatbank3_b_air    5840 non-null   float64\n",
      " 41  secondary_cleaner.state.floatbank3_b_level  5840 non-null   float64\n",
      " 42  secondary_cleaner.state.floatbank4_a_air    5840 non-null   float64\n",
      " 43  secondary_cleaner.state.floatbank4_a_level  5840 non-null   float64\n",
      " 44  secondary_cleaner.state.floatbank4_b_air    5840 non-null   float64\n",
      " 45  secondary_cleaner.state.floatbank4_b_level  5840 non-null   float64\n",
      " 46  secondary_cleaner.state.floatbank5_a_air    5840 non-null   float64\n",
      " 47  secondary_cleaner.state.floatbank5_a_level  5840 non-null   float64\n",
      " 48  secondary_cleaner.state.floatbank5_b_air    5840 non-null   float64\n",
      " 49  secondary_cleaner.state.floatbank5_b_level  5840 non-null   float64\n",
      " 50  secondary_cleaner.state.floatbank6_a_air    5840 non-null   float64\n",
      " 51  secondary_cleaner.state.floatbank6_a_level  5840 non-null   float64\n",
      "dtypes: float64(52)\n",
      "memory usage: 2.5+ MB\n"
     ]
    }
   ],
   "source": [
    "data_full.info()\n",
    "data_train.info()\n",
    "data_test.info()"
   ]
  },
  {
   "cell_type": "markdown",
   "metadata": {},
   "source": [
    "В train и full 84 признака + 2 целевых (final.output.recovery и rougher.output.recovery), в тест - 52 признака, целевые отсутствуют. Практически все признаки в датасетах содержат пропуски."
   ]
  },
  {
   "cell_type": "code",
   "execution_count": 5,
   "metadata": {},
   "outputs": [
    {
     "data": {
      "text/plain": [
       "9.460144184559453e-15"
      ]
     },
     "execution_count": 5,
     "metadata": {},
     "output_type": "execute_result"
    }
   ],
   "source": [
    "data_check = data_train.dropna()\n",
    "\n",
    "def recovery(c, f, t):\n",
    "    return (c * (f - t)) / (f * (c - t)) * 100\n",
    "\n",
    "rougher_recovery = recovery(data_check['rougher.output.concentrate_au'],\n",
    "                            data_check['rougher.input.feed_au'],\n",
    "                            data_check['rougher.output.tail_au'])\n",
    "\n",
    "mean_absolute_error(data_check['rougher.output.recovery'], rougher_recovery)"
   ]
  },
  {
   "cell_type": "markdown",
   "metadata": {},
   "source": [
    "Проверку верности расчета эффективности обогащения сделаем на тренировочных данных, организовав временный датасет и удалив из данных все пропуски.\n",
    "\n",
    "Эффективность обогащения рассчитана правильно, MAE между расчётным значением и значением признака в выборке близко к нулю, ненулевое - из-за неточности чисел с плавающей запятой."
   ]
  },
  {
   "cell_type": "code",
   "execution_count": 6,
   "metadata": {
    "scrolled": true
   },
   "outputs": [
    {
     "data": {
      "text/plain": [
       "{'final.output.concentrate_ag',\n",
       " 'final.output.concentrate_au',\n",
       " 'final.output.concentrate_pb',\n",
       " 'final.output.concentrate_sol',\n",
       " 'final.output.recovery',\n",
       " 'final.output.tail_ag',\n",
       " 'final.output.tail_au',\n",
       " 'final.output.tail_pb',\n",
       " 'final.output.tail_sol',\n",
       " 'primary_cleaner.output.concentrate_ag',\n",
       " 'primary_cleaner.output.concentrate_au',\n",
       " 'primary_cleaner.output.concentrate_pb',\n",
       " 'primary_cleaner.output.concentrate_sol',\n",
       " 'primary_cleaner.output.tail_ag',\n",
       " 'primary_cleaner.output.tail_au',\n",
       " 'primary_cleaner.output.tail_pb',\n",
       " 'primary_cleaner.output.tail_sol',\n",
       " 'rougher.calculation.au_pb_ratio',\n",
       " 'rougher.calculation.floatbank10_sulfate_to_au_feed',\n",
       " 'rougher.calculation.floatbank11_sulfate_to_au_feed',\n",
       " 'rougher.calculation.sulfate_to_au_concentrate',\n",
       " 'rougher.output.concentrate_ag',\n",
       " 'rougher.output.concentrate_au',\n",
       " 'rougher.output.concentrate_pb',\n",
       " 'rougher.output.concentrate_sol',\n",
       " 'rougher.output.recovery',\n",
       " 'rougher.output.tail_ag',\n",
       " 'rougher.output.tail_au',\n",
       " 'rougher.output.tail_pb',\n",
       " 'rougher.output.tail_sol',\n",
       " 'secondary_cleaner.output.tail_ag',\n",
       " 'secondary_cleaner.output.tail_au',\n",
       " 'secondary_cleaner.output.tail_pb',\n",
       " 'secondary_cleaner.output.tail_sol'}"
      ]
     },
     "execution_count": 6,
     "metadata": {},
     "output_type": "execute_result"
    }
   ],
   "source": [
    "set(data_train.columns) - set(data_test.columns)"
   ]
  },
  {
   "cell_type": "markdown",
   "metadata": {},
   "source": [
    "Признаки, отсутствующие в тестовой выборке - расчетные (calculation) и выходные (output) характеристики процесса - мы получаем в процессе очистки (то есть они не доступны на старте, т.к. их невозможно получить/измерить во время выполнения технологического процесса), следовательно использовать их в модели не получится, поэтому в тренировочных данных стоит оставить только те признаки, которые есть в тестовых. Целевые колонки недоступны в тестовых данных, нужно извлечь их из full датасета по дате."
   ]
  },
  {
   "cell_type": "code",
   "execution_count": 7,
   "metadata": {},
   "outputs": [],
   "source": [
    "target_train = data_train[['rougher.output.recovery', 'final.output.recovery']]\n",
    "features_train = data_train[data_test.columns]\n",
    "target_test = data_full.loc[data_test.index][['rougher.output.recovery', 'final.output.recovery']]\n",
    "features_test = data_test"
   ]
  },
  {
   "cell_type": "markdown",
   "metadata": {},
   "source": [
    "Перейдем к предобработке данных. Проверим, как распределены пропуски в данных."
   ]
  },
  {
   "cell_type": "code",
   "execution_count": 8,
   "metadata": {},
   "outputs": [
    {
     "name": "stdout",
     "output_type": "stream",
     "text": [
      "count    3338.000000\n",
      "mean        3.795087\n",
      "std         5.944954\n",
      "min         1.000000\n",
      "25%         1.000000\n",
      "50%         2.000000\n",
      "75%         5.000000\n",
      "max        51.000000\n",
      "dtype: float64 \n",
      " count    473.000000\n",
      "mean       4.989429\n",
      "std        8.794373\n",
      "min        1.000000\n",
      "25%        2.000000\n",
      "50%        4.000000\n",
      "75%        5.000000\n",
      "max       51.000000\n",
      "dtype: float64\n"
     ]
    }
   ],
   "source": [
    "print(features_train[features_train.isna().sum(axis=1) > 0].isna().sum(axis=1).describe(),'\\n',\n",
    "      features_test[features_test.isna().sum(axis=1) > 0].isna().sum(axis=1).describe())"
   ]
  },
  {
   "cell_type": "markdown",
   "metadata": {},
   "source": [
    "Видим, что распределение пропусков носит несимметричный характер. К примеру, в половине из 3338 строк с пропусками в тренировочном датасете всего 1 или 2 пропуска, таким образом, удаляя строки с пропусками, мы потеряем много полезных данных. Однако есть и строки, в которых пропущен 51 признак - их можно смело удалять. Также удалим строки с пропусками в целевых столбцах."
   ]
  },
  {
   "cell_type": "code",
   "execution_count": 9,
   "metadata": {},
   "outputs": [],
   "source": [
    "features_train = features_train.dropna(thresh=2)\n",
    "features_test = features_test.dropna(thresh=2)"
   ]
  },
  {
   "cell_type": "markdown",
   "metadata": {},
   "source": [
    "Оставим строки с, как минимум, двумя значениями, отличными от NA."
   ]
  },
  {
   "cell_type": "code",
   "execution_count": 10,
   "metadata": {},
   "outputs": [
    {
     "name": "stdout",
     "output_type": "stream",
     "text": [
      "Число пропущенных значений final recovery в обучающей выборке, которые есть в исходной - 0\n",
      "Число пропущенных значений rougher recovery в обучающей выборке, которые есть в исходной - 0\n"
     ]
    }
   ],
   "source": [
    "print('Число пропущенных значений final recovery в обучающей выборке, которые есть в исходной -',\n",
    "      target_train['final.output.recovery'].isna().sum() -\n",
    "      len(data_full[data_full['final.output.recovery'].isna()].index.intersection( \n",
    "          target_train[target_train['final.output.recovery'].isna()].index)))\n",
    "\n",
    "print('Число пропущенных значений rougher recovery в обучающей выборке, которые есть в исходной -',\n",
    "      target_train['rougher.output.recovery'].isna().sum() -\n",
    "      len(data_full[data_full['rougher.output.recovery'].isna()].index.intersection(\n",
    "          target_train[target_train['rougher.output.recovery'].isna()].index)))"
   ]
  },
  {
   "cell_type": "markdown",
   "metadata": {},
   "source": [
    "Проверили: нельзя ли заполнить пропущенные в обучающей выборке целевые признаки данными из исходной выборки. Нельзя: соответстующие значения также пропущены - удаляем строки с пропусками в целевых столбцах."
   ]
  },
  {
   "cell_type": "code",
   "execution_count": 11,
   "metadata": {},
   "outputs": [],
   "source": [
    "target_train = target_train.dropna()\n",
    "target_test = target_test.dropna()"
   ]
  },
  {
   "cell_type": "code",
   "execution_count": 12,
   "metadata": {},
   "outputs": [],
   "source": [
    "features_train = features_train.loc[features_train.index.isin(target_train.index)]\n",
    "features_test = features_test.loc[features_test.index.isin(target_test.index)]"
   ]
  },
  {
   "cell_type": "markdown",
   "metadata": {},
   "source": [
    "Убрали строки с признаками, соответвующими пропускам в целевых столбцах.\n",
    "\n",
    "Осталось только избавиться от NA в признаках. Заполним их соседними с помощью ffill, так как соседние по времени параметры часто похожи."
   ]
  },
  {
   "cell_type": "code",
   "execution_count": 13,
   "metadata": {},
   "outputs": [],
   "source": [
    "features_train = features_train.fillna(method='ffill')\n",
    "features_test = features_test.fillna(method='ffill')"
   ]
  },
  {
   "cell_type": "markdown",
   "metadata": {},
   "source": [
    "Данные предобработаны."
   ]
  },
  {
   "cell_type": "markdown",
   "metadata": {},
   "source": [
    "# 2. Анализ данных"
   ]
  },
  {
   "cell_type": "markdown",
   "metadata": {},
   "source": [
    "Посмотрим, как меняется концентрация металлов (Au, Ag, Pb) на различных этапах очистки. "
   ]
  },
  {
   "cell_type": "code",
   "execution_count": 14,
   "metadata": {},
   "outputs": [],
   "source": [
    "def print_boxplot_by_column(c1,c2,c3):\n",
    "    plt.figure(figsize=(10,6))\n",
    "    plt.title('Распределение концентрации на выходе этапов')\n",
    "    sns.boxplot(data=data_full[[c1, c2, c3]], orient=\"h\")"
   ]
  },
  {
   "cell_type": "code",
   "execution_count": 15,
   "metadata": {},
   "outputs": [
    {
     "data": {
      "image/png": "[encoded data removed]",
      "text/plain": [
       "<Figure size 720x432 with 1 Axes>"
      ]
     },
     "metadata": {
      "needs_background": "light"
     },
     "output_type": "display_data"
    }
   ],
   "source": [
    "print_boxplot_by_column('rougher.output.concentrate_au',\n",
    "                        'primary_cleaner.output.concentrate_au',\n",
    "                        'final.output.concentrate_au')"
   ]
  },
  {
   "cell_type": "markdown",
   "metadata": {},
   "source": [
    "Видим, что концентрация золота растет с каждым этапом, флотация (обогащение) и двухэтапная очистка служат как раз для повышения его концентрации."
   ]
  },
  {
   "cell_type": "code",
   "execution_count": 16,
   "metadata": {
    "scrolled": false
   },
   "outputs": [
    {
     "data": {
      "image/png": "[encoded data removed]",
      "text/plain": [
       "<Figure size 720x432 with 1 Axes>"
      ]
     },
     "metadata": {
      "needs_background": "light"
     },
     "output_type": "display_data"
    },
    {
     "data": {
      "image/png": "[encoded data removed]",
      "text/plain": [
       "<Figure size 720x432 with 1 Axes>"
      ]
     },
     "metadata": {
      "needs_background": "light"
     },
     "output_type": "display_data"
    }
   ],
   "source": [
    "print_boxplot_by_column('rougher.output.concentrate_ag',\n",
    "                        'primary_cleaner.output.concentrate_ag',\n",
    "                        'final.output.concentrate_ag')\n",
    "print_boxplot_by_column('rougher.output.concentrate_pb',\n",
    "                        'primary_cleaner.output.concentrate_pb',\n",
    "                        'final.output.concentrate_pb')"
   ]
  },
  {
   "cell_type": "markdown",
   "metadata": {},
   "source": [
    "Концентрация серебра напротив уменьшается с каждый шагом. Концентрация свинца повышается в период с флотации до первичной очистки, а потом усредняется.\n",
    "\n",
    "Сравним распределения размеров гранул сырья на обучающей и тестовой выборках."
   ]
  },
  {
   "cell_type": "code",
   "execution_count": 17,
   "metadata": {},
   "outputs": [
    {
     "name": "stderr",
     "output_type": "stream",
     "text": [
      "/Users/diana/opt/anaconda3/lib/python3.8/site-packages/seaborn/distributions.py:2557: FutureWarning: `distplot` is a deprecated function and will be removed in a future version. Please adapt your code to use either `displot` (a figure-level function with similar flexibility) or `histplot` (an axes-level function for histograms).\n",
      "  warnings.warn(msg, FutureWarning)\n",
      "/Users/diana/opt/anaconda3/lib/python3.8/site-packages/seaborn/distributions.py:2557: FutureWarning: `distplot` is a deprecated function and will be removed in a future version. Please adapt your code to use either `displot` (a figure-level function with similar flexibility) or `histplot` (an axes-level function for histograms).\n",
      "  warnings.warn(msg, FutureWarning)\n"
     ]
    },
    {
     "data": {
      "text/plain": [
       "<AxesSubplot:title={'center':'Распределение размеров гранул сырья перед первичной очисткой на обучающей и тестовой выборках'}, xlabel='Размер гранул сырья', ylabel='Плотность распределения'>"
      ]
     },
     "execution_count": 17,
     "metadata": {},
     "output_type": "execute_result"
    },
    {
     "data": {
      "image/png": "[encoded data removed]",
      "text/plain": [
       "<Figure size 720x432 with 1 Axes>"
      ]
     },
     "metadata": {
      "needs_background": "light"
     },
     "output_type": "display_data"
    }
   ],
   "source": [
    "plt.figure(figsize=(10,6))\n",
    "plt.title('Распределение размеров гранул сырья перед первичной очисткой на обучающей и тестовой выборках')\n",
    "plt.xlabel(\"Размер гранул сырья\")\n",
    "plt.ylabel(\"Плотность распределения\")\n",
    "\n",
    "sns.distplot(features_train['rougher.input.feed_size'], axlabel=False)\n",
    "sns.distplot(features_test['rougher.input.feed_size'], axlabel=False)"
   ]
  },
  {
   "cell_type": "markdown",
   "metadata": {},
   "source": [
    "Распределения размеров гранул сырья на обучающей и тестовой выборках похожи на глаз, для нас сейчас этого достаточно, если бы распределения сильно отличались друг от друга, оценка модели была бы неправильной.\n",
    "\n",
    "Исследуем теперь суммарную концентрацию всех веществ на разных стадиях: в сырье, в черновом и финальном концентратах."
   ]
  },
  {
   "cell_type": "code",
   "execution_count": 18,
   "metadata": {},
   "outputs": [],
   "source": [
    "data_full['rougher.input.feed_sum'] = (data_full['rougher.input.feed_ag'] +\n",
    "                                               data_full['rougher.input.feed_au'] +\n",
    "                                               data_full['rougher.input.feed_pb'] +\n",
    "                                               data_full['rougher.input.feed_sol'])\n",
    "\n",
    "data_full['rougher.output.concentrate_sum'] = (data_full['rougher.output.concentrate_ag'] +\n",
    "                                               data_full['rougher.output.concentrate_au'] +\n",
    "                                               data_full['rougher.output.concentrate_pb'] +\n",
    "                                               data_full['rougher.output.concentrate_sol'])\n",
    "\n",
    "\n",
    "data_full['primary_cleaner.output.concentrate_sum'] = (data_full['primary_cleaner.output.concentrate_ag'] +\n",
    "                                                       data_full['primary_cleaner.output.concentrate_au'] +\n",
    "                                                       data_full['primary_cleaner.output.concentrate_pb'] +\n",
    "                                                       data_full['primary_cleaner.output.concentrate_sol'])\n",
    "\n",
    "data_full['final.output.concentrate_sum'] = (data_full['final.output.concentrate_ag'] +\n",
    "                                             data_full['final.output.concentrate_au'] +\n",
    "                                             data_full['final.output.concentrate_pb'] +\n",
    "                                             data_full['final.output.concentrate_sol'])"
   ]
  },
  {
   "cell_type": "code",
   "execution_count": 19,
   "metadata": {},
   "outputs": [
    {
     "data": {
      "text/html": [
       "<div>\n",
       "<style scoped>\n",
       "    .dataframe tbody tr th:only-of-type {\n",
       "        vertical-align: middle;\n",
       "    }\n",
       "\n",
       "    .dataframe tbody tr th {\n",
       "        vertical-align: top;\n",
       "    }\n",
       "\n",
       "    .dataframe thead th {\n",
       "        text-align: right;\n",
       "    }\n",
       "</style>\n",
       "<table border=\"1\" class=\"dataframe\">\n",
       "  <thead>\n",
       "    <tr style=\"text-align: right;\">\n",
       "      <th></th>\n",
       "      <th>rougher.input.feed_sum</th>\n",
       "      <th>rougher.output.concentrate_sum</th>\n",
       "      <th>primary_cleaner.output.concentrate_sum</th>\n",
       "      <th>final.output.concentrate_sum</th>\n",
       "    </tr>\n",
       "  </thead>\n",
       "  <tbody>\n",
       "    <tr>\n",
       "      <th>count</th>\n",
       "      <td>22241.000000</td>\n",
       "      <td>22526.000000</td>\n",
       "      <td>21918.000000</td>\n",
       "      <td>22328.000000</td>\n",
       "    </tr>\n",
       "    <tr>\n",
       "      <th>mean</th>\n",
       "      <td>52.273449</td>\n",
       "      <td>61.799418</td>\n",
       "      <td>55.471318</td>\n",
       "      <td>62.475148</td>\n",
       "    </tr>\n",
       "    <tr>\n",
       "      <th>std</th>\n",
       "      <td>17.653233</td>\n",
       "      <td>23.168341</td>\n",
       "      <td>19.757606</td>\n",
       "      <td>20.744652</td>\n",
       "    </tr>\n",
       "    <tr>\n",
       "      <th>min</th>\n",
       "      <td>0.000000</td>\n",
       "      <td>0.000000</td>\n",
       "      <td>0.000000</td>\n",
       "      <td>0.000000</td>\n",
       "    </tr>\n",
       "    <tr>\n",
       "      <th>25%</th>\n",
       "      <td>51.784664</td>\n",
       "      <td>63.558831</td>\n",
       "      <td>57.230377</td>\n",
       "      <td>67.200835</td>\n",
       "    </tr>\n",
       "    <tr>\n",
       "      <th>50%</th>\n",
       "      <td>56.939323</td>\n",
       "      <td>69.459530</td>\n",
       "      <td>61.957870</td>\n",
       "      <td>69.294183</td>\n",
       "    </tr>\n",
       "    <tr>\n",
       "      <th>75%</th>\n",
       "      <td>61.519755</td>\n",
       "      <td>74.058219</td>\n",
       "      <td>65.402045</td>\n",
       "      <td>71.165495</td>\n",
       "    </tr>\n",
       "    <tr>\n",
       "      <th>max</th>\n",
       "      <td>76.978947</td>\n",
       "      <td>90.964431</td>\n",
       "      <td>80.749343</td>\n",
       "      <td>80.210644</td>\n",
       "    </tr>\n",
       "  </tbody>\n",
       "</table>\n",
       "</div>"
      ],
      "text/plain": [
       "       rougher.input.feed_sum  rougher.output.concentrate_sum  \\\n",
       "count            22241.000000                    22526.000000   \n",
       "mean                52.273449                       61.799418   \n",
       "std                 17.653233                       23.168341   \n",
       "min                  0.000000                        0.000000   \n",
       "25%                 51.784664                       63.558831   \n",
       "50%                 56.939323                       69.459530   \n",
       "75%                 61.519755                       74.058219   \n",
       "max                 76.978947                       90.964431   \n",
       "\n",
       "       primary_cleaner.output.concentrate_sum  final.output.concentrate_sum  \n",
       "count                            21918.000000                  22328.000000  \n",
       "mean                                55.471318                     62.475148  \n",
       "std                                 19.757606                     20.744652  \n",
       "min                                  0.000000                      0.000000  \n",
       "25%                                 57.230377                     67.200835  \n",
       "50%                                 61.957870                     69.294183  \n",
       "75%                                 65.402045                     71.165495  \n",
       "max                                 80.749343                     80.210644  "
      ]
     },
     "execution_count": 19,
     "metadata": {},
     "output_type": "execute_result"
    }
   ],
   "source": [
    "data_full.loc[:, 'rougher.input.feed_sum':'final.output.concentrate_sum'].describe()"
   ]
  },
  {
   "cell_type": "code",
   "execution_count": 20,
   "metadata": {},
   "outputs": [
    {
     "name": "stdout",
     "output_type": "stream",
     "text": [
      "Количество нулевых концентраций в сырье, после обогащения, первичной очистки и в финальном концентрате, соответственно:\n",
      " 1528 1953 1626 1613\n"
     ]
    }
   ],
   "source": [
    "print('Количество нулевых концентраций в сырье, после обогащения, первичной очистки и в финальном концентрате, соответственно:\\n',\n",
    "      (data_full['rougher.input.feed_sum'] == 0).sum(),\n",
    "      (data_full['rougher.output.concentrate_sum'] == 0).sum(),\n",
    "      (data_full['primary_cleaner.output.concentrate_sum'] == 0).sum(),\n",
    "      (data_full['final.output.concentrate_sum'] == 0).sum())"
   ]
  },
  {
   "cell_type": "markdown",
   "metadata": {},
   "source": [
    "Нулевые концентрации в суммарном распределении на всех стадиях выглядят аномально, они могут быть вызваны ошибкой оборудования - их стоит удалить из обеих выборок."
   ]
  },
  {
   "cell_type": "code",
   "execution_count": 21,
   "metadata": {},
   "outputs": [
    {
     "name": "stderr",
     "output_type": "stream",
     "text": [
      "<ipython-input-21-5627d0e045d7>:1: FutureWarning: Index.__or__ operating as a set operation is deprecated, in the future this will be a logical operation matching Series.__or__.  Use index.union(other) instead\n",
      "  index_with_zero_conc = (data_full[data_full['rougher.input.feed_sum'] == 0].index |\n",
      "<ipython-input-21-5627d0e045d7>:1: FutureWarning: Index.__or__ operating as a set operation is deprecated, in the future this will be a logical operation matching Series.__or__.  Use index.union(other) instead\n",
      "  index_with_zero_conc = (data_full[data_full['rougher.input.feed_sum'] == 0].index |\n",
      "<ipython-input-21-5627d0e045d7>:1: FutureWarning: Index.__or__ operating as a set operation is deprecated, in the future this will be a logical operation matching Series.__or__.  Use index.union(other) instead\n",
      "  index_with_zero_conc = (data_full[data_full['rougher.input.feed_sum'] == 0].index |\n"
     ]
    },
    {
     "data": {
      "text/plain": [
       "2380"
      ]
     },
     "execution_count": 21,
     "metadata": {},
     "output_type": "execute_result"
    }
   ],
   "source": [
    "index_with_zero_conc = (data_full[data_full['rougher.input.feed_sum'] == 0].index |\n",
    "                        data_full[data_full['rougher.output.concentrate_sum'] == 0].index |\n",
    "                        data_full[data_full['primary_cleaner.output.concentrate_sum'] == 0].index |\n",
    "                        data_full[data_full['final.output.concentrate_sum'] == 0].index)\n",
    "len(index_with_zero_conc)"
   ]
  },
  {
   "cell_type": "markdown",
   "metadata": {},
   "source": [
    "Получили индексы 2380 строк, в которых встречается нулевая суммарная концентрация на одном из этапов, удалим строки с этими индексами из тренировочной и тестовой выборок."
   ]
  },
  {
   "cell_type": "code",
   "execution_count": 22,
   "metadata": {},
   "outputs": [],
   "source": [
    "features_train = features_train[~features_train.index.isin(index_with_zero_conc)]\n",
    "target_train = target_train[~target_train.index.isin(index_with_zero_conc)]\n",
    "features_test = features_test[~features_test.index.isin(index_with_zero_conc)]\n",
    "target_test = target_test[~target_test.index.isin(index_with_zero_conc)]"
   ]
  },
  {
   "cell_type": "markdown",
   "metadata": {},
   "source": [
    "Данные проанализированы, очищены от аномалий и готовы к обучению модели."
   ]
  },
  {
   "cell_type": "markdown",
   "metadata": {},
   "source": [
    "# 3. Модель"
   ]
  },
  {
   "cell_type": "markdown",
   "metadata": {},
   "source": [
    "Напишем функцию для вычисления итоговой sMAPE:\n",
    "\n",
    "$$\n",
    "sMAPE = \\frac{1}{N}\\sum\\limits_{i=1}^{N}\\frac{|y_{i}-\\hat{y_{i}}|}{(|y_{i}|+|\\hat{y_{i}}|)/2}*100\\% \n",
    "$$\n",
    "\n",
    "Итоговое sMAPE = 25% * sMAPE(rougher) + 75% * sMAPE(final)"
   ]
  },
  {
   "cell_type": "code",
   "execution_count": 23,
   "metadata": {},
   "outputs": [],
   "source": [
    "def smape(y_true, y_pred):\n",
    "    smape = 100 / len(y_true) * (np.abs(y_true - y_pred) /\n",
    "                                 ((np.abs(y_true) + np.abs(y_pred)) / 2)).sum()\n",
    "    final_smape = 0.25 * smape[0] + 0.75 * smape[1]\n",
    "    return final_smape"
   ]
  },
  {
   "cell_type": "code",
   "execution_count": 24,
   "metadata": {},
   "outputs": [],
   "source": [
    "smape_scorer = make_scorer(smape, greater_is_better=False)"
   ]
  },
  {
   "cell_type": "markdown",
   "metadata": {},
   "source": [
    "Обучим разные модели и оценим их качество кросс-валидацией"
   ]
  },
  {
   "cell_type": "code",
   "execution_count": 25,
   "metadata": {},
   "outputs": [],
   "source": [
    "# зафиксируем значение параметра random_state, чтобы результаты нашей работы были воспроизводимы\n",
    "state = 12345"
   ]
  },
  {
   "cell_type": "code",
   "execution_count": 26,
   "metadata": {},
   "outputs": [
    {
     "name": "stdout",
     "output_type": "stream",
     "text": [
      "CPU times: user 2min 51s, sys: 235 ms, total: 2min 51s\n",
      "Wall time: 2min 51s\n"
     ]
    },
    {
     "data": {
      "text/plain": [
       "GridSearchCV(cv=3, estimator=RandomForestRegressor(random_state=12345),\n",
       "             param_grid={'max_depth': range(1, 10),\n",
       "                         'n_estimators': range(1, 61, 20)},\n",
       "             scoring=make_scorer(smape, greater_is_better=False))"
      ]
     },
     "execution_count": 26,
     "metadata": {},
     "output_type": "execute_result"
    }
   ],
   "source": [
    "%%time\n",
    "grid_params_rf = {'max_depth': range(1,10),\n",
    "                  'n_estimators': range(1,61,20)}\n",
    "\n",
    "rf = RandomForestRegressor(random_state=state)\n",
    "\n",
    "RF = GridSearchCV(rf, grid_params_rf,\n",
    "                        cv=3, scoring=smape_scorer)\n",
    "\n",
    "RF.fit(features_train, target_train)"
   ]
  },
  {
   "cell_type": "code",
   "execution_count": 27,
   "metadata": {},
   "outputs": [
    {
     "name": "stdout",
     "output_type": "stream",
     "text": [
      "sMAPE RandomForest при кросс-валидации -9.979832731641864\n"
     ]
    },
    {
     "data": {
      "text/plain": [
       "{'max_depth': 4, 'n_estimators': 41}"
      ]
     },
     "execution_count": 27,
     "metadata": {},
     "output_type": "execute_result"
    }
   ],
   "source": [
    "print('sMAPE RandomForest при кросс-валидации', RF.best_score_)\n",
    "RF.best_params_"
   ]
  },
  {
   "cell_type": "markdown",
   "metadata": {},
   "source": [
    "Отрицательное значение sMAPE обсуловлено параметром скорера greater_is_better=False, так как GridSearchCV всегда максимизирует значение метрики, а нам необходимо выбирать наименьшее значение ошибки, мы передаем в GridSearchCV отрицательную версию нашей метрики, таким образом значение метрики -9.98, нужно рассматривать по модулю 9.98. Переходим к DecisionTreeRegressor."
   ]
  },
  {
   "cell_type": "code",
   "execution_count": 28,
   "metadata": {},
   "outputs": [
    {
     "name": "stdout",
     "output_type": "stream",
     "text": [
      "CPU times: user 4.67 s, sys: 6.42 ms, total: 4.68 s\n",
      "Wall time: 4.68 s\n"
     ]
    },
    {
     "data": {
      "text/plain": [
       "GridSearchCV(cv=3, estimator=DecisionTreeRegressor(random_state=12345),\n",
       "             param_grid={'max_depth': range(1, 10)},\n",
       "             scoring=make_scorer(smape, greater_is_better=False))"
      ]
     },
     "execution_count": 28,
     "metadata": {},
     "output_type": "execute_result"
    }
   ],
   "source": [
    "%%time\n",
    "grid_params_dt = {'max_depth': range(1,10)}\n",
    "dt = DecisionTreeRegressor(random_state=state)\n",
    "DT = GridSearchCV(dt, grid_params_dt,\n",
    "                  cv=3, scoring=smape_scorer)\n",
    "DT.fit(features_train, target_train)"
   ]
  },
  {
   "cell_type": "code",
   "execution_count": 29,
   "metadata": {},
   "outputs": [
    {
     "name": "stdout",
     "output_type": "stream",
     "text": [
      "sMAPE Decision Tree при кросс-валидации -10.253142617688159\n"
     ]
    },
    {
     "data": {
      "text/plain": [
       "{'max_depth': 4}"
      ]
     },
     "execution_count": 29,
     "metadata": {},
     "output_type": "execute_result"
    }
   ],
   "source": [
    "print('sMAPE Decision Tree при кросс-валидации', DT.best_score_)\n",
    "DT.best_params_"
   ]
  },
  {
   "cell_type": "markdown",
   "metadata": {},
   "source": [
    "DecisionTreeRegressor показывает значение целевой метрики sMAPE немного хуже, чем RandomForest. Посмотрим теперь, как обучится линейная регрессия, без использования кросс-валидации."
   ]
  },
  {
   "cell_type": "code",
   "execution_count": 30,
   "metadata": {},
   "outputs": [
    {
     "name": "stdout",
     "output_type": "stream",
     "text": [
      "sMAPE LinearRegression на тренировочной выборке 7.1813603362063425\n"
     ]
    }
   ],
   "source": [
    "LR = LinearRegression()\n",
    "LR.fit(features_train, target_train)\n",
    "print('sMAPE LinearRegression на тренировочной выборке', smape(target_train, LR.predict(features_train)))"
   ]
  },
  {
   "cell_type": "markdown",
   "metadata": {},
   "source": [
    "Линейная регрессия на тренировочной выборке показывает значения лучше, чем две предыдущие модели, но поскольку для предыдущих моделей использовалась кросс-валидация для подбора гиперпараметров, предположительно их метрики будут более стабильны на тестовой выборке."
   ]
  },
  {
   "cell_type": "code",
   "execution_count": 31,
   "metadata": {},
   "outputs": [
    {
     "name": "stdout",
     "output_type": "stream",
     "text": [
      "sMAPE LinearRegression на тестовой выборке 7.316037194142444\n",
      "sMAPE RandomForest на тестовой выборке 7.521471719894999\n",
      "sMAPE Decision Tree на тестовой выборке 10.20911029336526\n"
     ]
    }
   ],
   "source": [
    "print('sMAPE LinearRegression на тестовой выборке', smape(target_test, LR.predict(features_test)))\n",
    "predictions_test = RF.predict(features_test)\n",
    "print('sMAPE RandomForest на тестовой выборке', smape(target_test, predictions_test))\n",
    "predictions_test = DT.predict(features_test)\n",
    "print('sMAPE Decision Tree на тестовой выборке', smape(target_test, predictions_test))"
   ]
  },
  {
   "cell_type": "markdown",
   "metadata": {},
   "source": [
    "И снова лучший результат у линейной регрессии, сделаем проверку на вменяемость с помощью DummyRegressor."
   ]
  },
  {
   "cell_type": "code",
   "execution_count": 32,
   "metadata": {},
   "outputs": [
    {
     "data": {
      "text/plain": [
       "7.369167385832511"
      ]
     },
     "execution_count": 32,
     "metadata": {},
     "output_type": "execute_result"
    }
   ],
   "source": [
    "dummy_regr = DummyRegressor(strategy=\"median\")\n",
    "dummy_regr.fit(features_train, target_train)\n",
    "smape(target_test, dummy_regr.predict(features_test))"
   ]
  },
  {
   "cell_type": "markdown",
   "metadata": {},
   "source": [
    "Прототип модели машинного обучения имеет бесконечный потенциал к улучшению) лучшая из наших моделей показала результат, сопоставимый со случайным с медианными значениями целевых признаков из тренировочной выборки, в рамках данного проекта это допустимо. Чтоооож.\n",
    "\n",
    "Вот, что можно попробовать сделать для улучшения качества модели:\n",
    "1) поработать с качеством данных на входе: ещё раз оценить аномалии, пропуски, соответствие физике (правдиво ли всё)\n",
    "\n",
    "2) поискать упущенные бизнес-факторы для моделирования или сгенерировать что-то гибридное из имеющихся факторов\n",
    "\n",
    "3) провести более тщательный подбор параметров моделей    \n",
    "\n",
    "4) возможно, нужно было использовать 2 модели - по одной на предсказание значений обоих целевых признаков\n",
    "\n",
    "Таким образом, мы прошли три этапа:\n",
    "1. Подготовили данные;\n",
    "2. Провели исследовательский анализ данных;\n",
    "3. Построили и обучили модель.\n",
    "\n",
    "Была получена модель, предсказывающая коэффициент восстановления золота из золотосодержащей руды с наибольшим показателем sMAPE на тестовой выборке - 7.316. Лучший результат показала линейная регрессия, немного хуже результат у Случайного леса - sMAPE = 7.521 на тестовой выборке, хуже всего обучилось Дерево принятия решений (sMAPE = 10.209)."
   ]
  }
 ],
 "metadata": {
  "kernelspec": {
   "display_name": "Python 3",
   "language": "python",
   "name": "python3"
  },
  "language_info": {
   "codemirror_mode": {
    "name": "ipython",
    "version": 3
   },
   "file_extension": ".py",
   "mimetype": "text/x-python",
   "name": "python",
   "nbconvert_exporter": "python",
   "pygments_lexer": "ipython3",
   "version": "3.8.8"
  },
  "toc": {
   "base_numbering": 1,
   "nav_menu": {
    "height": "12px",
    "width": "173px"
   },
   "number_sections": true,
   "sideBar": true,
   "skip_h1_title": false,
   "title_cell": "Table of Contents",
   "title_sidebar": "Contents",
   "toc_cell": false,
   "toc_position": {
    "height": "158px",
    "left": "463px",
    "top": "154px",
    "width": "266.344px"
   },
   "toc_section_display": true,
   "toc_window_display": true
  }
 },
 "nbformat": 4,
 "nbformat_minor": 2
}
