{
 "cells": [
  {
   "cell_type": "markdown",
   "metadata": {},
   "source": [
    "## 1. Исследовательский анализ данных"
   ]
  },
  {
   "cell_type": "markdown",
   "metadata": {},
   "source": [
    "### Предобработка данных"
   ]
  },
  {
   "cell_type": "markdown",
   "metadata": {},
   "source": [
    "Приступим к изучению данных, поиску пропусков, дубликатов и изменению типов данных."
   ]
  },
  {
   "cell_type": "code",
   "execution_count": 1,
   "metadata": {},
   "outputs": [],
   "source": [
    "import pandas as pd\n",
    "import numpy as np\n",
    "import re\n",
    "import seaborn as sns\n",
    "import matplotlib.pyplot as plt\n",
    "from scipy import stats as st\n",
    "from functools import reduce\n",
    "from sklearn.model_selection import train_test_split, GridSearchCV\n",
    "from sklearn.linear_model import LogisticRegression\n",
    "from sklearn.ensemble import RandomForestClassifier\n",
    "from sklearn.tree import DecisionTreeClassifier\n",
    "from sklearn.metrics import roc_auc_score, accuracy_score, precision_score, recall_score\n",
    "from sklearn.dummy import DummyClassifier\n",
    "from sklearn.preprocessing import StandardScaler\n",
    "from sklearn.compose import ColumnTransformer\n",
    "from sklearn.pipeline import Pipeline\n",
    "from catboost import CatBoostClassifier\n",
    "import os\n",
    "from pathlib import Path\n",
    "import urllib"
   ]
  },
  {
   "cell_type": "markdown",
   "metadata": {},
   "source": [
    "Ссылки на датасеты удалены из проекта, чтобы не нарушать авторские права Яндекса."
   ]
  },
  {
   "cell_type": "code",
   "execution_count": 2,
   "metadata": {},
   "outputs": [],
   "source": [
    "Path('datasets').mkdir(parents=True, exist_ok=True)\n",
    "\n",
    "def get_file(file_name, url):\n",
    "    if not os.path.exists(file_name):\n",
    "        print(file_name, 'файл не найден и будет загружен из сети')\n",
    "        _ = urllib.request.urlretrieve(url, file_name)\n",
    "\n",
    "urls = {\n",
    "    'contract': ('datasets/contract.csv',\n",
    "              'https://'),\n",
    "    'personal': ('datasets/personal.csv',\n",
    "              'https://'),\n",
    "    'internet': ('datasets/internet.csv',\n",
    "              'https://'),\n",
    "    'phone': ('datasets/phone.csv',\n",
    "              'https://')\n",
    "}\n",
    "\n",
    "[get_file(*urls[k]) for k in urls]\n",
    "\n",
    "contract, personal, internet, phone = [pd.read_csv(urls[k][0]) for k in urls]"
   ]
  },
  {
   "cell_type": "markdown",
   "metadata": {},
   "source": [
    "Поменяем `CamelCase` в названии колонок датафреймов на `snake_case`: мы же не джаваскриптеры \\\\(•◡•)/"
   ]
  },
  {
   "cell_type": "code",
   "execution_count": 3,
   "metadata": {},
   "outputs": [],
   "source": [
    "def snake_case(column):  \n",
    "    \"\"\"Преобразование колонок из camelCase в snake_case\"\"\"\n",
    "    column = re.sub('(.)([A-Z][a-z]+)', r'\\1_\\2', column)\n",
    "    return re.sub('([a-z0-9])([A-Z])', r'\\1_\\2', column).lower()\n",
    "\n",
    "for df in [contract, personal, internet, phone]:\n",
    "    df.rename(columns=snake_case, inplace=True)"
   ]
  },
  {
   "cell_type": "markdown",
   "metadata": {},
   "source": [
    "Определим функцию, выводящую информацию о датафрейме:"
   ]
  },
  {
   "cell_type": "code",
   "execution_count": 4,
   "metadata": {},
   "outputs": [],
   "source": [
    "def df_info(df):\n",
    "    df.info()\n",
    "    display(df.head())\n",
    "    display(df.describe(include=object))"
   ]
  },
  {
   "cell_type": "markdown",
   "metadata": {},
   "source": [
    "Перейдем к разбору таблиц"
   ]
  },
  {
   "cell_type": "code",
   "execution_count": 5,
   "metadata": {},
   "outputs": [
    {
     "name": "stdout",
     "output_type": "stream",
     "text": [
      "<class 'pandas.core.frame.DataFrame'>\n",
      "RangeIndex: 7043 entries, 0 to 7042\n",
      "Data columns (total 8 columns):\n",
      " #   Column             Non-Null Count  Dtype  \n",
      "---  ------             --------------  -----  \n",
      " 0   customer_id        7043 non-null   object \n",
      " 1   begin_date         7043 non-null   object \n",
      " 2   end_date           7043 non-null   object \n",
      " 3   type               7043 non-null   object \n",
      " 4   paperless_billing  7043 non-null   object \n",
      " 5   payment_method     7043 non-null   object \n",
      " 6   monthly_charges    7043 non-null   float64\n",
      " 7   total_charges      7043 non-null   object \n",
      "dtypes: float64(1), object(7)\n",
      "memory usage: 440.3+ KB\n"
     ]
    },
    {
     "data": {
      "text/html": [
       "<div>\n",
       "<style scoped>\n",
       "    .dataframe tbody tr th:only-of-type {\n",
       "        vertical-align: middle;\n",
       "    }\n",
       "\n",
       "    .dataframe tbody tr th {\n",
       "        vertical-align: top;\n",
       "    }\n",
       "\n",
       "    .dataframe thead th {\n",
       "        text-align: right;\n",
       "    }\n",
       "</style>\n",
       "<table border=\"1\" class=\"dataframe\">\n",
       "  <thead>\n",
       "    <tr style=\"text-align: right;\">\n",
       "      <th></th>\n",
       "      <th>customer_id</th>\n",
       "      <th>begin_date</th>\n",
       "      <th>end_date</th>\n",
       "      <th>type</th>\n",
       "      <th>paperless_billing</th>\n",
       "      <th>payment_method</th>\n",
       "      <th>monthly_charges</th>\n",
       "      <th>total_charges</th>\n",
       "    </tr>\n",
       "  </thead>\n",
       "  <tbody>\n",
       "    <tr>\n",
       "      <th>0</th>\n",
       "      <td>7590-VHVEG</td>\n",
       "      <td>2020-01-01</td>\n",
       "      <td>No</td>\n",
       "      <td>Month-to-month</td>\n",
       "      <td>Yes</td>\n",
       "      <td>Electronic check</td>\n",
       "      <td>29.85</td>\n",
       "      <td>29.85</td>\n",
       "    </tr>\n",
       "    <tr>\n",
       "      <th>1</th>\n",
       "      <td>5575-GNVDE</td>\n",
       "      <td>2017-04-01</td>\n",
       "      <td>No</td>\n",
       "      <td>One year</td>\n",
       "      <td>No</td>\n",
       "      <td>Mailed check</td>\n",
       "      <td>56.95</td>\n",
       "      <td>1889.5</td>\n",
       "    </tr>\n",
       "    <tr>\n",
       "      <th>2</th>\n",
       "      <td>3668-QPYBK</td>\n",
       "      <td>2019-10-01</td>\n",
       "      <td>2019-12-01 00:00:00</td>\n",
       "      <td>Month-to-month</td>\n",
       "      <td>Yes</td>\n",
       "      <td>Mailed check</td>\n",
       "      <td>53.85</td>\n",
       "      <td>108.15</td>\n",
       "    </tr>\n",
       "    <tr>\n",
       "      <th>3</th>\n",
       "      <td>7795-CFOCW</td>\n",
       "      <td>2016-05-01</td>\n",
       "      <td>No</td>\n",
       "      <td>One year</td>\n",
       "      <td>No</td>\n",
       "      <td>Bank transfer (automatic)</td>\n",
       "      <td>42.30</td>\n",
       "      <td>1840.75</td>\n",
       "    </tr>\n",
       "    <tr>\n",
       "      <th>4</th>\n",
       "      <td>9237-HQITU</td>\n",
       "      <td>2019-09-01</td>\n",
       "      <td>2019-11-01 00:00:00</td>\n",
       "      <td>Month-to-month</td>\n",
       "      <td>Yes</td>\n",
       "      <td>Electronic check</td>\n",
       "      <td>70.70</td>\n",
       "      <td>151.65</td>\n",
       "    </tr>\n",
       "  </tbody>\n",
       "</table>\n",
       "</div>"
      ],
      "text/plain": [
       "  customer_id  begin_date             end_date            type  \\\n",
       "0  7590-VHVEG  2020-01-01                   No  Month-to-month   \n",
       "1  5575-GNVDE  2017-04-01                   No        One year   \n",
       "2  3668-QPYBK  2019-10-01  2019-12-01 00:00:00  Month-to-month   \n",
       "3  7795-CFOCW  2016-05-01                   No        One year   \n",
       "4  9237-HQITU  2019-09-01  2019-11-01 00:00:00  Month-to-month   \n",
       "\n",
       "  paperless_billing             payment_method  monthly_charges total_charges  \n",
       "0               Yes           Electronic check            29.85         29.85  \n",
       "1                No               Mailed check            56.95        1889.5  \n",
       "2               Yes               Mailed check            53.85        108.15  \n",
       "3                No  Bank transfer (automatic)            42.30       1840.75  \n",
       "4               Yes           Electronic check            70.70        151.65  "
      ]
     },
     "metadata": {},
     "output_type": "display_data"
    },
    {
     "data": {
      "text/html": [
       "<div>\n",
       "<style scoped>\n",
       "    .dataframe tbody tr th:only-of-type {\n",
       "        vertical-align: middle;\n",
       "    }\n",
       "\n",
       "    .dataframe tbody tr th {\n",
       "        vertical-align: top;\n",
       "    }\n",
       "\n",
       "    .dataframe thead th {\n",
       "        text-align: right;\n",
       "    }\n",
       "</style>\n",
       "<table border=\"1\" class=\"dataframe\">\n",
       "  <thead>\n",
       "    <tr style=\"text-align: right;\">\n",
       "      <th></th>\n",
       "      <th>customer_id</th>\n",
       "      <th>begin_date</th>\n",
       "      <th>end_date</th>\n",
       "      <th>type</th>\n",
       "      <th>paperless_billing</th>\n",
       "      <th>payment_method</th>\n",
       "      <th>total_charges</th>\n",
       "    </tr>\n",
       "  </thead>\n",
       "  <tbody>\n",
       "    <tr>\n",
       "      <th>count</th>\n",
       "      <td>7043</td>\n",
       "      <td>7043</td>\n",
       "      <td>7043</td>\n",
       "      <td>7043</td>\n",
       "      <td>7043</td>\n",
       "      <td>7043</td>\n",
       "      <td>7043</td>\n",
       "    </tr>\n",
       "    <tr>\n",
       "      <th>unique</th>\n",
       "      <td>7043</td>\n",
       "      <td>77</td>\n",
       "      <td>5</td>\n",
       "      <td>3</td>\n",
       "      <td>2</td>\n",
       "      <td>4</td>\n",
       "      <td>6531</td>\n",
       "    </tr>\n",
       "    <tr>\n",
       "      <th>top</th>\n",
       "      <td>9755-JHNMN</td>\n",
       "      <td>2014-02-01</td>\n",
       "      <td>No</td>\n",
       "      <td>Month-to-month</td>\n",
       "      <td>Yes</td>\n",
       "      <td>Electronic check</td>\n",
       "      <td></td>\n",
       "    </tr>\n",
       "    <tr>\n",
       "      <th>freq</th>\n",
       "      <td>1</td>\n",
       "      <td>366</td>\n",
       "      <td>5174</td>\n",
       "      <td>3875</td>\n",
       "      <td>4171</td>\n",
       "      <td>2365</td>\n",
       "      <td>11</td>\n",
       "    </tr>\n",
       "  </tbody>\n",
       "</table>\n",
       "</div>"
      ],
      "text/plain": [
       "       customer_id  begin_date end_date            type paperless_billing  \\\n",
       "count         7043        7043     7043            7043              7043   \n",
       "unique        7043          77        5               3                 2   \n",
       "top     9755-JHNMN  2014-02-01       No  Month-to-month               Yes   \n",
       "freq             1         366     5174            3875              4171   \n",
       "\n",
       "          payment_method total_charges  \n",
       "count               7043          7043  \n",
       "unique                 4          6531  \n",
       "top     Electronic check                \n",
       "freq                2365            11  "
      ]
     },
     "metadata": {},
     "output_type": "display_data"
    },
    {
     "name": "stdout",
     "output_type": "stream",
     "text": [
      "Способы оплаты: \n",
      " Electronic check             2365\n",
      "Mailed check                 1612\n",
      "Bank transfer (automatic)    1544\n",
      "Credit card (automatic)      1522\n",
      "Name: payment_method, dtype: int64\n"
     ]
    }
   ],
   "source": [
    "df_info(contract)\n",
    "print('Способы оплаты: \\n', contract.payment_method.value_counts())"
   ]
  },
  {
   "cell_type": "markdown",
   "metadata": {},
   "source": [
    "Посмотрим, какая есть информация о договорах, актуальная на 1 февраля 2020:\n",
    "\n",
    "* `customer_id` - уникальный код клиента, всего в базе информация о 7043 клиентах\n",
    "\n",
    "* `begin_date` - дата заключения договора\n",
    "* `end_date` - дата окончания договора, если она не указана, будем считать, что клиент еще пользуется услугами «Ниединогоразрыва.ком»\n",
    "* `type` - способ расчёта клиента: можно платить каждый месяц (month-to-month) или заключить договор на 1–2 года (one year/two year)\n",
    "* `paperless_billing` - клиент запросил электронный чек, если указано Yes и бумажный, если - No\n",
    "* `payment_method` - метод оплаты (Electronic check/Mailed check/Bank transfer/Credit card)\n",
    "* `monthly_charges` - ежемесячные платежи клиента\n",
    "* `total_charges` - общие расходы клиента\n",
    "\n",
    "Тип данных `begin_date` и `end_date` надо заменить на Datetime, `total_charges` - на float64"
   ]
  },
  {
   "cell_type": "code",
   "execution_count": 6,
   "metadata": {},
   "outputs": [
    {
     "name": "stdout",
     "output_type": "stream",
     "text": [
      "<class 'pandas.core.frame.DataFrame'>\n",
      "RangeIndex: 7043 entries, 0 to 7042\n",
      "Data columns (total 3 columns):\n",
      " #   Column         Non-Null Count  Dtype         \n",
      "---  ------         --------------  -----         \n",
      " 0   begin_date     7043 non-null   datetime64[ns]\n",
      " 1   end_date       1869 non-null   datetime64[ns]\n",
      " 2   total_charges  7032 non-null   float64       \n",
      "dtypes: datetime64[ns](2), float64(1)\n",
      "memory usage: 165.2 KB\n"
     ]
    }
   ],
   "source": [
    "contract[['begin_date', 'end_date']] = (\n",
    "    contract[['begin_date', 'end_date']].apply(\n",
    "        pd.to_datetime, errors='coerce'))\n",
    "\n",
    "contract['total_charges'] = pd.to_numeric(\n",
    "    contract['total_charges'], errors='coerce')\n",
    "contract[['begin_date', 'end_date', 'total_charges']].info()"
   ]
  },
  {
   "cell_type": "markdown",
   "metadata": {},
   "source": [
    "В столбце `begin_date` не было пропусков, в end_date 5174 пропуска, значит столько клиентов все еще пользуются услугами оператора, в `total_charges` 11 пропусков, посмотрим, что это за пропуски:"
   ]
  },
  {
   "cell_type": "code",
   "execution_count": 7,
   "metadata": {},
   "outputs": [
    {
     "data": {
      "text/plain": [
       "2020-02-01    11\n",
       "Name: begin_date, dtype: int64"
      ]
     },
     "execution_count": 7,
     "metadata": {},
     "output_type": "execute_result"
    }
   ],
   "source": [
    "contract[contract['total_charges'].isna()]['begin_date'].value_counts()"
   ]
  },
  {
   "cell_type": "markdown",
   "metadata": {},
   "source": [
    "Видим, что данные о `total_charges` пропущены у тех клиентов, которые присоединились к оператору в дату, на которую собиралась информация о договорах - 1 февраля 2020. Такие данные не помогут обучению модели, так как мы не знаем, на какой срок останутся только что присоединившиеся клиенты - можем их удалить, тем более, что таких всего 11 записей < 1% данных."
   ]
  },
  {
   "cell_type": "code",
   "execution_count": 8,
   "metadata": {},
   "outputs": [
    {
     "data": {
      "text/html": [
       "<div>\n",
       "<style scoped>\n",
       "    .dataframe tbody tr th:only-of-type {\n",
       "        vertical-align: middle;\n",
       "    }\n",
       "\n",
       "    .dataframe tbody tr th {\n",
       "        vertical-align: top;\n",
       "    }\n",
       "\n",
       "    .dataframe thead th {\n",
       "        text-align: right;\n",
       "    }\n",
       "</style>\n",
       "<table border=\"1\" class=\"dataframe\">\n",
       "  <thead>\n",
       "    <tr style=\"text-align: right;\">\n",
       "      <th></th>\n",
       "      <th>customer_id</th>\n",
       "      <th>begin_date</th>\n",
       "      <th>end_date</th>\n",
       "      <th>type</th>\n",
       "      <th>paperless_billing</th>\n",
       "      <th>payment_method</th>\n",
       "      <th>monthly_charges</th>\n",
       "      <th>total_charges</th>\n",
       "    </tr>\n",
       "  </thead>\n",
       "  <tbody>\n",
       "    <tr>\n",
       "      <th>0</th>\n",
       "      <td>7590-VHVEG</td>\n",
       "      <td>2020-01-01</td>\n",
       "      <td>NaT</td>\n",
       "      <td>Month-to-month</td>\n",
       "      <td>Yes</td>\n",
       "      <td>Electronic check</td>\n",
       "      <td>29.85</td>\n",
       "      <td>29.85</td>\n",
       "    </tr>\n",
       "    <tr>\n",
       "      <th>1</th>\n",
       "      <td>5575-GNVDE</td>\n",
       "      <td>2017-04-01</td>\n",
       "      <td>NaT</td>\n",
       "      <td>One year</td>\n",
       "      <td>No</td>\n",
       "      <td>Mailed check</td>\n",
       "      <td>56.95</td>\n",
       "      <td>1889.50</td>\n",
       "    </tr>\n",
       "    <tr>\n",
       "      <th>2</th>\n",
       "      <td>3668-QPYBK</td>\n",
       "      <td>2019-10-01</td>\n",
       "      <td>2019-12-01</td>\n",
       "      <td>Month-to-month</td>\n",
       "      <td>Yes</td>\n",
       "      <td>Mailed check</td>\n",
       "      <td>53.85</td>\n",
       "      <td>108.15</td>\n",
       "    </tr>\n",
       "    <tr>\n",
       "      <th>3</th>\n",
       "      <td>7795-CFOCW</td>\n",
       "      <td>2016-05-01</td>\n",
       "      <td>NaT</td>\n",
       "      <td>One year</td>\n",
       "      <td>No</td>\n",
       "      <td>Bank transfer (automatic)</td>\n",
       "      <td>42.30</td>\n",
       "      <td>1840.75</td>\n",
       "    </tr>\n",
       "    <tr>\n",
       "      <th>4</th>\n",
       "      <td>9237-HQITU</td>\n",
       "      <td>2019-09-01</td>\n",
       "      <td>2019-11-01</td>\n",
       "      <td>Month-to-month</td>\n",
       "      <td>Yes</td>\n",
       "      <td>Electronic check</td>\n",
       "      <td>70.70</td>\n",
       "      <td>151.65</td>\n",
       "    </tr>\n",
       "    <tr>\n",
       "      <th>...</th>\n",
       "      <td>...</td>\n",
       "      <td>...</td>\n",
       "      <td>...</td>\n",
       "      <td>...</td>\n",
       "      <td>...</td>\n",
       "      <td>...</td>\n",
       "      <td>...</td>\n",
       "      <td>...</td>\n",
       "    </tr>\n",
       "    <tr>\n",
       "      <th>7027</th>\n",
       "      <td>6840-RESVB</td>\n",
       "      <td>2018-02-01</td>\n",
       "      <td>NaT</td>\n",
       "      <td>One year</td>\n",
       "      <td>Yes</td>\n",
       "      <td>Mailed check</td>\n",
       "      <td>84.80</td>\n",
       "      <td>1990.50</td>\n",
       "    </tr>\n",
       "    <tr>\n",
       "      <th>7028</th>\n",
       "      <td>2234-XADUH</td>\n",
       "      <td>2014-02-01</td>\n",
       "      <td>NaT</td>\n",
       "      <td>One year</td>\n",
       "      <td>Yes</td>\n",
       "      <td>Credit card (automatic)</td>\n",
       "      <td>103.20</td>\n",
       "      <td>7362.90</td>\n",
       "    </tr>\n",
       "    <tr>\n",
       "      <th>7029</th>\n",
       "      <td>4801-JZAZL</td>\n",
       "      <td>2019-03-01</td>\n",
       "      <td>NaT</td>\n",
       "      <td>Month-to-month</td>\n",
       "      <td>Yes</td>\n",
       "      <td>Electronic check</td>\n",
       "      <td>29.60</td>\n",
       "      <td>346.45</td>\n",
       "    </tr>\n",
       "    <tr>\n",
       "      <th>7030</th>\n",
       "      <td>8361-LTMKD</td>\n",
       "      <td>2019-07-01</td>\n",
       "      <td>2019-11-01</td>\n",
       "      <td>Month-to-month</td>\n",
       "      <td>Yes</td>\n",
       "      <td>Mailed check</td>\n",
       "      <td>74.40</td>\n",
       "      <td>306.60</td>\n",
       "    </tr>\n",
       "    <tr>\n",
       "      <th>7031</th>\n",
       "      <td>3186-AJIEK</td>\n",
       "      <td>2014-08-01</td>\n",
       "      <td>NaT</td>\n",
       "      <td>Two year</td>\n",
       "      <td>Yes</td>\n",
       "      <td>Bank transfer (automatic)</td>\n",
       "      <td>105.65</td>\n",
       "      <td>6844.50</td>\n",
       "    </tr>\n",
       "  </tbody>\n",
       "</table>\n",
       "<p>7032 rows × 8 columns</p>\n",
       "</div>"
      ],
      "text/plain": [
       "     customer_id begin_date   end_date            type paperless_billing  \\\n",
       "0     7590-VHVEG 2020-01-01        NaT  Month-to-month               Yes   \n",
       "1     5575-GNVDE 2017-04-01        NaT        One year                No   \n",
       "2     3668-QPYBK 2019-10-01 2019-12-01  Month-to-month               Yes   \n",
       "3     7795-CFOCW 2016-05-01        NaT        One year                No   \n",
       "4     9237-HQITU 2019-09-01 2019-11-01  Month-to-month               Yes   \n",
       "...          ...        ...        ...             ...               ...   \n",
       "7027  6840-RESVB 2018-02-01        NaT        One year               Yes   \n",
       "7028  2234-XADUH 2014-02-01        NaT        One year               Yes   \n",
       "7029  4801-JZAZL 2019-03-01        NaT  Month-to-month               Yes   \n",
       "7030  8361-LTMKD 2019-07-01 2019-11-01  Month-to-month               Yes   \n",
       "7031  3186-AJIEK 2014-08-01        NaT        Two year               Yes   \n",
       "\n",
       "                 payment_method  monthly_charges  total_charges  \n",
       "0              Electronic check            29.85          29.85  \n",
       "1                  Mailed check            56.95        1889.50  \n",
       "2                  Mailed check            53.85         108.15  \n",
       "3     Bank transfer (automatic)            42.30        1840.75  \n",
       "4              Electronic check            70.70         151.65  \n",
       "...                         ...              ...            ...  \n",
       "7027               Mailed check            84.80        1990.50  \n",
       "7028    Credit card (automatic)           103.20        7362.90  \n",
       "7029           Electronic check            29.60         346.45  \n",
       "7030               Mailed check            74.40         306.60  \n",
       "7031  Bank transfer (automatic)           105.65        6844.50  \n",
       "\n",
       "[7032 rows x 8 columns]"
      ]
     },
     "execution_count": 8,
     "metadata": {},
     "output_type": "execute_result"
    }
   ],
   "source": [
    "contract.dropna(subset=['total_charges'], inplace=True)\n",
    "contract.reset_index(drop=True)"
   ]
  },
  {
   "cell_type": "markdown",
   "metadata": {},
   "source": [
    "Готово, пропусков нет, из других таблиц эти клиенты удалятся, когда мы будем их мержить.\n",
    "\n",
    "Добавим в таблицу целевой признак `left`, равный 1, если пользователь ушел, и 0, если пользователь продолжает пользоваться услугами оператора."
   ]
  },
  {
   "cell_type": "code",
   "execution_count": 9,
   "metadata": {},
   "outputs": [],
   "source": [
    "contract['left'] = contract['end_date'].notna().astype('int')"
   ]
  },
  {
   "cell_type": "markdown",
   "metadata": {},
   "source": [
    "Готово, переходим к таблице personal"
   ]
  },
  {
   "cell_type": "code",
   "execution_count": 10,
   "metadata": {},
   "outputs": [
    {
     "name": "stdout",
     "output_type": "stream",
     "text": [
      "<class 'pandas.core.frame.DataFrame'>\n",
      "RangeIndex: 7043 entries, 0 to 7042\n",
      "Data columns (total 5 columns):\n",
      " #   Column          Non-Null Count  Dtype \n",
      "---  ------          --------------  ----- \n",
      " 0   customer_id     7043 non-null   object\n",
      " 1   gender          7043 non-null   object\n",
      " 2   senior_citizen  7043 non-null   int64 \n",
      " 3   partner         7043 non-null   object\n",
      " 4   dependents      7043 non-null   object\n",
      "dtypes: int64(1), object(4)\n",
      "memory usage: 275.2+ KB\n"
     ]
    },
    {
     "data": {
      "text/html": [
       "<div>\n",
       "<style scoped>\n",
       "    .dataframe tbody tr th:only-of-type {\n",
       "        vertical-align: middle;\n",
       "    }\n",
       "\n",
       "    .dataframe tbody tr th {\n",
       "        vertical-align: top;\n",
       "    }\n",
       "\n",
       "    .dataframe thead th {\n",
       "        text-align: right;\n",
       "    }\n",
       "</style>\n",
       "<table border=\"1\" class=\"dataframe\">\n",
       "  <thead>\n",
       "    <tr style=\"text-align: right;\">\n",
       "      <th></th>\n",
       "      <th>customer_id</th>\n",
       "      <th>gender</th>\n",
       "      <th>senior_citizen</th>\n",
       "      <th>partner</th>\n",
       "      <th>dependents</th>\n",
       "    </tr>\n",
       "  </thead>\n",
       "  <tbody>\n",
       "    <tr>\n",
       "      <th>0</th>\n",
       "      <td>7590-VHVEG</td>\n",
       "      <td>Female</td>\n",
       "      <td>0</td>\n",
       "      <td>Yes</td>\n",
       "      <td>No</td>\n",
       "    </tr>\n",
       "    <tr>\n",
       "      <th>1</th>\n",
       "      <td>5575-GNVDE</td>\n",
       "      <td>Male</td>\n",
       "      <td>0</td>\n",
       "      <td>No</td>\n",
       "      <td>No</td>\n",
       "    </tr>\n",
       "    <tr>\n",
       "      <th>2</th>\n",
       "      <td>3668-QPYBK</td>\n",
       "      <td>Male</td>\n",
       "      <td>0</td>\n",
       "      <td>No</td>\n",
       "      <td>No</td>\n",
       "    </tr>\n",
       "    <tr>\n",
       "      <th>3</th>\n",
       "      <td>7795-CFOCW</td>\n",
       "      <td>Male</td>\n",
       "      <td>0</td>\n",
       "      <td>No</td>\n",
       "      <td>No</td>\n",
       "    </tr>\n",
       "    <tr>\n",
       "      <th>4</th>\n",
       "      <td>9237-HQITU</td>\n",
       "      <td>Female</td>\n",
       "      <td>0</td>\n",
       "      <td>No</td>\n",
       "      <td>No</td>\n",
       "    </tr>\n",
       "  </tbody>\n",
       "</table>\n",
       "</div>"
      ],
      "text/plain": [
       "  customer_id  gender  senior_citizen partner dependents\n",
       "0  7590-VHVEG  Female               0     Yes         No\n",
       "1  5575-GNVDE    Male               0      No         No\n",
       "2  3668-QPYBK    Male               0      No         No\n",
       "3  7795-CFOCW    Male               0      No         No\n",
       "4  9237-HQITU  Female               0      No         No"
      ]
     },
     "metadata": {},
     "output_type": "display_data"
    },
    {
     "data": {
      "text/html": [
       "<div>\n",
       "<style scoped>\n",
       "    .dataframe tbody tr th:only-of-type {\n",
       "        vertical-align: middle;\n",
       "    }\n",
       "\n",
       "    .dataframe tbody tr th {\n",
       "        vertical-align: top;\n",
       "    }\n",
       "\n",
       "    .dataframe thead th {\n",
       "        text-align: right;\n",
       "    }\n",
       "</style>\n",
       "<table border=\"1\" class=\"dataframe\">\n",
       "  <thead>\n",
       "    <tr style=\"text-align: right;\">\n",
       "      <th></th>\n",
       "      <th>customer_id</th>\n",
       "      <th>gender</th>\n",
       "      <th>partner</th>\n",
       "      <th>dependents</th>\n",
       "    </tr>\n",
       "  </thead>\n",
       "  <tbody>\n",
       "    <tr>\n",
       "      <th>count</th>\n",
       "      <td>7043</td>\n",
       "      <td>7043</td>\n",
       "      <td>7043</td>\n",
       "      <td>7043</td>\n",
       "    </tr>\n",
       "    <tr>\n",
       "      <th>unique</th>\n",
       "      <td>7043</td>\n",
       "      <td>2</td>\n",
       "      <td>2</td>\n",
       "      <td>2</td>\n",
       "    </tr>\n",
       "    <tr>\n",
       "      <th>top</th>\n",
       "      <td>9755-JHNMN</td>\n",
       "      <td>Male</td>\n",
       "      <td>No</td>\n",
       "      <td>No</td>\n",
       "    </tr>\n",
       "    <tr>\n",
       "      <th>freq</th>\n",
       "      <td>1</td>\n",
       "      <td>3555</td>\n",
       "      <td>3641</td>\n",
       "      <td>4933</td>\n",
       "    </tr>\n",
       "  </tbody>\n",
       "</table>\n",
       "</div>"
      ],
      "text/plain": [
       "       customer_id gender partner dependents\n",
       "count         7043   7043    7043       7043\n",
       "unique        7043      2       2          2\n",
       "top     9755-JHNMN   Male      No         No\n",
       "freq             1   3555    3641       4933"
      ]
     },
     "metadata": {},
     "output_type": "display_data"
    }
   ],
   "source": [
    "df_info(personal)"
   ]
  },
  {
   "cell_type": "markdown",
   "metadata": {},
   "source": [
    "Таблица personal содержит персональные данные всех клиентов оператора:\n",
    "* `customer_id` - уникальный код клиента\n",
    "\n",
    "* `gender` - пол (Female/Male)\n",
    "* `senior_citizen` - является ли пенсионером (0/1)\n",
    "* `partner` - есть ли супруг/супруга (Yes/No)\n",
    "* `dependents` - есть ли дети (Yes/No)"
   ]
  },
  {
   "cell_type": "code",
   "execution_count": 11,
   "metadata": {},
   "outputs": [
    {
     "name": "stdout",
     "output_type": "stream",
     "text": [
      "<class 'pandas.core.frame.DataFrame'>\n",
      "RangeIndex: 5517 entries, 0 to 5516\n",
      "Data columns (total 8 columns):\n",
      " #   Column             Non-Null Count  Dtype \n",
      "---  ------             --------------  ----- \n",
      " 0   customer_id        5517 non-null   object\n",
      " 1   internet_service   5517 non-null   object\n",
      " 2   online_security    5517 non-null   object\n",
      " 3   online_backup      5517 non-null   object\n",
      " 4   device_protection  5517 non-null   object\n",
      " 5   tech_support       5517 non-null   object\n",
      " 6   streaming_tv       5517 non-null   object\n",
      " 7   streaming_movies   5517 non-null   object\n",
      "dtypes: object(8)\n",
      "memory usage: 344.9+ KB\n"
     ]
    },
    {
     "data": {
      "text/html": [
       "<div>\n",
       "<style scoped>\n",
       "    .dataframe tbody tr th:only-of-type {\n",
       "        vertical-align: middle;\n",
       "    }\n",
       "\n",
       "    .dataframe tbody tr th {\n",
       "        vertical-align: top;\n",
       "    }\n",
       "\n",
       "    .dataframe thead th {\n",
       "        text-align: right;\n",
       "    }\n",
       "</style>\n",
       "<table border=\"1\" class=\"dataframe\">\n",
       "  <thead>\n",
       "    <tr style=\"text-align: right;\">\n",
       "      <th></th>\n",
       "      <th>customer_id</th>\n",
       "      <th>internet_service</th>\n",
       "      <th>online_security</th>\n",
       "      <th>online_backup</th>\n",
       "      <th>device_protection</th>\n",
       "      <th>tech_support</th>\n",
       "      <th>streaming_tv</th>\n",
       "      <th>streaming_movies</th>\n",
       "    </tr>\n",
       "  </thead>\n",
       "  <tbody>\n",
       "    <tr>\n",
       "      <th>0</th>\n",
       "      <td>7590-VHVEG</td>\n",
       "      <td>DSL</td>\n",
       "      <td>No</td>\n",
       "      <td>Yes</td>\n",
       "      <td>No</td>\n",
       "      <td>No</td>\n",
       "      <td>No</td>\n",
       "      <td>No</td>\n",
       "    </tr>\n",
       "    <tr>\n",
       "      <th>1</th>\n",
       "      <td>5575-GNVDE</td>\n",
       "      <td>DSL</td>\n",
       "      <td>Yes</td>\n",
       "      <td>No</td>\n",
       "      <td>Yes</td>\n",
       "      <td>No</td>\n",
       "      <td>No</td>\n",
       "      <td>No</td>\n",
       "    </tr>\n",
       "    <tr>\n",
       "      <th>2</th>\n",
       "      <td>3668-QPYBK</td>\n",
       "      <td>DSL</td>\n",
       "      <td>Yes</td>\n",
       "      <td>Yes</td>\n",
       "      <td>No</td>\n",
       "      <td>No</td>\n",
       "      <td>No</td>\n",
       "      <td>No</td>\n",
       "    </tr>\n",
       "    <tr>\n",
       "      <th>3</th>\n",
       "      <td>7795-CFOCW</td>\n",
       "      <td>DSL</td>\n",
       "      <td>Yes</td>\n",
       "      <td>No</td>\n",
       "      <td>Yes</td>\n",
       "      <td>Yes</td>\n",
       "      <td>No</td>\n",
       "      <td>No</td>\n",
       "    </tr>\n",
       "    <tr>\n",
       "      <th>4</th>\n",
       "      <td>9237-HQITU</td>\n",
       "      <td>Fiber optic</td>\n",
       "      <td>No</td>\n",
       "      <td>No</td>\n",
       "      <td>No</td>\n",
       "      <td>No</td>\n",
       "      <td>No</td>\n",
       "      <td>No</td>\n",
       "    </tr>\n",
       "  </tbody>\n",
       "</table>\n",
       "</div>"
      ],
      "text/plain": [
       "  customer_id internet_service online_security online_backup  \\\n",
       "0  7590-VHVEG              DSL              No           Yes   \n",
       "1  5575-GNVDE              DSL             Yes            No   \n",
       "2  3668-QPYBK              DSL             Yes           Yes   \n",
       "3  7795-CFOCW              DSL             Yes            No   \n",
       "4  9237-HQITU      Fiber optic              No            No   \n",
       "\n",
       "  device_protection tech_support streaming_tv streaming_movies  \n",
       "0                No           No           No               No  \n",
       "1               Yes           No           No               No  \n",
       "2                No           No           No               No  \n",
       "3               Yes          Yes           No               No  \n",
       "4                No           No           No               No  "
      ]
     },
     "metadata": {},
     "output_type": "display_data"
    },
    {
     "data": {
      "text/html": [
       "<div>\n",
       "<style scoped>\n",
       "    .dataframe tbody tr th:only-of-type {\n",
       "        vertical-align: middle;\n",
       "    }\n",
       "\n",
       "    .dataframe tbody tr th {\n",
       "        vertical-align: top;\n",
       "    }\n",
       "\n",
       "    .dataframe thead th {\n",
       "        text-align: right;\n",
       "    }\n",
       "</style>\n",
       "<table border=\"1\" class=\"dataframe\">\n",
       "  <thead>\n",
       "    <tr style=\"text-align: right;\">\n",
       "      <th></th>\n",
       "      <th>customer_id</th>\n",
       "      <th>internet_service</th>\n",
       "      <th>online_security</th>\n",
       "      <th>online_backup</th>\n",
       "      <th>device_protection</th>\n",
       "      <th>tech_support</th>\n",
       "      <th>streaming_tv</th>\n",
       "      <th>streaming_movies</th>\n",
       "    </tr>\n",
       "  </thead>\n",
       "  <tbody>\n",
       "    <tr>\n",
       "      <th>count</th>\n",
       "      <td>5517</td>\n",
       "      <td>5517</td>\n",
       "      <td>5517</td>\n",
       "      <td>5517</td>\n",
       "      <td>5517</td>\n",
       "      <td>5517</td>\n",
       "      <td>5517</td>\n",
       "      <td>5517</td>\n",
       "    </tr>\n",
       "    <tr>\n",
       "      <th>unique</th>\n",
       "      <td>5517</td>\n",
       "      <td>2</td>\n",
       "      <td>2</td>\n",
       "      <td>2</td>\n",
       "      <td>2</td>\n",
       "      <td>2</td>\n",
       "      <td>2</td>\n",
       "      <td>2</td>\n",
       "    </tr>\n",
       "    <tr>\n",
       "      <th>top</th>\n",
       "      <td>9755-JHNMN</td>\n",
       "      <td>Fiber optic</td>\n",
       "      <td>No</td>\n",
       "      <td>No</td>\n",
       "      <td>No</td>\n",
       "      <td>No</td>\n",
       "      <td>No</td>\n",
       "      <td>No</td>\n",
       "    </tr>\n",
       "    <tr>\n",
       "      <th>freq</th>\n",
       "      <td>1</td>\n",
       "      <td>3096</td>\n",
       "      <td>3498</td>\n",
       "      <td>3088</td>\n",
       "      <td>3095</td>\n",
       "      <td>3473</td>\n",
       "      <td>2810</td>\n",
       "      <td>2785</td>\n",
       "    </tr>\n",
       "  </tbody>\n",
       "</table>\n",
       "</div>"
      ],
      "text/plain": [
       "       customer_id internet_service online_security online_backup  \\\n",
       "count         5517             5517            5517          5517   \n",
       "unique        5517                2               2             2   \n",
       "top     9755-JHNMN      Fiber optic              No            No   \n",
       "freq             1             3096            3498          3088   \n",
       "\n",
       "       device_protection tech_support streaming_tv streaming_movies  \n",
       "count               5517         5517         5517             5517  \n",
       "unique                 2            2            2                2  \n",
       "top                   No           No           No               No  \n",
       "freq                3095         3473         2810             2785  "
      ]
     },
     "metadata": {},
     "output_type": "display_data"
    }
   ],
   "source": [
    "df_info(internet)"
   ]
  },
  {
   "cell_type": "markdown",
   "metadata": {},
   "source": [
    "Таблица internet содержит данные об интернет-услугах:\n",
    "\n",
    "* `customer_id` - уникальный код клиента, использующего услуги\n",
    "\n",
    "* `internet_service` -  тип подключения, может быть двух типов: через телефонную линию (DSL) или оптоволоконный кабель (Fiber optic)\n",
    "* `online_security` - наличие/отстутствие услуги \"блокировка небезопасных сайтов\"\n",
    "* `online_backup` - наличие/отстутствие услуги \"облачное хранилище файлов для резервного копирования данных\"\n",
    "* `device_protection` - наличие/отстутствие услуги \"антивирус\"\n",
    "* `tech_support` - наличие/отстутствие услуги \"выделенная линия технической поддержки\"\n",
    "* `streaming_tv` - наличие/отстутствие услуги \"стриминговое телевидение\"\n",
    "* `streaming_movies` - наличие/отстутствие услуги \"каталог фильмов\""
   ]
  },
  {
   "cell_type": "code",
   "execution_count": 12,
   "metadata": {},
   "outputs": [
    {
     "name": "stdout",
     "output_type": "stream",
     "text": [
      "<class 'pandas.core.frame.DataFrame'>\n",
      "RangeIndex: 6361 entries, 0 to 6360\n",
      "Data columns (total 2 columns):\n",
      " #   Column          Non-Null Count  Dtype \n",
      "---  ------          --------------  ----- \n",
      " 0   customer_id     6361 non-null   object\n",
      " 1   multiple_lines  6361 non-null   object\n",
      "dtypes: object(2)\n",
      "memory usage: 99.5+ KB\n"
     ]
    },
    {
     "data": {
      "text/html": [
       "<div>\n",
       "<style scoped>\n",
       "    .dataframe tbody tr th:only-of-type {\n",
       "        vertical-align: middle;\n",
       "    }\n",
       "\n",
       "    .dataframe tbody tr th {\n",
       "        vertical-align: top;\n",
       "    }\n",
       "\n",
       "    .dataframe thead th {\n",
       "        text-align: right;\n",
       "    }\n",
       "</style>\n",
       "<table border=\"1\" class=\"dataframe\">\n",
       "  <thead>\n",
       "    <tr style=\"text-align: right;\">\n",
       "      <th></th>\n",
       "      <th>customer_id</th>\n",
       "      <th>multiple_lines</th>\n",
       "    </tr>\n",
       "  </thead>\n",
       "  <tbody>\n",
       "    <tr>\n",
       "      <th>0</th>\n",
       "      <td>5575-GNVDE</td>\n",
       "      <td>No</td>\n",
       "    </tr>\n",
       "    <tr>\n",
       "      <th>1</th>\n",
       "      <td>3668-QPYBK</td>\n",
       "      <td>No</td>\n",
       "    </tr>\n",
       "    <tr>\n",
       "      <th>2</th>\n",
       "      <td>9237-HQITU</td>\n",
       "      <td>No</td>\n",
       "    </tr>\n",
       "    <tr>\n",
       "      <th>3</th>\n",
       "      <td>9305-CDSKC</td>\n",
       "      <td>Yes</td>\n",
       "    </tr>\n",
       "    <tr>\n",
       "      <th>4</th>\n",
       "      <td>1452-KIOVK</td>\n",
       "      <td>Yes</td>\n",
       "    </tr>\n",
       "  </tbody>\n",
       "</table>\n",
       "</div>"
      ],
      "text/plain": [
       "  customer_id multiple_lines\n",
       "0  5575-GNVDE             No\n",
       "1  3668-QPYBK             No\n",
       "2  9237-HQITU             No\n",
       "3  9305-CDSKC            Yes\n",
       "4  1452-KIOVK            Yes"
      ]
     },
     "metadata": {},
     "output_type": "display_data"
    },
    {
     "data": {
      "text/html": [
       "<div>\n",
       "<style scoped>\n",
       "    .dataframe tbody tr th:only-of-type {\n",
       "        vertical-align: middle;\n",
       "    }\n",
       "\n",
       "    .dataframe tbody tr th {\n",
       "        vertical-align: top;\n",
       "    }\n",
       "\n",
       "    .dataframe thead th {\n",
       "        text-align: right;\n",
       "    }\n",
       "</style>\n",
       "<table border=\"1\" class=\"dataframe\">\n",
       "  <thead>\n",
       "    <tr style=\"text-align: right;\">\n",
       "      <th></th>\n",
       "      <th>customer_id</th>\n",
       "      <th>multiple_lines</th>\n",
       "    </tr>\n",
       "  </thead>\n",
       "  <tbody>\n",
       "    <tr>\n",
       "      <th>count</th>\n",
       "      <td>6361</td>\n",
       "      <td>6361</td>\n",
       "    </tr>\n",
       "    <tr>\n",
       "      <th>unique</th>\n",
       "      <td>6361</td>\n",
       "      <td>2</td>\n",
       "    </tr>\n",
       "    <tr>\n",
       "      <th>top</th>\n",
       "      <td>9755-JHNMN</td>\n",
       "      <td>No</td>\n",
       "    </tr>\n",
       "    <tr>\n",
       "      <th>freq</th>\n",
       "      <td>1</td>\n",
       "      <td>3390</td>\n",
       "    </tr>\n",
       "  </tbody>\n",
       "</table>\n",
       "</div>"
      ],
      "text/plain": [
       "       customer_id multiple_lines\n",
       "count         6361           6361\n",
       "unique        6361              2\n",
       "top     9755-JHNMN             No\n",
       "freq             1           3390"
      ]
     },
     "metadata": {},
     "output_type": "display_data"
    }
   ],
   "source": [
    "df_info(phone)"
   ]
  },
  {
   "cell_type": "markdown",
   "metadata": {},
   "source": [
    "Таблица phone содержит данные об услуге стационарной телефонной связи:\n",
    "* customer_id - уникальный код клиента, использующего услугу\n",
    "* multiple_lines - подключен ли телефонный аппарат к нескольким линиям одновременно."
   ]
  },
  {
   "cell_type": "markdown",
   "metadata": {},
   "source": [
    "### Кодирование признаков"
   ]
  },
  {
   "cell_type": "markdown",
   "metadata": {},
   "source": [
    "Объединим все в результирующую таблицу, чтобы комплексно смотреть на данные. Поскольку у нас есть клиенты, использующие и интернет, и телефонию, то и предсказывать их уход нужно, опираясь на всю информацию, а не отдельно для интернета и телефонии. Возможно, клиент, недовольный интернетом перестанет пользоваться и телефонией нормального качества."
   ]
  },
  {
   "cell_type": "code",
   "execution_count": 13,
   "metadata": {},
   "outputs": [],
   "source": [
    "clean_data = (contract.merge(personal, on='customer_id', how='left')\n",
    "              .merge(internet, on='customer_id', how='left')\n",
    "              .merge(phone, on='customer_id', how='left'))"
   ]
  },
  {
   "cell_type": "markdown",
   "metadata": {},
   "source": [
    "Для обучения модели сгенерируем фичу:\n",
    "- `ltv` время жизни клиента\n",
    "\n",
    "День в расчет не берем, так как данные всегда от 1 числа."
   ]
  },
  {
   "cell_type": "code",
   "execution_count": 14,
   "metadata": {},
   "outputs": [],
   "source": [
    "clean_data['ltv'] = (clean_data['end_date'].fillna(\n",
    "    pd.to_datetime('2020-02-01')) - clean_data['begin_date']\n",
    "                    ).dt.days"
   ]
  },
  {
   "cell_type": "markdown",
   "metadata": {},
   "source": [
    "Удалим признаки, которые не получится использовать при обучении и заполним все пропуски -1"
   ]
  },
  {
   "cell_type": "code",
   "execution_count": 15,
   "metadata": {},
   "outputs": [],
   "source": [
    "clean_data.drop(columns=['customer_id', 'begin_date', 'end_date'],\n",
    "                inplace=True, errors='ignore')\n",
    "clean_data.fillna(-1, inplace=True)"
   ]
  },
  {
   "cell_type": "markdown",
   "metadata": {},
   "source": [
    "Большинтсво признаков бинарное, категориальные признаки преобразуем в численные методом OHE, так как Ordinal Encoding не подходит для логистической регрессии, а OHE работает со всеми моделями. Поскольку  новые столбцы сильно связаны между собой, первый удалим с помощью drop_first=True, восстановить его можно по оставшимся, так мы не попадём в дамми-ловушку."
   ]
  },
  {
   "cell_type": "code",
   "execution_count": 16,
   "metadata": {},
   "outputs": [],
   "source": [
    "clean_data = pd.get_dummies(clean_data, drop_first=True)"
   ]
  },
  {
   "cell_type": "code",
   "execution_count": 17,
   "metadata": {},
   "outputs": [
    {
     "data": {
      "text/html": [
       "<div>\n",
       "<style scoped>\n",
       "    .dataframe tbody tr th:only-of-type {\n",
       "        vertical-align: middle;\n",
       "    }\n",
       "\n",
       "    .dataframe tbody tr th {\n",
       "        vertical-align: top;\n",
       "    }\n",
       "\n",
       "    .dataframe thead th {\n",
       "        text-align: right;\n",
       "    }\n",
       "</style>\n",
       "<table border=\"1\" class=\"dataframe\">\n",
       "  <thead>\n",
       "    <tr style=\"text-align: right;\">\n",
       "      <th></th>\n",
       "      <th>monthly_charges</th>\n",
       "      <th>total_charges</th>\n",
       "      <th>left</th>\n",
       "      <th>senior_citizen</th>\n",
       "      <th>ltv</th>\n",
       "      <th>type_One year</th>\n",
       "      <th>type_Two year</th>\n",
       "      <th>paperless_billing_Yes</th>\n",
       "      <th>payment_method_Credit card (automatic)</th>\n",
       "      <th>payment_method_Electronic check</th>\n",
       "      <th>...</th>\n",
       "      <th>device_protection_No</th>\n",
       "      <th>device_protection_Yes</th>\n",
       "      <th>tech_support_No</th>\n",
       "      <th>tech_support_Yes</th>\n",
       "      <th>streaming_tv_No</th>\n",
       "      <th>streaming_tv_Yes</th>\n",
       "      <th>streaming_movies_No</th>\n",
       "      <th>streaming_movies_Yes</th>\n",
       "      <th>multiple_lines_No</th>\n",
       "      <th>multiple_lines_Yes</th>\n",
       "    </tr>\n",
       "  </thead>\n",
       "  <tbody>\n",
       "    <tr>\n",
       "      <th>0</th>\n",
       "      <td>29.85</td>\n",
       "      <td>29.85</td>\n",
       "      <td>0</td>\n",
       "      <td>0</td>\n",
       "      <td>31</td>\n",
       "      <td>0</td>\n",
       "      <td>0</td>\n",
       "      <td>1</td>\n",
       "      <td>0</td>\n",
       "      <td>1</td>\n",
       "      <td>...</td>\n",
       "      <td>1</td>\n",
       "      <td>0</td>\n",
       "      <td>1</td>\n",
       "      <td>0</td>\n",
       "      <td>1</td>\n",
       "      <td>0</td>\n",
       "      <td>1</td>\n",
       "      <td>0</td>\n",
       "      <td>0</td>\n",
       "      <td>0</td>\n",
       "    </tr>\n",
       "    <tr>\n",
       "      <th>1</th>\n",
       "      <td>56.95</td>\n",
       "      <td>1889.50</td>\n",
       "      <td>0</td>\n",
       "      <td>0</td>\n",
       "      <td>1036</td>\n",
       "      <td>1</td>\n",
       "      <td>0</td>\n",
       "      <td>0</td>\n",
       "      <td>0</td>\n",
       "      <td>0</td>\n",
       "      <td>...</td>\n",
       "      <td>0</td>\n",
       "      <td>1</td>\n",
       "      <td>1</td>\n",
       "      <td>0</td>\n",
       "      <td>1</td>\n",
       "      <td>0</td>\n",
       "      <td>1</td>\n",
       "      <td>0</td>\n",
       "      <td>1</td>\n",
       "      <td>0</td>\n",
       "    </tr>\n",
       "    <tr>\n",
       "      <th>2</th>\n",
       "      <td>53.85</td>\n",
       "      <td>108.15</td>\n",
       "      <td>1</td>\n",
       "      <td>0</td>\n",
       "      <td>61</td>\n",
       "      <td>0</td>\n",
       "      <td>0</td>\n",
       "      <td>1</td>\n",
       "      <td>0</td>\n",
       "      <td>0</td>\n",
       "      <td>...</td>\n",
       "      <td>1</td>\n",
       "      <td>0</td>\n",
       "      <td>1</td>\n",
       "      <td>0</td>\n",
       "      <td>1</td>\n",
       "      <td>0</td>\n",
       "      <td>1</td>\n",
       "      <td>0</td>\n",
       "      <td>1</td>\n",
       "      <td>0</td>\n",
       "    </tr>\n",
       "    <tr>\n",
       "      <th>3</th>\n",
       "      <td>42.30</td>\n",
       "      <td>1840.75</td>\n",
       "      <td>0</td>\n",
       "      <td>0</td>\n",
       "      <td>1371</td>\n",
       "      <td>1</td>\n",
       "      <td>0</td>\n",
       "      <td>0</td>\n",
       "      <td>0</td>\n",
       "      <td>0</td>\n",
       "      <td>...</td>\n",
       "      <td>0</td>\n",
       "      <td>1</td>\n",
       "      <td>0</td>\n",
       "      <td>1</td>\n",
       "      <td>1</td>\n",
       "      <td>0</td>\n",
       "      <td>1</td>\n",
       "      <td>0</td>\n",
       "      <td>0</td>\n",
       "      <td>0</td>\n",
       "    </tr>\n",
       "    <tr>\n",
       "      <th>4</th>\n",
       "      <td>70.70</td>\n",
       "      <td>151.65</td>\n",
       "      <td>1</td>\n",
       "      <td>0</td>\n",
       "      <td>61</td>\n",
       "      <td>0</td>\n",
       "      <td>0</td>\n",
       "      <td>1</td>\n",
       "      <td>0</td>\n",
       "      <td>1</td>\n",
       "      <td>...</td>\n",
       "      <td>1</td>\n",
       "      <td>0</td>\n",
       "      <td>1</td>\n",
       "      <td>0</td>\n",
       "      <td>1</td>\n",
       "      <td>0</td>\n",
       "      <td>1</td>\n",
       "      <td>0</td>\n",
       "      <td>1</td>\n",
       "      <td>0</td>\n",
       "    </tr>\n",
       "    <tr>\n",
       "      <th>...</th>\n",
       "      <td>...</td>\n",
       "      <td>...</td>\n",
       "      <td>...</td>\n",
       "      <td>...</td>\n",
       "      <td>...</td>\n",
       "      <td>...</td>\n",
       "      <td>...</td>\n",
       "      <td>...</td>\n",
       "      <td>...</td>\n",
       "      <td>...</td>\n",
       "      <td>...</td>\n",
       "      <td>...</td>\n",
       "      <td>...</td>\n",
       "      <td>...</td>\n",
       "      <td>...</td>\n",
       "      <td>...</td>\n",
       "      <td>...</td>\n",
       "      <td>...</td>\n",
       "      <td>...</td>\n",
       "      <td>...</td>\n",
       "      <td>...</td>\n",
       "    </tr>\n",
       "    <tr>\n",
       "      <th>7027</th>\n",
       "      <td>84.80</td>\n",
       "      <td>1990.50</td>\n",
       "      <td>0</td>\n",
       "      <td>0</td>\n",
       "      <td>730</td>\n",
       "      <td>1</td>\n",
       "      <td>0</td>\n",
       "      <td>1</td>\n",
       "      <td>0</td>\n",
       "      <td>0</td>\n",
       "      <td>...</td>\n",
       "      <td>0</td>\n",
       "      <td>1</td>\n",
       "      <td>0</td>\n",
       "      <td>1</td>\n",
       "      <td>0</td>\n",
       "      <td>1</td>\n",
       "      <td>0</td>\n",
       "      <td>1</td>\n",
       "      <td>0</td>\n",
       "      <td>1</td>\n",
       "    </tr>\n",
       "    <tr>\n",
       "      <th>7028</th>\n",
       "      <td>103.20</td>\n",
       "      <td>7362.90</td>\n",
       "      <td>0</td>\n",
       "      <td>0</td>\n",
       "      <td>2191</td>\n",
       "      <td>1</td>\n",
       "      <td>0</td>\n",
       "      <td>1</td>\n",
       "      <td>1</td>\n",
       "      <td>0</td>\n",
       "      <td>...</td>\n",
       "      <td>0</td>\n",
       "      <td>1</td>\n",
       "      <td>1</td>\n",
       "      <td>0</td>\n",
       "      <td>0</td>\n",
       "      <td>1</td>\n",
       "      <td>0</td>\n",
       "      <td>1</td>\n",
       "      <td>0</td>\n",
       "      <td>1</td>\n",
       "    </tr>\n",
       "    <tr>\n",
       "      <th>7029</th>\n",
       "      <td>29.60</td>\n",
       "      <td>346.45</td>\n",
       "      <td>0</td>\n",
       "      <td>0</td>\n",
       "      <td>337</td>\n",
       "      <td>0</td>\n",
       "      <td>0</td>\n",
       "      <td>1</td>\n",
       "      <td>0</td>\n",
       "      <td>1</td>\n",
       "      <td>...</td>\n",
       "      <td>1</td>\n",
       "      <td>0</td>\n",
       "      <td>1</td>\n",
       "      <td>0</td>\n",
       "      <td>1</td>\n",
       "      <td>0</td>\n",
       "      <td>1</td>\n",
       "      <td>0</td>\n",
       "      <td>0</td>\n",
       "      <td>0</td>\n",
       "    </tr>\n",
       "    <tr>\n",
       "      <th>7030</th>\n",
       "      <td>74.40</td>\n",
       "      <td>306.60</td>\n",
       "      <td>1</td>\n",
       "      <td>1</td>\n",
       "      <td>123</td>\n",
       "      <td>0</td>\n",
       "      <td>0</td>\n",
       "      <td>1</td>\n",
       "      <td>0</td>\n",
       "      <td>0</td>\n",
       "      <td>...</td>\n",
       "      <td>1</td>\n",
       "      <td>0</td>\n",
       "      <td>1</td>\n",
       "      <td>0</td>\n",
       "      <td>1</td>\n",
       "      <td>0</td>\n",
       "      <td>1</td>\n",
       "      <td>0</td>\n",
       "      <td>0</td>\n",
       "      <td>1</td>\n",
       "    </tr>\n",
       "    <tr>\n",
       "      <th>7031</th>\n",
       "      <td>105.65</td>\n",
       "      <td>6844.50</td>\n",
       "      <td>0</td>\n",
       "      <td>0</td>\n",
       "      <td>2010</td>\n",
       "      <td>0</td>\n",
       "      <td>1</td>\n",
       "      <td>1</td>\n",
       "      <td>0</td>\n",
       "      <td>0</td>\n",
       "      <td>...</td>\n",
       "      <td>0</td>\n",
       "      <td>1</td>\n",
       "      <td>0</td>\n",
       "      <td>1</td>\n",
       "      <td>0</td>\n",
       "      <td>1</td>\n",
       "      <td>0</td>\n",
       "      <td>1</td>\n",
       "      <td>1</td>\n",
       "      <td>0</td>\n",
       "    </tr>\n",
       "  </tbody>\n",
       "</table>\n",
       "<p>7032 rows × 30 columns</p>\n",
       "</div>"
      ],
      "text/plain": [
       "      monthly_charges  total_charges  left  senior_citizen   ltv  \\\n",
       "0               29.85          29.85     0               0    31   \n",
       "1               56.95        1889.50     0               0  1036   \n",
       "2               53.85         108.15     1               0    61   \n",
       "3               42.30        1840.75     0               0  1371   \n",
       "4               70.70         151.65     1               0    61   \n",
       "...               ...            ...   ...             ...   ...   \n",
       "7027            84.80        1990.50     0               0   730   \n",
       "7028           103.20        7362.90     0               0  2191   \n",
       "7029            29.60         346.45     0               0   337   \n",
       "7030            74.40         306.60     1               1   123   \n",
       "7031           105.65        6844.50     0               0  2010   \n",
       "\n",
       "      type_One year  type_Two year  paperless_billing_Yes  \\\n",
       "0                 0              0                      1   \n",
       "1                 1              0                      0   \n",
       "2                 0              0                      1   \n",
       "3                 1              0                      0   \n",
       "4                 0              0                      1   \n",
       "...             ...            ...                    ...   \n",
       "7027              1              0                      1   \n",
       "7028              1              0                      1   \n",
       "7029              0              0                      1   \n",
       "7030              0              0                      1   \n",
       "7031              0              1                      1   \n",
       "\n",
       "      payment_method_Credit card (automatic)  payment_method_Electronic check  \\\n",
       "0                                          0                                1   \n",
       "1                                          0                                0   \n",
       "2                                          0                                0   \n",
       "3                                          0                                0   \n",
       "4                                          0                                1   \n",
       "...                                      ...                              ...   \n",
       "7027                                       0                                0   \n",
       "7028                                       1                                0   \n",
       "7029                                       0                                1   \n",
       "7030                                       0                                0   \n",
       "7031                                       0                                0   \n",
       "\n",
       "      ...  device_protection_No  device_protection_Yes  tech_support_No  \\\n",
       "0     ...                     1                      0                1   \n",
       "1     ...                     0                      1                1   \n",
       "2     ...                     1                      0                1   \n",
       "3     ...                     0                      1                0   \n",
       "4     ...                     1                      0                1   \n",
       "...   ...                   ...                    ...              ...   \n",
       "7027  ...                     0                      1                0   \n",
       "7028  ...                     0                      1                1   \n",
       "7029  ...                     1                      0                1   \n",
       "7030  ...                     1                      0                1   \n",
       "7031  ...                     0                      1                0   \n",
       "\n",
       "      tech_support_Yes  streaming_tv_No  streaming_tv_Yes  \\\n",
       "0                    0                1                 0   \n",
       "1                    0                1                 0   \n",
       "2                    0                1                 0   \n",
       "3                    1                1                 0   \n",
       "4                    0                1                 0   \n",
       "...                ...              ...               ...   \n",
       "7027                 1                0                 1   \n",
       "7028                 0                0                 1   \n",
       "7029                 0                1                 0   \n",
       "7030                 0                1                 0   \n",
       "7031                 1                0                 1   \n",
       "\n",
       "      streaming_movies_No  streaming_movies_Yes  multiple_lines_No  \\\n",
       "0                       1                     0                  0   \n",
       "1                       1                     0                  1   \n",
       "2                       1                     0                  1   \n",
       "3                       1                     0                  0   \n",
       "4                       1                     0                  1   \n",
       "...                   ...                   ...                ...   \n",
       "7027                    0                     1                  0   \n",
       "7028                    0                     1                  0   \n",
       "7029                    1                     0                  0   \n",
       "7030                    1                     0                  0   \n",
       "7031                    0                     1                  1   \n",
       "\n",
       "      multiple_lines_Yes  \n",
       "0                      0  \n",
       "1                      0  \n",
       "2                      0  \n",
       "3                      0  \n",
       "4                      0  \n",
       "...                  ...  \n",
       "7027                   1  \n",
       "7028                   1  \n",
       "7029                   0  \n",
       "7030                   1  \n",
       "7031                   0  \n",
       "\n",
       "[7032 rows x 30 columns]"
      ]
     },
     "execution_count": 17,
     "metadata": {},
     "output_type": "execute_result"
    }
   ],
   "source": [
    "clean_data"
   ]
  },
  {
   "cell_type": "markdown",
   "metadata": {},
   "source": [
    "Данные предобработаны, датасет чистенький)\n",
    "\n",
    "### Анализ графиков\n",
    "\n",
    "Посмотрим на характерный разброс данных об оплатах клиентов"
   ]
  },
  {
   "cell_type": "code",
   "execution_count": 18,
   "metadata": {},
   "outputs": [
    {
     "data": {
      "text/plain": [
       "<AxesSubplot:xlabel='left', ylabel='total_charges'>"
      ]
     },
     "execution_count": 18,
     "metadata": {},
     "output_type": "execute_result"
    },
    {
     "data": {
      "image/png": "[encoded data removed]",
      "text/plain": [
       "<Figure size 432x288 with 1 Axes>"
      ]
     },
     "metadata": {
      "needs_background": "light"
     },
     "output_type": "display_data"
    }
   ],
   "source": [
    "sns.boxplot(x='left', y=\"total_charges\", data=clean_data)"
   ]
  },
  {
   "cell_type": "code",
   "execution_count": 19,
   "metadata": {},
   "outputs": [
    {
     "data": {
      "text/plain": [
       "<AxesSubplot:xlabel='left', ylabel='monthly_charges'>"
      ]
     },
     "execution_count": 19,
     "metadata": {},
     "output_type": "execute_result"
    },
    {
     "data": {
      "image/png": "[encoded data removed]",
      "text/plain": [
       "<Figure size 432x288 with 1 Axes>"
      ]
     },
     "metadata": {
      "needs_background": "light"
     },
     "output_type": "display_data"
    }
   ],
   "source": [
    "sns.boxplot(x='left', y=\"monthly_charges\", data=clean_data)"
   ]
  },
  {
   "cell_type": "markdown",
   "metadata": {},
   "source": [
    "Ушедшие клиенты, в среднем, суммарно платят меньше, что интуитивно понятно, а их средние помесячные платежи выше (на следующем шаге проверим, значима ли статистически эта разница). Возможно, причина их ухода - плохо подобранный тариф"
   ]
  },
  {
   "cell_type": "code",
   "execution_count": 20,
   "metadata": {},
   "outputs": [
    {
     "data": {
      "text/plain": [
       "<AxesSubplot:ylabel='left'>"
      ]
     },
     "execution_count": 20,
     "metadata": {},
     "output_type": "execute_result"
    },
    {
     "data": {
      "image/png": "[encoded data removed]",
      "text/plain": [
       "<Figure size 432x288 with 1 Axes>"
      ]
     },
     "metadata": {},
     "output_type": "display_data"
    }
   ],
   "source": [
    "clean_data['left'].value_counts().plot.pie(autopct=\"%.1f%%\")"
   ]
  },
  {
   "cell_type": "markdown",
   "metadata": {},
   "source": [
    "Это что тут у нас - это дисбаланс у целевого признака: в датасете почти в 3 раза больше данных о клиентах, не покинувших оператора. Поборемся с ним на следующем шаге."
   ]
  },
  {
   "cell_type": "markdown",
   "metadata": {},
   "source": [
    "Посмотрим на матрицу корреляций для количественных факторов"
   ]
  },
  {
   "cell_type": "code",
   "execution_count": 21,
   "metadata": {},
   "outputs": [
    {
     "data": {
      "text/html": [
       "<div>\n",
       "<style scoped>\n",
       "    .dataframe tbody tr th:only-of-type {\n",
       "        vertical-align: middle;\n",
       "    }\n",
       "\n",
       "    .dataframe tbody tr th {\n",
       "        vertical-align: top;\n",
       "    }\n",
       "\n",
       "    .dataframe thead th {\n",
       "        text-align: right;\n",
       "    }\n",
       "</style>\n",
       "<table border=\"1\" class=\"dataframe\">\n",
       "  <thead>\n",
       "    <tr style=\"text-align: right;\">\n",
       "      <th></th>\n",
       "      <th>monthly_charges</th>\n",
       "      <th>total_charges</th>\n",
       "      <th>ltv</th>\n",
       "    </tr>\n",
       "  </thead>\n",
       "  <tbody>\n",
       "    <tr>\n",
       "      <th>monthly_charges</th>\n",
       "      <td>1.000000</td>\n",
       "      <td>0.651065</td>\n",
       "      <td>0.246715</td>\n",
       "    </tr>\n",
       "    <tr>\n",
       "      <th>total_charges</th>\n",
       "      <td>0.651065</td>\n",
       "      <td>1.000000</td>\n",
       "      <td>0.825811</td>\n",
       "    </tr>\n",
       "    <tr>\n",
       "      <th>ltv</th>\n",
       "      <td>0.246715</td>\n",
       "      <td>0.825811</td>\n",
       "      <td>1.000000</td>\n",
       "    </tr>\n",
       "  </tbody>\n",
       "</table>\n",
       "</div>"
      ],
      "text/plain": [
       "                 monthly_charges  total_charges       ltv\n",
       "monthly_charges         1.000000       0.651065  0.246715\n",
       "total_charges           0.651065       1.000000  0.825811\n",
       "ltv                     0.246715       0.825811  1.000000"
      ]
     },
     "metadata": {},
     "output_type": "display_data"
    }
   ],
   "source": [
    "display(clean_data[['monthly_charges', 'total_charges', 'ltv']].corr())\n",
    "clean_data.drop(columns=['total_charges'],\n",
    "                inplace=True, errors='ignore')"
   ]
  },
  {
   "cell_type": "markdown",
   "metadata": {},
   "source": [
    "Когда количественные факторы имеют сильную корреляцию друг с другом - больше 0.8, нужно удалить лишнее, в нашем случае столбец - total_charges, поскольку суммарные выплаты - это произведение месячных выплат на время жизни клиента в месяцах с небольшим отклонением у некоторых клиентов, вызванным, возможно, пенями или чем-то подобным."
   ]
  },
  {
   "cell_type": "code",
   "execution_count": 22,
   "metadata": {},
   "outputs": [
    {
     "data": {
      "text/plain": [
       "<AxesSubplot:xlabel='left', ylabel='ltv'>"
      ]
     },
     "execution_count": 22,
     "metadata": {},
     "output_type": "execute_result"
    },
    {
     "data": {
      "image/png": "[encoded data removed]",
      "text/plain": [
       "<Figure size 432x288 with 1 Axes>"
      ]
     },
     "metadata": {
      "needs_background": "light"
     },
     "output_type": "display_data"
    }
   ],
   "source": [
    "sns.boxplot(x='left', y='ltv', data=clean_data)"
   ]
  },
  {
   "cell_type": "markdown",
   "metadata": {},
   "source": [
    "Видим, что среди ушедших (left=1) большинство тех, кто с оператором недавно (гипотеза проверена на следующем шаге). Для обучения важно, чтобы в датасете были представлены данные о клиентах, которые недавно с оператором, но все еще пользуются его услугами, проверим это."
   ]
  },
  {
   "cell_type": "code",
   "execution_count": 23,
   "metadata": {},
   "outputs": [
    {
     "data": {
      "text/plain": [
       "<AxesSubplot:ylabel='left'>"
      ]
     },
     "execution_count": 23,
     "metadata": {},
     "output_type": "execute_result"
    },
    {
     "data": {
      "image/png": "[encoded data removed]",
      "text/plain": [
       "<Figure size 432x288 with 1 Axes>"
      ]
     },
     "metadata": {},
     "output_type": "display_data"
    }
   ],
   "source": [
    "clean_data[clean_data['ltv'] <= 365]['left'].value_counts().plot.pie(autopct=\"%.1f%%\")"
   ]
  },
  {
   "cell_type": "markdown",
   "metadata": {},
   "source": [
    "Среди клиентов, которые с оператором до года, примерно поровну ушедших и оставшихся - в этом смысле датасет сбалансирован."
   ]
  },
  {
   "cell_type": "code",
   "execution_count": 24,
   "metadata": {},
   "outputs": [
    {
     "data": {
      "text/plain": [
       "<AxesSubplot:ylabel='left'>"
      ]
     },
     "execution_count": 24,
     "metadata": {},
     "output_type": "execute_result"
    },
    {
     "data": {
      "image/png": "[encoded data removed]",
      "text/plain": [
       "<Figure size 432x288 with 1 Axes>"
      ]
     },
     "metadata": {},
     "output_type": "display_data"
    }
   ],
   "source": [
    "clean_data[clean_data['ltv'] > 365]['left'].value_counts().plot.pie(autopct=\"%.1f%%\")"
   ]
  },
  {
   "cell_type": "markdown",
   "metadata": {},
   "source": [
    "А среди клиентов, которые с оператором больше года, почти в 5 раз больше тех, которые не уходят. Предсказывать клиентов, которые с оператором давно, но хотят уйти, будет сложнее."
   ]
  },
  {
   "cell_type": "markdown",
   "metadata": {},
   "source": [
    "### Аналитические методы проверки гипотез\n",
    "#### Гипотеза о равенстве средних ltv ушедших и оставшихся клиентов\n",
    "Разделим данные на 2 датасета: ltv ушедших и оставшихся клиентов. Проверим гипотезу о равенстве ltv двух групп пользователей."
   ]
  },
  {
   "cell_type": "code",
   "execution_count": 25,
   "metadata": {},
   "outputs": [
    {
     "name": "stdout",
     "output_type": "stream",
     "text": [
      "Дисперсия времени жизни ушедших клиентов 353109.9734320864\n",
      "Дисперсия времени жизни оставшихся клиентов 536852.9396376542\n",
      "Медианное время жизни ушедших клиентов 304.0\n",
      "Медианное время жизни оставшихся клиентов 1157.0\n"
     ]
    }
   ],
   "source": [
    "left_customer_ltv = clean_data[clean_data['left'] == 1]['ltv']\n",
    "customer_ltv = clean_data[clean_data['left'] == 0]['ltv']\n",
    "print('Дисперсия времени жизни ушедших клиентов', np.var(left_customer_ltv))\n",
    "print('Дисперсия времени жизни оставшихся клиентов', np.var(customer_ltv))\n",
    "print('Медианное время жизни ушедших клиентов', left_customer_ltv.median())\n",
    "print('Медианное время жизни оставшихся клиентов', customer_ltv.median())"
   ]
  },
  {
   "cell_type": "markdown",
   "metadata": {},
   "source": [
    "Медианное время жизни оставшихся с оператором клиентов почти в 4 раза превышает медианное время жизни ушедших клиентов. Проверим, значима ли статистически эта разница.\n",
    "\n",
    "Исходя из того, что нулевая гипотеза всегда формулирует равенство чего-то, а альтернативная может формулироваться как не равно, сформулируем нулевую гипотезу H₀ и альтернативную гипотезу H₁:\n",
    "\n",
    "- H₀: Среднее время жизни ушедших клиентов равно среднему времени жизни оставшихся.\n",
    "- H₁: Среднее время жизни ушедших клиентов не равно среднему времени жизни оставшихся.\n",
    "\n",
    "Критический уровень статистической значимости зададим значением 0.05. Дисперсии двух выборок различаются более чем на 5%, поэтому добавим в параметры теста equal_var = False."
   ]
  },
  {
   "cell_type": "code",
   "execution_count": 26,
   "metadata": {},
   "outputs": [
    {
     "name": "stdout",
     "output_type": "stream",
     "text": [
      "p-значение: 5.881089741944088e-235\n",
      "Отвергаем нулевую гипотезу\n"
     ]
    }
   ],
   "source": [
    "def ttest_ind(sample_1, sample_2):\n",
    "    alpha = .05\n",
    "    results = st.ttest_ind(sample_1, sample_2, equal_var = False)\n",
    "    print('p-значение:', results.pvalue)\n",
    "    if (results.pvalue < alpha):\n",
    "        print(\"Отвергаем нулевую гипотезу\")\n",
    "    else:\n",
    "        print(\"Не получилось отвергнуть нулевую гипотезу\")\n",
    "        \n",
    "ttest_ind(left_customer_ltv, customer_ltv)"
   ]
  },
  {
   "cell_type": "markdown",
   "metadata": {},
   "source": [
    "Очень низкое значение p-value говорит о том, что вероятность получить наблюдаемый результат при условии, что нулевая гипотеза верна, очень низкая. Другими словами, вероятность получить H₁ случайно очень низкая, значит, с большой долей вероятности, H₁ не случайна. Таким образом, мы отвергаем нулевую гипотезу.\n",
    "\n",
    "С вероятностью более 99% среднее время жизни ушедших клиентов отличается от среднего времени жизни оставшихся."
   ]
  },
  {
   "cell_type": "markdown",
   "metadata": {},
   "source": [
    "#### Гипотеза о равенстве средних помесячных платежей оставшихся и ушедших клиентов\n",
    "Аналогично проверим выше ли средние помесячные платежи у ушедших клиентов.\n",
    "\n",
    "- H₀: Средний помесячный платеж ушедших клиентов равен среднему помесячному платежу оставшихся.\n",
    "- H₁: Средний помесячный платеж ушедших клиентов не равен среднему помесячному платежу оставшихся."
   ]
  },
  {
   "cell_type": "code",
   "execution_count": 27,
   "metadata": {},
   "outputs": [
    {
     "name": "stdout",
     "output_type": "stream",
     "text": [
      "Дисперсия помесячных платежей ушедших клиентов 353109.9734320864\n",
      "Дисперсия помесячных платежей оставшихся клиентов 536852.9396376542\n",
      "Медианный помесячный платеж ушедших клиентов 304.0\n",
      "Медианный помесячный платеж оставшихся клиентов 1157.0\n",
      "p-значение: 2.657357144516026e-72\n",
      "Отвергаем нулевую гипотезу\n"
     ]
    }
   ],
   "source": [
    "print('Дисперсия помесячных платежей ушедших клиентов', np.var(left_customer_ltv))\n",
    "print('Дисперсия помесячных платежей оставшихся клиентов', np.var(customer_ltv))\n",
    "print('Медианный помесячный платеж ушедших клиентов', left_customer_ltv.median())\n",
    "print('Медианный помесячный платеж оставшихся клиентов', customer_ltv.median())\n",
    "left_customer_mc = clean_data[clean_data['left'] == 1]['monthly_charges']\n",
    "customer_mc = clean_data[clean_data['left'] == 0]['monthly_charges']\n",
    "ttest_ind(left_customer_mc, customer_mc)"
   ]
  },
  {
   "cell_type": "markdown",
   "metadata": {},
   "source": [
    "Можем сделать вывод, что с вероятностью более 99% средний ежемесячный платеж ушедших клиентов отличается от среднего ежемесячного платежа оставшихся."
   ]
  },
  {
   "cell_type": "markdown",
   "metadata": {},
   "source": [
    "## 2. Обучение модели"
   ]
  },
  {
   "cell_type": "code",
   "execution_count": 28,
   "metadata": {},
   "outputs": [],
   "source": [
    "# зафиксируем значение параметра random_state, чтобы результаты нашей работы были воспроизводимы\n",
    "state = 12345"
   ]
  },
  {
   "cell_type": "code",
   "execution_count": 29,
   "metadata": {},
   "outputs": [],
   "source": [
    "#отделим целевой признак\n",
    "target = clean_data['left']\n",
    "features = clean_data.drop(['left'], axis=1)"
   ]
  },
  {
   "cell_type": "markdown",
   "metadata": {},
   "source": [
    "Данные разбиваем только на 2 выборки: обучающую и тестовую, валидационная будет генерироваться на этапе кросс-валидации. Исходные данные разбиваем в соотношении 4:1 (80%:20%) стратифицированным способом, чтобы в обеих частях сохранялась одинаковая доля пользователей, покинувших оператора."
   ]
  },
  {
   "cell_type": "code",
   "execution_count": 30,
   "metadata": {},
   "outputs": [],
   "source": [
    "target_train, target_test, features_train, features_test = train_test_split(\n",
    "    target, features, random_state=state, test_size=.2, stratify=target)"
   ]
  },
  {
   "cell_type": "markdown",
   "metadata": {},
   "source": [
    "Для начала попробуем простые модели: случайный лес, логистическую регрессию и дерево принятия решений. Для подбора гиперпараметров используем GridSearchCV, чтобы полученная метрика была более стабильна на тестовой выборке"
   ]
  },
  {
   "cell_type": "code",
   "execution_count": 31,
   "metadata": {},
   "outputs": [],
   "source": [
    "scaler = ColumnTransformer(transformers=[(\n",
    "    'std', StandardScaler(),\n",
    "     ['monthly_charges', 'ltv'])],\n",
    "    remainder='passthrough')\n",
    "pipe_lr = Pipeline(steps=[('scale', scaler),\n",
    "                          ('lr', LogisticRegression(max_iter=10000, tol=0.1,\n",
    "                                                    random_state=state))])\n",
    "\n",
    "pipe_dt = Pipeline(steps=[('dt', DecisionTreeClassifier(random_state=state))])\n",
    "pipe_rf = Pipeline(steps=[('forest', RandomForestClassifier(random_state=state))])"
   ]
  },
  {
   "cell_type": "markdown",
   "metadata": {},
   "source": [
    "Для логистической регрессии необходимо масштабирование признаков - используем структуру StandardScaler, настраиваем скейлер внутри пайплайна, чтобы масштабирование данных проходило только на обучающих данных и не содержало данных о масштабе валидационных."
   ]
  },
  {
   "cell_type": "code",
   "execution_count": 32,
   "metadata": {},
   "outputs": [],
   "source": [
    "grid_params_rf = {'forest__n_estimators': range(1,100,10),\n",
    "                  'forest__max_depth': range(1,10,1),\n",
    "                  'forest__class_weight': ['balanced_subsample'],\n",
    "                  'forest__criterion': ['gini', 'entropy']}\n",
    "\n",
    "grid_params_lr = {'lr__penalty': ['l1', 'l2'],\n",
    "                  'lr__C': [1.0, 0.5],\n",
    "                  'lr__solver': ['liblinear'],\n",
    "                  'lr__class_weight': ['balanced']}\n",
    "\n",
    "grid_params_dt = {'dt__criterion': ['gini', 'entropy'],\n",
    "                  'dt__max_depth': range(1,10),\n",
    "                  'dt__class_weight': ['balanced']}\n",
    "\n",
    "RF = GridSearchCV(pipe_rf, grid_params_rf,\n",
    "                  cv=3, scoring='roc_auc')\n",
    "\n",
    "LR = GridSearchCV(pipe_lr, grid_params_lr,\n",
    "                  cv=3, scoring='roc_auc')\n",
    "\n",
    "DT = GridSearchCV(pipe_dt, grid_params_dt,\n",
    "                  cv=3, scoring='roc_auc')"
   ]
  },
  {
   "cell_type": "markdown",
   "metadata": {},
   "source": [
    "Добавим взвешивание классов, т.е. придадим объектам редкого класса больший вес, так как алгоритмы машинного обучения считают все объекты обучающей выборки равнозначными по умолчанию. Параметр class_weight есть у всех трех используемых нами моделей, если указать class_weight='balanced', то больший вес будет у редкого класса. Переходим к обучению"
   ]
  },
  {
   "cell_type": "code",
   "execution_count": 33,
   "metadata": {},
   "outputs": [
    {
     "name": "stdout",
     "output_type": "stream",
     "text": [
      "CPU times: user 1min, sys: 729 ms, total: 1min 1s\n",
      "Wall time: 59.4 s\n"
     ]
    },
    {
     "data": {
      "text/html": [
       "<div>\n",
       "<style scoped>\n",
       "    .dataframe tbody tr th:only-of-type {\n",
       "        vertical-align: middle;\n",
       "    }\n",
       "\n",
       "    .dataframe tbody tr th {\n",
       "        vertical-align: top;\n",
       "    }\n",
       "\n",
       "    .dataframe thead th {\n",
       "        text-align: right;\n",
       "    }\n",
       "</style>\n",
       "<table border=\"1\" class=\"dataframe\">\n",
       "  <thead>\n",
       "    <tr style=\"text-align: right;\">\n",
       "      <th></th>\n",
       "      <th>model</th>\n",
       "      <th>AUC-ROC best cross-val</th>\n",
       "      <th>accuracy train</th>\n",
       "      <th>AUC-ROC train</th>\n",
       "      <th>accuracy test</th>\n",
       "      <th>AUC-ROC test</th>\n",
       "    </tr>\n",
       "  </thead>\n",
       "  <tbody>\n",
       "    <tr>\n",
       "      <th>0</th>\n",
       "      <td>Random Forest</td>\n",
       "      <td>0.850839</td>\n",
       "      <td>0.788622</td>\n",
       "      <td>0.887105</td>\n",
       "      <td>0.771855</td>\n",
       "      <td>0.861922</td>\n",
       "    </tr>\n",
       "    <tr>\n",
       "      <th>1</th>\n",
       "      <td>Logistic Regression</td>\n",
       "      <td>0.841225</td>\n",
       "      <td>0.749333</td>\n",
       "      <td>0.844007</td>\n",
       "      <td>0.760483</td>\n",
       "      <td>0.850885</td>\n",
       "    </tr>\n",
       "    <tr>\n",
       "      <th>2</th>\n",
       "      <td>Decision Tree</td>\n",
       "      <td>0.837502</td>\n",
       "      <td>0.773511</td>\n",
       "      <td>0.874018</td>\n",
       "      <td>0.769723</td>\n",
       "      <td>0.857486</td>\n",
       "    </tr>\n",
       "  </tbody>\n",
       "</table>\n",
       "</div>"
      ],
      "text/plain": [
       "                 model  AUC-ROC best cross-val  accuracy train  AUC-ROC train  \\\n",
       "0        Random Forest                0.850839        0.788622       0.887105   \n",
       "1  Logistic Regression                0.841225        0.749333       0.844007   \n",
       "2        Decision Tree                0.837502        0.773511       0.874018   \n",
       "\n",
       "   accuracy test  AUC-ROC test  \n",
       "0       0.771855      0.861922  \n",
       "1       0.760483      0.850885  \n",
       "2       0.769723      0.857486  "
      ]
     },
     "execution_count": 33,
     "metadata": {},
     "output_type": "execute_result"
    }
   ],
   "source": [
    "%%time\n",
    "\n",
    "grids = [RF, LR, DT]\n",
    "\n",
    "grid_dict = {0: 'Random Forest', \n",
    "             1: 'Logistic Regression',\n",
    "             2: 'Decision Tree'}\n",
    "\n",
    "metrics_df = pd.DataFrame()\n",
    "\n",
    "for i, grid in enumerate(grids):\n",
    "    grid.fit(features_train, target_train)\n",
    "    metrics_df = metrics_df.append(pd.Series(\n",
    "        [grid_dict[i], grid.best_score_, \n",
    "         accuracy_score(target_train, grid.predict(features_train)),\n",
    "         grid.score(features_train, target_train),\n",
    "         accuracy_score(target_test, grid.predict(features_test)),\n",
    "         grid.score(features_test, target_test)]),\n",
    "                                   ignore_index=True)\n",
    "\n",
    "metrics_df.columns=['model', 'AUC-ROC best cross-val',\n",
    "                    'accuracy train', 'AUC-ROC train',\n",
    "                    'accuracy test', 'AUC-ROC test']\n",
    "metrics_df"
   ]
  },
  {
   "cell_type": "markdown",
   "metadata": {},
   "source": [
    "Хорошо, но не достаточно хорошо, попробуем более сложную модель - CatBoostClassifier"
   ]
  },
  {
   "cell_type": "code",
   "execution_count": 34,
   "metadata": {},
   "outputs": [
    {
     "name": "stdout",
     "output_type": "stream",
     "text": [
      "CPU times: user 3min 31s, sys: 14.4 s, total: 3min 45s\n",
      "Wall time: 1min 17s\n"
     ]
    }
   ],
   "source": [
    "%%time\n",
    "\n",
    "cat_boost = CatBoostClassifier(loss_function=\"Logloss\",\n",
    "                               verbose=0)\n",
    "grid_params_cbc = {'learning_rate': [0.03, 0.1],\n",
    "                   'depth': [5, 10]}\n",
    "\n",
    "CBC = GridSearchCV(cat_boost, grid_params_cbc,\n",
    "                   cv=3, scoring='roc_auc')\n",
    "CBC.fit(features_train, target_train)\n",
    "\n",
    "metrics_df = metrics_df.append(pd.Series([\n",
    "    'CatBoostClassifier',\n",
    "    CBC.best_score_,\n",
    "    accuracy_score(target_train, CBC.predict(features_train)),\n",
    "    CBC.score(features_train, target_train),\n",
    "    accuracy_score(target_test, CBC.predict(features_test)),\n",
    "    CBC.score(features_test, target_test)],\n",
    "    index=metrics_df.columns),\n",
    "                  ignore_index=True)"
   ]
  },
  {
   "cell_type": "code",
   "execution_count": 35,
   "metadata": {},
   "outputs": [
    {
     "data": {
      "text/html": [
       "<div>\n",
       "<style scoped>\n",
       "    .dataframe tbody tr th:only-of-type {\n",
       "        vertical-align: middle;\n",
       "    }\n",
       "\n",
       "    .dataframe tbody tr th {\n",
       "        vertical-align: top;\n",
       "    }\n",
       "\n",
       "    .dataframe thead th {\n",
       "        text-align: right;\n",
       "    }\n",
       "</style>\n",
       "<table border=\"1\" class=\"dataframe\">\n",
       "  <thead>\n",
       "    <tr style=\"text-align: right;\">\n",
       "      <th></th>\n",
       "      <th>model</th>\n",
       "      <th>AUC-ROC best cross-val</th>\n",
       "      <th>accuracy train</th>\n",
       "      <th>AUC-ROC train</th>\n",
       "      <th>accuracy test</th>\n",
       "      <th>AUC-ROC test</th>\n",
       "    </tr>\n",
       "  </thead>\n",
       "  <tbody>\n",
       "    <tr>\n",
       "      <th>0</th>\n",
       "      <td>Random Forest</td>\n",
       "      <td>0.850839</td>\n",
       "      <td>0.788622</td>\n",
       "      <td>0.887105</td>\n",
       "      <td>0.771855</td>\n",
       "      <td>0.861922</td>\n",
       "    </tr>\n",
       "    <tr>\n",
       "      <th>1</th>\n",
       "      <td>Logistic Regression</td>\n",
       "      <td>0.841225</td>\n",
       "      <td>0.749333</td>\n",
       "      <td>0.844007</td>\n",
       "      <td>0.760483</td>\n",
       "      <td>0.850885</td>\n",
       "    </tr>\n",
       "    <tr>\n",
       "      <th>2</th>\n",
       "      <td>Decision Tree</td>\n",
       "      <td>0.837502</td>\n",
       "      <td>0.773511</td>\n",
       "      <td>0.874018</td>\n",
       "      <td>0.769723</td>\n",
       "      <td>0.857486</td>\n",
       "    </tr>\n",
       "    <tr>\n",
       "      <th>3</th>\n",
       "      <td>CatBoostClassifier</td>\n",
       "      <td>0.909419</td>\n",
       "      <td>0.966578</td>\n",
       "      <td>0.995433</td>\n",
       "      <td>0.884861</td>\n",
       "      <td>0.926390</td>\n",
       "    </tr>\n",
       "  </tbody>\n",
       "</table>\n",
       "</div>"
      ],
      "text/plain": [
       "                 model  AUC-ROC best cross-val  accuracy train  AUC-ROC train  \\\n",
       "0        Random Forest                0.850839        0.788622       0.887105   \n",
       "1  Logistic Regression                0.841225        0.749333       0.844007   \n",
       "2        Decision Tree                0.837502        0.773511       0.874018   \n",
       "3   CatBoostClassifier                0.909419        0.966578       0.995433   \n",
       "\n",
       "   accuracy test  AUC-ROC test  \n",
       "0       0.771855      0.861922  \n",
       "1       0.760483      0.850885  \n",
       "2       0.769723      0.857486  \n",
       "3       0.884861      0.926390  "
      ]
     },
     "execution_count": 35,
     "metadata": {},
     "output_type": "execute_result"
    }
   ],
   "source": [
    "metrics_df"
   ]
  },
  {
   "cell_type": "code",
   "execution_count": 36,
   "metadata": {},
   "outputs": [
    {
     "name": "stdout",
     "output_type": "stream",
     "text": [
      "Точность CatBoostClassifier на тестовой выборке 0.8375796178343949\n",
      "Полнота CatBoostClassifier на тестовой выборке 0.7032085561497327\n"
     ]
    }
   ],
   "source": [
    "print('Точность CatBoostClassifier на тестовой выборке',\n",
    "      precision_score(target_test, CBC.predict(features_test)))\n",
    "print('Полнота CatBoostClassifier на тестовой выборке',\n",
    "      recall_score(target_test, CBC.predict(features_test)))"
   ]
  },
  {
   "cell_type": "markdown",
   "metadata": {},
   "source": [
    "Таким образом, наилучшее качество у модели CatBoostClassifier:\n",
    "\n",
    "значение метрик на тестовой выборке:\n",
    "\n",
    "* AUC-ROC - 0.93\n",
    "* accuracy - 0.88\n",
    "* precision - 0.84\n",
    "* recall - 0.7"
   ]
  },
  {
   "cell_type": "markdown",
   "metadata": {},
   "source": [
    "Проверим модель на адекватность с помощью DummyClassifier, генерирующего предсказания с учетом распределения классов обучающей выборки."
   ]
  },
  {
   "cell_type": "code",
   "execution_count": 37,
   "metadata": {},
   "outputs": [
    {
     "name": "stdout",
     "output_type": "stream",
     "text": [
      "Значение метрики AUC-ROC случайной модели на тестовой выборке: 0.505 \n",
      "Значение метрики accuracy случайной модели на тестовой выборке: 0.615 \n"
     ]
    }
   ],
   "source": [
    "dummy_clf = DummyClassifier(strategy=\"stratified\")\n",
    "dummy_clf.fit(features_train, target_train)\n",
    "dummy_predictions = dummy_clf.predict(features_test)\n",
    "print('Значение метрики AUC-ROC случайной модели на тестовой выборке: %.3f ' % \n",
    "      roc_auc_score(target_test, dummy_clf.predict_proba(features_test)[:, 1]))\n",
    "print('Значение метрики accuracy случайной модели на тестовой выборке: %.3f ' % \n",
    "      accuracy_score(target_test, dummy_predictions))"
   ]
  },
  {
   "cell_type": "markdown",
   "metadata": {},
   "source": [
    "Как видим, значение accuracy и AUC-ROC хуже полученной нами метрики."
   ]
  },
  {
   "cell_type": "markdown",
   "metadata": {},
   "source": [
    "### Анализ важности факторов модели"
   ]
  },
  {
   "cell_type": "markdown",
   "metadata": {},
   "source": [
    "Перейдем к анализу важности факторов с помощью команды  feature_importances_"
   ]
  },
  {
   "cell_type": "code",
   "execution_count": 38,
   "metadata": {},
   "outputs": [],
   "source": [
    "catboost_importances = pd.Series(CBC.best_estimator_.feature_importances_, index=features_train.columns)\n",
    "catboost_importances = catboost_importances.sort_values(ascending=False)"
   ]
  },
  {
   "cell_type": "code",
   "execution_count": 39,
   "metadata": {},
   "outputs": [
    {
     "data": {
      "text/plain": [
       "Text(0, 0.5, 'FEATURE NAMES')"
      ]
     },
     "execution_count": 39,
     "metadata": {},
     "output_type": "execute_result"
    },
    {
     "data": {
      "image/png": "[encoded data removed]",
      "text/plain": [
       "<Figure size 720x576 with 1 Axes>"
      ]
     },
     "metadata": {
      "needs_background": "light"
     },
     "output_type": "display_data"
    }
   ],
   "source": [
    "plt.figure(figsize=(10,8))\n",
    "sns.barplot(x=catboost_importances.values, y=catboost_importances.index)\n",
    "plt.title('FEATURE IMPORTANCE')\n",
    "plt.xlabel('FEATURE IMPORTANCE')\n",
    "plt.ylabel('FEATURE NAMES')"
   ]
  },
  {
   "cell_type": "markdown",
   "metadata": {},
   "source": [
    "Видим, что наиболее важные признаки для модели CatBoostClassifier - время жизни клиента, размер месячной оплаты, срок договора, тип подключения к интернету, подключена ли услуга блокировки небезопасных сайтов.\n",
    "\n",
    "Слабозначимы для модели, т.е. незначительно влияют на целевую переменную следующие признаки:\n",
    "* использует ли клиент облачное хранилище файлов для резервного копирования данных \n",
    "* антивирус\n",
    "* cтриминговое телевидение и каталог фильмов\n",
    "* выделенная линия технической поддержки\n",
    "* подключен ли клиент через телефонную линию\n",
    "* подключен ли телефонный аппарат к нескольким линиям одновременно\n",
    "* есть ли супруг/супруга\n",
    "\n",
    "Эти признаки смело можно убирать из модели - они не влияют на уход клиента."
   ]
  },
  {
   "cell_type": "markdown",
   "metadata": {},
   "source": [
    "## 3. Вывод\n",
    "\n",
    "На основе персональных данных пользователей, а также данных об их тарифах и договорах была построена модель для задачи классификации, которая может спрогнозировать, уйдёт клиент от оператора в ближайшее время или нет.\n",
    "\n",
    "Наилучшие метрики качества на тестовой выборке показал CatBoostClassifier:\n",
    "* AUC-ROC - 0.92\n",
    "* accuracy - 0.88\n",
    "* precision - 0.84\n",
    "* recall - 0.7\n",
    "\n",
    "Наиболее важные признаки для этой модели - время жизни клиента, размер месячной оплаты и срок договора.\n",
    "\n",
    "На уход клиента не влияет использует ли он:\n",
    "* облачное хранилище файлов для резервного копирования данных \n",
    "* антивирус\n",
    "* cтриминговое телевидение и каталог фильмов\n",
    "* выделенная линия технической поддержки\n",
    "* подключен ли клиент через телефонную линию\n",
    "* подключен ли телефонный аппарат к нескольким линиям одновременно\n",
    "* есть ли у него супруг/супруга\n",
    "\n",
    "Таким образом, модель поможет сохранять текущих клиентов: если выяснится, что пользователь планирует уйти, ему будут предложены промокоды и специальные условия."
   ]
  }
 ],
 "metadata": {
  "kernelspec": {
   "display_name": "Python 3",
   "language": "python",
   "name": "python3"
  },
  "language_info": {
   "codemirror_mode": {
    "name": "ipython",
    "version": 3
   },
   "file_extension": ".py",
   "mimetype": "text/x-python",
   "name": "python",
   "nbconvert_exporter": "python",
   "pygments_lexer": "ipython3",
   "version": "3.8.8"
  },
  "toc": {
   "base_numbering": 1,
   "nav_menu": {},
   "number_sections": true,
   "sideBar": true,
   "skip_h1_title": true,
   "title_cell": "Table of Contents",
   "title_sidebar": "Contents",
   "toc_cell": false,
   "toc_position": {},
   "toc_section_display": true,
   "toc_window_display": false
  }
 },
 "nbformat": 4,
 "nbformat_minor": 2
}
