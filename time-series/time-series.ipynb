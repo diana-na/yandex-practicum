{
 "cells": [
  {
   "cell_type": "markdown",
   "metadata": {},
   "source": [
    "## Описание проекта\n",
    "\n",
    "Компания «Чётенькое такси» собрала исторические данные о заказах такси в аэропортах. Чтобы привлекать больше водителей в период пиковой нагрузки, нужно спрогнозировать количество заказов такси на следующий час. Постройте модель для такого предсказания.\n",
    "\n",
    "Значение метрики *RMSE* на тестовой выборке должно быть не больше 48."
   ]
  },
  {
   "cell_type": "markdown",
   "metadata": {},
   "source": [
    "# 1. Подготовка"
   ]
  },
  {
   "cell_type": "code",
   "execution_count": 1,
   "metadata": {},
   "outputs": [],
   "source": [
    "import pandas as pd\n",
    "import numpy as np\n",
    "from statsmodels.tsa.seasonal import seasonal_decompose\n",
    "from sklearn.model_selection import train_test_split\n",
    "from sklearn.linear_model import LinearRegression\n",
    "from sklearn.ensemble import RandomForestRegressor\n",
    "from sklearn.metrics import mean_absolute_error, mean_squared_error\n",
    "from sklearn.pipeline import Pipeline\n",
    "from sklearn.compose import ColumnTransformer\n",
    "from sklearn.preprocessing import StandardScaler\n",
    "from sklearn.model_selection import RandomizedSearchCV, TimeSeriesSplit\n",
    "from sklearn.dummy import DummyRegressor\n",
    "from catboost import CatBoostRegressor\n",
    "from lightgbm import LGBMRegressor"
   ]
  },
  {
   "cell_type": "markdown",
   "metadata": {},
   "source": [
    "Ссылки на датасеты удалены из проекта, чтобы не нарушать авторские права Яндекса."
   ]
  },
  {
   "cell_type": "code",
   "execution_count": 2,
   "metadata": {},
   "outputs": [
    {
     "data": {
      "text/html": [
       "<div>\n",
       "<style scoped>\n",
       "    .dataframe tbody tr th:only-of-type {\n",
       "        vertical-align: middle;\n",
       "    }\n",
       "\n",
       "    .dataframe tbody tr th {\n",
       "        vertical-align: top;\n",
       "    }\n",
       "\n",
       "    .dataframe thead th {\n",
       "        text-align: right;\n",
       "    }\n",
       "</style>\n",
       "<table border=\"1\" class=\"dataframe\">\n",
       "  <thead>\n",
       "    <tr style=\"text-align: right;\">\n",
       "      <th></th>\n",
       "      <th>num_orders</th>\n",
       "    </tr>\n",
       "    <tr>\n",
       "      <th>datetime</th>\n",
       "      <th></th>\n",
       "    </tr>\n",
       "  </thead>\n",
       "  <tbody>\n",
       "    <tr>\n",
       "      <td>2018-03-01 00:00:00</td>\n",
       "      <td>9</td>\n",
       "    </tr>\n",
       "    <tr>\n",
       "      <td>2018-03-01 00:10:00</td>\n",
       "      <td>14</td>\n",
       "    </tr>\n",
       "    <tr>\n",
       "      <td>2018-03-01 00:20:00</td>\n",
       "      <td>28</td>\n",
       "    </tr>\n",
       "    <tr>\n",
       "      <td>2018-03-01 00:30:00</td>\n",
       "      <td>20</td>\n",
       "    </tr>\n",
       "    <tr>\n",
       "      <td>2018-03-01 00:40:00</td>\n",
       "      <td>32</td>\n",
       "    </tr>\n",
       "  </tbody>\n",
       "</table>\n",
       "</div>"
      ],
      "text/plain": [
       "                     num_orders\n",
       "datetime                       \n",
       "2018-03-01 00:00:00           9\n",
       "2018-03-01 00:10:00          14\n",
       "2018-03-01 00:20:00          28\n",
       "2018-03-01 00:30:00          20\n",
       "2018-03-01 00:40:00          32"
      ]
     },
     "execution_count": 2,
     "metadata": {},
     "output_type": "execute_result"
    }
   ],
   "source": [
    "data = pd.read_csv('/datasets/taxi.csv', index_col='datetime', parse_dates=True)\n",
    "data.head()"
   ]
  },
  {
   "cell_type": "markdown",
   "metadata": {},
   "source": [
    "Для того чтобы работать с датой и временем в pandas, нужно корректно изменить тип данных соответствующего столбца с *object* на *datetime64*, делаем это при чтении с помощью параметра 'parse_dates' и сразу устанавливаем дату индексом датафрейма с использованием 'index_col'."
   ]
  },
  {
   "cell_type": "code",
   "execution_count": 3,
   "metadata": {},
   "outputs": [
    {
     "data": {
      "text/plain": [
       "True"
      ]
     },
     "execution_count": 3,
     "metadata": {},
     "output_type": "execute_result"
    }
   ],
   "source": [
    "data.index.is_monotonic"
   ]
  },
  {
   "cell_type": "markdown",
   "metadata": {},
   "source": [
    "Проверили, в хронологическом ли порядке расположены даты и время - видим, что порядок соблюдён."
   ]
  },
  {
   "cell_type": "code",
   "execution_count": 5,
   "metadata": {},
   "outputs": [],
   "source": [
    "data = data.resample('1H').sum()"
   ]
  },
  {
   "cell_type": "markdown",
   "metadata": {},
   "source": [
    "Выполнили ресемплирование данных по одному часу, для вычисления агрегированных значений ряда использовали сумму."
   ]
  },
  {
   "cell_type": "markdown",
   "metadata": {},
   "source": [
    "# 2. Анализ"
   ]
  },
  {
   "cell_type": "code",
   "execution_count": 6,
   "metadata": {},
   "outputs": [
    {
     "name": "stdout",
     "output_type": "stream",
     "text": [
      "<class 'pandas.core.frame.DataFrame'>\n",
      "DatetimeIndex: 4416 entries, 2018-03-01 00:00:00 to 2018-08-31 23:00:00\n",
      "Freq: H\n",
      "Data columns (total 1 columns):\n",
      "num_orders    4416 non-null int64\n",
      "dtypes: int64(1)\n",
      "memory usage: 69.0 KB\n"
     ]
    }
   ],
   "source": [
    "data.info()"
   ]
  },
  {
   "cell_type": "markdown",
   "metadata": {},
   "source": [
    "У нас есть данные о суммарном количестве заказов такси в аэропортах за каждый час в период с 1 марта по 31 августа 2018 года."
   ]
  },
  {
   "cell_type": "code",
   "execution_count": 7,
   "metadata": {},
   "outputs": [
    {
     "data": {
      "text/html": [
       "<div>\n",
       "<style scoped>\n",
       "    .dataframe tbody tr th:only-of-type {\n",
       "        vertical-align: middle;\n",
       "    }\n",
       "\n",
       "    .dataframe tbody tr th {\n",
       "        vertical-align: top;\n",
       "    }\n",
       "\n",
       "    .dataframe thead th {\n",
       "        text-align: right;\n",
       "    }\n",
       "</style>\n",
       "<table border=\"1\" class=\"dataframe\">\n",
       "  <thead>\n",
       "    <tr style=\"text-align: right;\">\n",
       "      <th></th>\n",
       "      <th>num_orders</th>\n",
       "    </tr>\n",
       "  </thead>\n",
       "  <tbody>\n",
       "    <tr>\n",
       "      <td>count</td>\n",
       "      <td>4416.000000</td>\n",
       "    </tr>\n",
       "    <tr>\n",
       "      <td>mean</td>\n",
       "      <td>84.422781</td>\n",
       "    </tr>\n",
       "    <tr>\n",
       "      <td>std</td>\n",
       "      <td>45.023853</td>\n",
       "    </tr>\n",
       "    <tr>\n",
       "      <td>min</td>\n",
       "      <td>0.000000</td>\n",
       "    </tr>\n",
       "    <tr>\n",
       "      <td>25%</td>\n",
       "      <td>54.000000</td>\n",
       "    </tr>\n",
       "    <tr>\n",
       "      <td>50%</td>\n",
       "      <td>78.000000</td>\n",
       "    </tr>\n",
       "    <tr>\n",
       "      <td>75%</td>\n",
       "      <td>107.000000</td>\n",
       "    </tr>\n",
       "    <tr>\n",
       "      <td>max</td>\n",
       "      <td>462.000000</td>\n",
       "    </tr>\n",
       "  </tbody>\n",
       "</table>\n",
       "</div>"
      ],
      "text/plain": [
       "        num_orders\n",
       "count  4416.000000\n",
       "mean     84.422781\n",
       "std      45.023853\n",
       "min       0.000000\n",
       "25%      54.000000\n",
       "50%      78.000000\n",
       "75%     107.000000\n",
       "max     462.000000"
      ]
     },
     "execution_count": 7,
     "metadata": {},
     "output_type": "execute_result"
    }
   ],
   "source": [
    "data.describe()"
   ]
  },
  {
   "cell_type": "code",
   "execution_count": 8,
   "metadata": {},
   "outputs": [
    {
     "data": {
      "text/plain": [
       "<matplotlib.axes._subplots.AxesSubplot at 0x7fc0c27dd410>"
      ]
     },
     "execution_count": 8,
     "metadata": {},
     "output_type": "execute_result"
    },
    {
     "data": {
      "image/png": "[encoded data removed]",
      "text/plain": [
       "<Figure size 432x288 with 1 Axes>"
      ]
     },
     "metadata": {
      "needs_background": "light"
     },
     "output_type": "display_data"
    }
   ],
   "source": [
    "data.boxplot()"
   ]
  },
  {
   "cell_type": "markdown",
   "metadata": {},
   "source": [
    "Видим, что в данных есть выбросы: 75% значений значительно меньше максимального числа заказов. Попробуем понять, с чем связаны пиковые нагрузки в такси. Увидеть циклично повторяющиеся закономерности во временном ряду мы можем только, если цикл меньше года, поскольку у нас есть данные только за один год.\n",
    "\n",
    "Разложим временной ряд на три составляющие: тренд, сезонность и остаток."
   ]
  },
  {
   "cell_type": "code",
   "execution_count": 9,
   "metadata": {},
   "outputs": [
    {
     "data": {
      "text/plain": [
       "<matplotlib.axes._subplots.AxesSubplot at 0x7fc0c2d6aa90>"
      ]
     },
     "execution_count": 9,
     "metadata": {},
     "output_type": "execute_result"
    },
    {
     "data": {
      "image/png": "[encoded data removed]",
      "text/plain": [
       "<Figure size 432x288 with 1 Axes>"
      ]
     },
     "metadata": {
      "needs_background": "light"
     },
     "output_type": "display_data"
    }
   ],
   "source": [
    "data.plot()"
   ]
  },
  {
   "cell_type": "code",
   "execution_count": 10,
   "metadata": {},
   "outputs": [
    {
     "data": {
      "text/plain": [
       "<matplotlib.axes._subplots.AxesSubplot at 0x7fc0b9bbe2d0>"
      ]
     },
     "execution_count": 10,
     "metadata": {},
     "output_type": "execute_result"
    },
    {
     "data": {
      "image/png": "[encoded data removed]",
      "text/plain": [
       "<Figure size 432x288 with 1 Axes>"
      ]
     },
     "metadata": {
      "needs_background": "light"
     },
     "output_type": "display_data"
    },
    {
     "data": {
      "image/png": "[encoded data removed]",
      "text/plain": [
       "<Figure size 432x288 with 1 Axes>"
      ]
     },
     "metadata": {
      "needs_background": "light"
     },
     "output_type": "display_data"
    }
   ],
   "source": [
    "decomposed = seasonal_decompose(data)\n",
    "decomposed.trend.plot()\n",
    "decomposed.seasonal.plot()"
   ]
  },
  {
   "cell_type": "markdown",
   "metadata": {},
   "source": [
    "Видим, что увеличение числа заказов к лету — это тренд. Возможно, если бы мы анализировали эти данные в масштабе нескольких лет, рост числа заказов к лету стал бы уже сезонным изменением. Попробуем посмотреть, есть ли сезонность в рамках месяца."
   ]
  },
  {
   "cell_type": "code",
   "execution_count": 11,
   "metadata": {},
   "outputs": [
    {
     "data": {
      "text/plain": [
       "<matplotlib.axes._subplots.AxesSubplot at 0x7fc0b9a85fd0>"
      ]
     },
     "execution_count": 11,
     "metadata": {},
     "output_type": "execute_result"
    },
    {
     "data": {
      "image/png": "[encoded data removed]",
      "text/plain": [
       "<Figure size 432x288 with 1 Axes>"
      ]
     },
     "metadata": {
      "needs_background": "light"
     },
     "output_type": "display_data"
    }
   ],
   "source": [
    "decomposed.seasonal['2018-03-01':'2018-04-01'].plot()"
   ]
  },
  {
   "cell_type": "markdown",
   "metadata": {},
   "source": [
    "Во временном ряду есть циклично повторяющиеся закономерности, такие сезонные условия добавляются для каждого месяца в каждом году, но они сложно интерпретируемы, посмотрим в рамках дня."
   ]
  },
  {
   "cell_type": "code",
   "execution_count": 12,
   "metadata": {},
   "outputs": [
    {
     "data": {
      "text/plain": [
       "<matplotlib.axes._subplots.AxesSubplot at 0x7fc0b99db810>"
      ]
     },
     "execution_count": 12,
     "metadata": {},
     "output_type": "execute_result"
    },
    {
     "data": {
      "image/png": "[encoded data removed]",
      "text/plain": [
       "<Figure size 432x288 with 1 Axes>"
      ]
     },
     "metadata": {
      "needs_background": "light"
     },
     "output_type": "display_data"
    }
   ],
   "source": [
    "decomposed.seasonal['2018-04-01':'2018-04-01'].plot()"
   ]
  },
  {
   "cell_type": "markdown",
   "metadata": {},
   "source": [
    "Также видим, что в рамках дня присутствует цикличность: пиковые значения наблюдаются в полночь, когда сложно добраться до города из аэропорта на общественном транспорте, но, возможно, это не связанно. Иногда пики компенсируются трендом и становятся не заметны. Посмотрим на остаток - компоненту, которая не объясняется трендом и сезонностью. Пошумим, другими словами."
   ]
  },
  {
   "cell_type": "code",
   "execution_count": 13,
   "metadata": {},
   "outputs": [
    {
     "data": {
      "text/plain": [
       "<matplotlib.axes._subplots.AxesSubplot at 0x7fc0b994bf90>"
      ]
     },
     "execution_count": 13,
     "metadata": {},
     "output_type": "execute_result"
    },
    {
     "data": {
      "image/png": "[encoded data removed]",
      "text/plain": [
       "<Figure size 432x288 with 1 Axes>"
      ]
     },
     "metadata": {
      "needs_background": "light"
     },
     "output_type": "display_data"
    }
   ],
   "source": [
    "decomposed.resid.plot()"
   ]
  },
  {
   "cell_type": "markdown",
   "metadata": {},
   "source": [
    "# 3. Обучение"
   ]
  },
  {
   "cell_type": "code",
   "execution_count": 14,
   "metadata": {},
   "outputs": [],
   "source": [
    "# зафиксируем значение параметра random_state, чтобы результаты нашей работы были воспроизводимы\n",
    "state = 12345"
   ]
  },
  {
   "cell_type": "markdown",
   "metadata": {},
   "source": [
    "Создадим признаки: \n",
    "\n",
    "Тренды и сезонность привязаны к датам, индексы датафрейма уже содержат нужную информацию, осталось лишь представить её как отдельные столбцы - получим календарные признаки.\n",
    "\n",
    "Предыдущие значения временного ряда подскажут, будет ли число заказов расти или уменьшаться. Получим отстающие значения функцией *shift()* - получим lag features.\n",
    "\n",
    "Также добавим скользящее среднее, которое как признак задаёт общий тренд временного ряда. Скользящее среднее учитывает текущее значение ряда, что некорректно: целевой признак утечет - поэтому воспользуемся функцией shift.\n",
    "\n",
    "Количество отстающих признаков и окно для скользящего среднего возьмем равным 24, поскольку в рамках дня наблюдается цикличность."
   ]
  },
  {
   "cell_type": "code",
   "execution_count": 27,
   "metadata": {},
   "outputs": [],
   "source": [
    "def make_features(data, max_lag, rolling_mean_size):\n",
    "    data['year'] = data.index.year\n",
    "    data['month'] = data.index.month\n",
    "    data['day'] = data.index.day\n",
    "    data['dayofweek'] = data.index.dayofweek\n",
    "    \n",
    "    for i in range(1, max_lag+1):\n",
    "        data['lag_{}'.format(i)] = data['num_orders'].shift(i)\n",
    "        \n",
    "    data['rolling_mean'] = data['num_orders'].shift().rolling(rolling_mean_size).mean()\n",
    "    \n",
    "make_features(data, 24, 24)\n",
    "data.dropna(inplace=True)"
   ]
  },
  {
   "cell_type": "markdown",
   "metadata": {},
   "source": [
    "Разделим данные на обучающую (*train*) и тестовую (*test*) выборки. Перемешивать выборки в задаче прогнозирования временного ряда нельзя. Данные обучающей выборки должны предшествовать данным тестовой. Иначе тестирование модели будет некорректным: модель не должна обучаться на данных из будущего, поэтому укажем аргумент *shuffle = False*, чтобы разделить данные корректно. Сделаем тестовую выборку размером 10% от исходных данных."
   ]
  },
  {
   "cell_type": "code",
   "execution_count": 17,
   "metadata": {},
   "outputs": [],
   "source": [
    "target = data['num_orders']\n",
    "features = data.drop('num_orders', axis=1)\n",
    "target_train, target_test, features_train, features_test = train_test_split(\n",
    "    target, features, test_size=0.1, shuffle=False)"
   ]
  },
  {
   "cell_type": "markdown",
   "metadata": {},
   "source": [
    "Обучим 4 модели:\n",
    "\n",
    "- Линейную регрессию\n",
    "- Случайный лес\n",
    "- Модель градиентного бустинга с использованием библиотеки CatBoost\n",
    "- Модель градиентного бустинга с использованием библиотеки LightGBM\n",
    "\n",
    "Для каждой попробуем различные гиперпараметры."
   ]
  },
  {
   "cell_type": "code",
   "execution_count": 19,
   "metadata": {},
   "outputs": [],
   "source": [
    "lr = LinearRegression()\n",
    "lr.fit(features_train, target_train)\n",
    "predictions = lr.predict(features_test)"
   ]
  },
  {
   "attachments": {
    "image.png": {
     "image/png": "[encoded data removed]"
    }
   },
   "cell_type": "markdown",
   "metadata": {},
   "source": [
    "В случае временных рядов кросс-валидация не является тривиальной. Мы не можем выбрать случайные фолды, потому что нет смысла использовать значения из будущего для прогнозирования значений в прошлом. Проще говоря, мы не хотим заглядывать в будущее при обучении нашей модели. Между наблюдениями существует временная зависимость, и мы должны сохранять эту связь во время тестирования, с этим нам поможет параметр cv=TimeSeriesSplit(n_splits=3).\n",
    "\n",
    "![image.png](attachment:image.png)"
   ]
  },
  {
   "cell_type": "code",
   "execution_count": 20,
   "metadata": {},
   "outputs": [
    {
     "name": "stdout",
     "output_type": "stream",
     "text": [
      "CPU times: user 31.4 s, sys: 34.5 ms, total: 31.4 s\n",
      "Wall time: 32 s\n"
     ]
    },
    {
     "data": {
      "text/plain": [
       "RandomizedSearchCV(cv=TimeSeriesSplit(max_train_size=None, n_splits=3),\n",
       "                   error_score='raise-deprecating',\n",
       "                   estimator=RandomForestRegressor(bootstrap=True,\n",
       "                                                   criterion='mse',\n",
       "                                                   max_depth=None,\n",
       "                                                   max_features='auto',\n",
       "                                                   max_leaf_nodes=None,\n",
       "                                                   min_impurity_decrease=0.0,\n",
       "                                                   min_impurity_split=None,\n",
       "                                                   min_samples_leaf=1,\n",
       "                                                   min_samples_split=2,\n",
       "                                                   min_weight_fraction_leaf=0.0,\n",
       "                                                   n_estimators='warn',\n",
       "                                                   n_jobs=None, oob_score=False,\n",
       "                                                   random_state=None, verbose=0,\n",
       "                                                   warm_start=False),\n",
       "                   iid='warn', n_iter=20, n_jobs=None,\n",
       "                   param_distributions={'n_estimators': range(1, 30)},\n",
       "                   pre_dispatch='2*n_jobs', random_state=12345, refit=True,\n",
       "                   return_train_score=False, scoring='neg_mean_squared_error',\n",
       "                   verbose=0)"
      ]
     },
     "execution_count": 20,
     "metadata": {},
     "output_type": "execute_result"
    }
   ],
   "source": [
    "%%time\n",
    "\n",
    "grid_params_rf = {'n_estimators': range(1,30,1)}\n",
    "\n",
    "rf = RandomizedSearchCV(RandomForestRegressor(), grid_params_rf,\n",
    "                  cv=TimeSeriesSplit(n_splits=3), scoring='neg_mean_squared_error', n_iter=20, random_state=state)\n",
    "rf.fit(features_train, target_train)"
   ]
  },
  {
   "cell_type": "code",
   "execution_count": 21,
   "metadata": {},
   "outputs": [],
   "source": [
    "grid = {'learning_rate': [0.03, 0.1],\n",
    "        'depth': [5, 10]}"
   ]
  },
  {
   "cell_type": "code",
   "execution_count": 22,
   "metadata": {},
   "outputs": [
    {
     "name": "stdout",
     "output_type": "stream",
     "text": [
      "0:\tloss: 40.5692820\tbest: 40.5692820 (0)\ttotal: 3.18s\tremaining: 9.55s\n",
      "1:\tloss: 34.7888232\tbest: 34.7888232 (1)\ttotal: 5.07s\tremaining: 5.07s\n",
      "2:\tloss: 44.2093119\tbest: 34.7888232 (1)\ttotal: 21.4s\tremaining: 7.12s\n",
      "3:\tloss: 38.7128191\tbest: 34.7888232 (1)\ttotal: 37.9s\tremaining: 0us\n",
      "Estimating final quality...\n",
      "CPU times: user 43.1 s, sys: 2.9 s, total: 46 s\n",
      "Wall time: 54.1 s\n"
     ]
    }
   ],
   "source": [
    "%%time\n",
    "\n",
    "cat_boost = CatBoostRegressor(iterations=100)\n",
    "cat_boost_search = cat_boost.randomized_search(grid,\n",
    "                                               cv=TimeSeriesSplit(n_splits=3),\n",
    "                                               X=features_train,\n",
    "                                               y=target_train)"
   ]
  },
  {
   "cell_type": "code",
   "execution_count": 23,
   "metadata": {},
   "outputs": [
    {
     "name": "stdout",
     "output_type": "stream",
     "text": [
      "CPU times: user 12 s, sys: 147 ms, total: 12.1 s\n",
      "Wall time: 12.2 s\n"
     ]
    },
    {
     "data": {
      "text/plain": [
       "RandomizedSearchCV(cv=TimeSeriesSplit(max_train_size=None, n_splits=3),\n",
       "                   error_score='raise-deprecating',\n",
       "                   estimator=LGBMRegressor(boosting_type='gbdt',\n",
       "                                           class_weight=None,\n",
       "                                           colsample_bytree=1.0,\n",
       "                                           importance_type='split',\n",
       "                                           learning_rate=0.1, max_depth=-1,\n",
       "                                           min_child_samples=20,\n",
       "                                           min_child_weight=0.001,\n",
       "                                           min_split_gain=0.0, n_estimators=100,\n",
       "                                           n_jobs=-1, num_leaves=31,\n",
       "                                           objective=None, random_state=None,\n",
       "                                           reg_alpha=0.0, reg_lambda=0.0,\n",
       "                                           silent=True, subsample=1.0,\n",
       "                                           subsample_for_bin=200000,\n",
       "                                           subsample_freq=0),\n",
       "                   iid='warn', n_iter=2, n_jobs=None,\n",
       "                   param_distributions={'depth': [5, 10],\n",
       "                                        'learning_rate': [0.03, 0.1]},\n",
       "                   pre_dispatch='2*n_jobs', random_state=12345, refit=True,\n",
       "                   return_train_score=False, scoring=None, verbose=0)"
      ]
     },
     "execution_count": 23,
     "metadata": {},
     "output_type": "execute_result"
    }
   ],
   "source": [
    "%%time\n",
    "\n",
    "lgbm = LGBMRegressor()\n",
    "lgbm_search = RandomizedSearchCV(lgbm, grid,\n",
    "                  cv=TimeSeriesSplit(n_splits=3), n_iter=2, random_state=state)\n",
    "lgbm_search.fit(features_train, target_train)"
   ]
  },
  {
   "cell_type": "raw",
   "metadata": {},
   "source": [
    "Таким образом, мы обучили 4 модели, проверим теперь данные на тестовой выборке."
   ]
  },
  {
   "cell_type": "markdown",
   "metadata": {},
   "source": [
    "# 4. Тестирование"
   ]
  },
  {
   "cell_type": "markdown",
   "metadata": {},
   "source": [
    "Спрогнозируем временной ряд без обучения, предсказывая все значения тестовой выборки константой — последним значением ряда из тренировочной выборки, чтобы было с чем сравнить значения, полученные при обучении моделей."
   ]
  },
  {
   "cell_type": "code",
   "execution_count": 24,
   "metadata": {},
   "outputs": [
    {
     "data": {
      "text/plain": [
       "DummyRegressor(constant=array(175), quantile=None, strategy='constant')"
      ]
     },
     "execution_count": 24,
     "metadata": {},
     "output_type": "execute_result"
    }
   ],
   "source": [
    "dummy = DummyRegressor(strategy='constant', constant=target_train.iloc[-1])\n",
    "dummy.fit(features_train, target_train)"
   ]
  },
  {
   "cell_type": "markdown",
   "metadata": {},
   "source": [
    "Соберем метрики всех моделей в одну таблицу."
   ]
  },
  {
   "cell_type": "code",
   "execution_count": 25,
   "metadata": {},
   "outputs": [],
   "source": [
    "def rmse(model, features, target):\n",
    "    pred = model.predict(features)\n",
    "    return mean_squared_error(target, pred) ** 0.5"
   ]
  },
  {
   "cell_type": "code",
   "execution_count": 26,
   "metadata": {},
   "outputs": [],
   "source": [
    "rmse_list = []\n",
    "models = {'Linear Regression': lr,\n",
    "          'Random Forest': rf,\n",
    "          'CatBoostRegressor': cat_boost, \n",
    "          'LGBMRegressor': lgbm_search,\n",
    "          'Dummy': dummy}\n",
    "for i in models.keys():\n",
    "    rmse_list.append(\n",
    "        [i, \n",
    "         rmse(models[i], features_test, target_test),\n",
    "         mean_absolute_error(models[i].predict(features_test), target_test)])"
   ]
  },
  {
   "cell_type": "code",
   "execution_count": 27,
   "metadata": {},
   "outputs": [
    {
     "data": {
      "text/html": [
       "<div>\n",
       "<style scoped>\n",
       "    .dataframe tbody tr th:only-of-type {\n",
       "        vertical-align: middle;\n",
       "    }\n",
       "\n",
       "    .dataframe tbody tr th {\n",
       "        vertical-align: top;\n",
       "    }\n",
       "\n",
       "    .dataframe thead th {\n",
       "        text-align: right;\n",
       "    }\n",
       "</style>\n",
       "<table border=\"1\" class=\"dataframe\">\n",
       "  <thead>\n",
       "    <tr style=\"text-align: right;\">\n",
       "      <th></th>\n",
       "      <th>model</th>\n",
       "      <th>rmse</th>\n",
       "      <th>mae</th>\n",
       "    </tr>\n",
       "  </thead>\n",
       "  <tbody>\n",
       "    <tr>\n",
       "      <td>0</td>\n",
       "      <td>Linear Regression</td>\n",
       "      <td>45.542447</td>\n",
       "      <td>33.380970</td>\n",
       "    </tr>\n",
       "    <tr>\n",
       "      <td>1</td>\n",
       "      <td>Random Forest</td>\n",
       "      <td>43.269189</td>\n",
       "      <td>32.033654</td>\n",
       "    </tr>\n",
       "    <tr>\n",
       "      <td>2</td>\n",
       "      <td>CatBoostRegressor</td>\n",
       "      <td>43.802420</td>\n",
       "      <td>32.322224</td>\n",
       "    </tr>\n",
       "    <tr>\n",
       "      <td>3</td>\n",
       "      <td>LGBMRegressor</td>\n",
       "      <td>41.520734</td>\n",
       "      <td>30.636931</td>\n",
       "    </tr>\n",
       "    <tr>\n",
       "      <td>4</td>\n",
       "      <td>Dummy</td>\n",
       "      <td>68.508941</td>\n",
       "      <td>55.315909</td>\n",
       "    </tr>\n",
       "  </tbody>\n",
       "</table>\n",
       "</div>"
      ],
      "text/plain": [
       "               model       rmse        mae\n",
       "0  Linear Regression  45.542447  33.380970\n",
       "1      Random Forest  43.269189  32.033654\n",
       "2  CatBoostRegressor  43.802420  32.322224\n",
       "3      LGBMRegressor  41.520734  30.636931\n",
       "4              Dummy  68.508941  55.315909"
      ]
     },
     "execution_count": 27,
     "metadata": {},
     "output_type": "execute_result"
    }
   ],
   "source": [
    "pd.DataFrame(rmse_list, columns =['model', 'rmse', 'mae'])"
   ]
  },
  {
   "cell_type": "code",
   "execution_count": 28,
   "metadata": {},
   "outputs": [
    {
     "name": "stdout",
     "output_type": "stream",
     "text": [
      "Среднее количество заказов в час: 139.56136363636364\n"
     ]
    }
   ],
   "source": [
    "print(\"Среднее количество заказов в час:\", target_test.mean())"
   ]
  },
  {
   "cell_type": "markdown",
   "metadata": {},
   "source": [
    "Видим, что лучшие результаты показывает LGBMRegressor, хотя все модели преодолели пороговое значение метрики RMSE на тестовой выборке - 48.\n",
    "\n",
    "Таким образом, компании «Чётенькое такси» можно порекомендовать привлекать в аэропорт больше водителей в период пиковой нагрузки на основе прогнозов количества заказов такси на следующий час модели градиентного бустинга (с использованием библиотеки LightGBM). Модель для такого предсказания может быть обучена на собранных исторических данных о заказах такси в аэропортах."
   ]
  }
 ],
 "metadata": {
  "ExecuteTimeLog": [
   {
    "duration": 1148,
    "start_time": "2021-08-26T11:40:58.755Z"
   },
   {
    "duration": 46,
    "start_time": "2021-08-26T11:40:59.905Z"
   },
   {
    "duration": 4,
    "start_time": "2021-08-26T11:40:59.953Z"
   },
   {
    "duration": 5,
    "start_time": "2021-08-26T11:40:59.959Z"
   },
   {
    "duration": 19,
    "start_time": "2021-08-26T11:40:59.966Z"
   },
   {
    "duration": 6,
    "start_time": "2021-08-26T11:40:59.987Z"
   },
   {
    "duration": 14,
    "start_time": "2021-08-26T11:40:59.994Z"
   },
   {
    "duration": 219,
    "start_time": "2021-08-26T11:41:00.010Z"
   },
   {
    "duration": 293,
    "start_time": "2021-08-26T11:41:00.232Z"
   },
   {
    "duration": 661,
    "start_time": "2021-08-26T11:41:00.527Z"
   },
   {
    "duration": 315,
    "start_time": "2021-08-26T11:41:01.190Z"
   },
   {
    "duration": 206,
    "start_time": "2021-08-26T11:41:01.506Z"
   },
   {
    "duration": 308,
    "start_time": "2021-08-26T11:41:01.714Z"
   },
   {
    "duration": 3,
    "start_time": "2021-08-26T11:41:02.024Z"
   },
   {
    "duration": 9,
    "start_time": "2021-08-26T11:41:07.085Z"
   },
   {
    "duration": 28,
    "start_time": "2021-08-26T11:41:19.475Z"
   },
   {
    "duration": 29,
    "start_time": "2021-08-26T11:41:27.357Z"
   },
   {
    "duration": 29,
    "start_time": "2021-08-26T11:42:39.613Z"
   },
   {
    "duration": 27,
    "start_time": "2021-08-26T11:42:51.261Z"
   },
   {
    "duration": 7,
    "start_time": "2021-08-26T11:44:03.735Z"
   },
   {
    "duration": 11,
    "start_time": "2021-08-26T11:44:15.193Z"
   },
   {
    "duration": 10,
    "start_time": "2021-08-26T11:45:06.984Z"
   },
   {
    "duration": 8,
    "start_time": "2021-08-26T11:45:31.915Z"
   },
   {
    "duration": 10,
    "start_time": "2021-08-26T11:45:47.583Z"
   },
   {
    "duration": 9,
    "start_time": "2021-08-26T11:45:53.835Z"
   },
   {
    "duration": 10,
    "start_time": "2021-08-26T11:45:58.090Z"
   },
   {
    "duration": 18,
    "start_time": "2021-08-26T11:46:15.544Z"
   }
  ],
  "kernelspec": {
   "display_name": "Python 3",
   "language": "python",
   "name": "python3"
  },
  "language_info": {
   "codemirror_mode": {
    "name": "ipython",
    "version": 3
   },
   "file_extension": ".py",
   "mimetype": "text/x-python",
   "name": "python",
   "nbconvert_exporter": "python",
   "pygments_lexer": "ipython3",
   "version": "3.8.8"
  },
  "toc": {
   "base_numbering": 1,
   "nav_menu": {},
   "number_sections": true,
   "sideBar": true,
   "skip_h1_title": true,
   "title_cell": "Table of Contents",
   "title_sidebar": "Contents",
   "toc_cell": false,
   "toc_position": {},
   "toc_section_display": true,
   "toc_window_display": false
  }
 },
 "nbformat": 4,
 "nbformat_minor": 2
}
